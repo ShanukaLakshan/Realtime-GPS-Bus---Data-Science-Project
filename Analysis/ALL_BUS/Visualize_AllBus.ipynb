{
 "cells": [
  {
   "cell_type": "code",
   "execution_count": 1,
   "metadata": {},
   "outputs": [],
   "source": [
    "import pandas as pd\n",
    "import numpy as np\n",
    "import matplotlib.pyplot as plt\n",
    "import seaborn as sns"
   ]
  },
  {
   "cell_type": "code",
   "execution_count": 2,
   "metadata": {},
   "outputs": [],
   "source": [
    "trip_data = pd.read_csv('trip_all.csv')"
   ]
  },
  {
   "cell_type": "markdown",
   "metadata": {},
   "source": [
    "# Filter Data"
   ]
  },
  {
   "cell_type": "code",
   "execution_count": 3,
   "metadata": {},
   "outputs": [
    {
     "data": {
      "text/plain": [
       "(3536, 9)"
      ]
     },
     "execution_count": 3,
     "metadata": {},
     "output_type": "execute_result"
    }
   ],
   "source": [
    "\n",
    "# Alternatively, you can use the IQR method\n",
    "Q1 = trip_data['travel_time'].quantile(0.1)\n",
    "Q3 = trip_data['travel_time'].quantile(0.9)\n",
    "IQR = Q3 - Q1\n",
    "\n",
    "# Set a multiplier for IQR to identify outliers\n",
    "iqr_multiplier = 1.5\n",
    "\n",
    "# Filter out rows with values outside the IQR range\n",
    "filtered_trip_data_iqr = trip_data[(trip_data['travel_time'] >= Q1 - iqr_multiplier * IQR) & (trip_data['travel_time'] <= Q3 + iqr_multiplier * IQR)]\n",
    "\n",
    "filtered_trip_data_iqr.shape\n"
   ]
  },
  {
   "cell_type": "code",
   "execution_count": 4,
   "metadata": {},
   "outputs": [],
   "source": [
    "trip_data = trip_data[trip_data['travel_time'] < 120]\n",
    "trip_data = trip_data[trip_data['dwell_time'] < 100]"
   ]
  },
  {
   "cell_type": "code",
   "execution_count": 5,
   "metadata": {},
   "outputs": [
    {
     "data": {
      "text/html": [
       "<div>\n",
       "<style scoped>\n",
       "    .dataframe tbody tr th:only-of-type {\n",
       "        vertical-align: middle;\n",
       "    }\n",
       "\n",
       "    .dataframe tbody tr th {\n",
       "        vertical-align: top;\n",
       "    }\n",
       "\n",
       "    .dataframe thead th {\n",
       "        text-align: right;\n",
       "    }\n",
       "</style>\n",
       "<table border=\"1\" class=\"dataframe\">\n",
       "  <thead>\n",
       "    <tr style=\"text-align: right;\">\n",
       "      <th></th>\n",
       "      <th>trip_id</th>\n",
       "      <th>device_id</th>\n",
       "      <th>date</th>\n",
       "      <th>start_time</th>\n",
       "      <th>end_time</th>\n",
       "      <th>start_terminal</th>\n",
       "      <th>end_terminal</th>\n",
       "      <th>travel_time</th>\n",
       "      <th>dwell_time</th>\n",
       "    </tr>\n",
       "  </thead>\n",
       "  <tbody>\n",
       "    <tr>\n",
       "      <th>0</th>\n",
       "      <td>1</td>\n",
       "      <td>116</td>\n",
       "      <td>2022-09-01</td>\n",
       "      <td>08:21:45</td>\n",
       "      <td>09:14:24</td>\n",
       "      <td>BT02</td>\n",
       "      <td>BT01</td>\n",
       "      <td>52.650000</td>\n",
       "      <td>9.083333</td>\n",
       "    </tr>\n",
       "    <tr>\n",
       "      <th>1</th>\n",
       "      <td>2</td>\n",
       "      <td>116</td>\n",
       "      <td>2022-09-01</td>\n",
       "      <td>10:22:41</td>\n",
       "      <td>11:19:49</td>\n",
       "      <td>BT01</td>\n",
       "      <td>BT02</td>\n",
       "      <td>57.133333</td>\n",
       "      <td>6.366667</td>\n",
       "    </tr>\n",
       "    <tr>\n",
       "      <th>2</th>\n",
       "      <td>3</td>\n",
       "      <td>116</td>\n",
       "      <td>2022-09-01</td>\n",
       "      <td>13:11:16</td>\n",
       "      <td>14:14:46</td>\n",
       "      <td>BT02</td>\n",
       "      <td>BT01</td>\n",
       "      <td>63.500000</td>\n",
       "      <td>10.933333</td>\n",
       "    </tr>\n",
       "    <tr>\n",
       "      <th>3</th>\n",
       "      <td>4</td>\n",
       "      <td>116</td>\n",
       "      <td>2022-09-01</td>\n",
       "      <td>16:32:13</td>\n",
       "      <td>17:29:30</td>\n",
       "      <td>BT01</td>\n",
       "      <td>BT02</td>\n",
       "      <td>57.283333</td>\n",
       "      <td>4.750000</td>\n",
       "    </tr>\n",
       "    <tr>\n",
       "      <th>4</th>\n",
       "      <td>5</td>\n",
       "      <td>116</td>\n",
       "      <td>2022-09-02</td>\n",
       "      <td>08:00:08</td>\n",
       "      <td>08:54:00</td>\n",
       "      <td>BT02</td>\n",
       "      <td>BT01</td>\n",
       "      <td>53.866667</td>\n",
       "      <td>8.283333</td>\n",
       "    </tr>\n",
       "    <tr>\n",
       "      <th>...</th>\n",
       "      <td>...</td>\n",
       "      <td>...</td>\n",
       "      <td>...</td>\n",
       "      <td>...</td>\n",
       "      <td>...</td>\n",
       "      <td>...</td>\n",
       "      <td>...</td>\n",
       "      <td>...</td>\n",
       "      <td>...</td>\n",
       "    </tr>\n",
       "    <tr>\n",
       "      <th>3571</th>\n",
       "      <td>3572</td>\n",
       "      <td>1377</td>\n",
       "      <td>2022-10-30</td>\n",
       "      <td>08:11:22</td>\n",
       "      <td>08:55:47</td>\n",
       "      <td>BT02</td>\n",
       "      <td>BT01</td>\n",
       "      <td>44.416667</td>\n",
       "      <td>7.600000</td>\n",
       "    </tr>\n",
       "    <tr>\n",
       "      <th>3572</th>\n",
       "      <td>3573</td>\n",
       "      <td>1377</td>\n",
       "      <td>2022-10-30</td>\n",
       "      <td>09:21:27</td>\n",
       "      <td>10:07:42</td>\n",
       "      <td>BT01</td>\n",
       "      <td>BT02</td>\n",
       "      <td>46.250000</td>\n",
       "      <td>3.200000</td>\n",
       "    </tr>\n",
       "    <tr>\n",
       "      <th>3573</th>\n",
       "      <td>3574</td>\n",
       "      <td>1377</td>\n",
       "      <td>2022-10-30</td>\n",
       "      <td>12:39:33</td>\n",
       "      <td>13:31:48</td>\n",
       "      <td>BT02</td>\n",
       "      <td>BT01</td>\n",
       "      <td>52.250000</td>\n",
       "      <td>11.216667</td>\n",
       "    </tr>\n",
       "    <tr>\n",
       "      <th>3574</th>\n",
       "      <td>3575</td>\n",
       "      <td>1377</td>\n",
       "      <td>2022-10-30</td>\n",
       "      <td>13:51:30</td>\n",
       "      <td>14:43:18</td>\n",
       "      <td>BT01</td>\n",
       "      <td>BT02</td>\n",
       "      <td>51.800000</td>\n",
       "      <td>4.183333</td>\n",
       "    </tr>\n",
       "    <tr>\n",
       "      <th>3575</th>\n",
       "      <td>3576</td>\n",
       "      <td>1377</td>\n",
       "      <td>2022-10-30</td>\n",
       "      <td>17:00:36</td>\n",
       "      <td>17:49:36</td>\n",
       "      <td>BT02</td>\n",
       "      <td>BT01</td>\n",
       "      <td>49.000000</td>\n",
       "      <td>5.066667</td>\n",
       "    </tr>\n",
       "  </tbody>\n",
       "</table>\n",
       "<p>3542 rows × 9 columns</p>\n",
       "</div>"
      ],
      "text/plain": [
       "      trip_id  device_id        date start_time  end_time start_terminal  \\\n",
       "0           1        116  2022-09-01   08:21:45  09:14:24           BT02   \n",
       "1           2        116  2022-09-01   10:22:41  11:19:49           BT01   \n",
       "2           3        116  2022-09-01   13:11:16  14:14:46           BT02   \n",
       "3           4        116  2022-09-01   16:32:13  17:29:30           BT01   \n",
       "4           5        116  2022-09-02   08:00:08  08:54:00           BT02   \n",
       "...       ...        ...         ...        ...       ...            ...   \n",
       "3571     3572       1377  2022-10-30   08:11:22  08:55:47           BT02   \n",
       "3572     3573       1377  2022-10-30   09:21:27  10:07:42           BT01   \n",
       "3573     3574       1377  2022-10-30   12:39:33  13:31:48           BT02   \n",
       "3574     3575       1377  2022-10-30   13:51:30  14:43:18           BT01   \n",
       "3575     3576       1377  2022-10-30   17:00:36  17:49:36           BT02   \n",
       "\n",
       "     end_terminal  travel_time  dwell_time  \n",
       "0            BT01    52.650000    9.083333  \n",
       "1            BT02    57.133333    6.366667  \n",
       "2            BT01    63.500000   10.933333  \n",
       "3            BT02    57.283333    4.750000  \n",
       "4            BT01    53.866667    8.283333  \n",
       "...           ...          ...         ...  \n",
       "3571         BT01    44.416667    7.600000  \n",
       "3572         BT02    46.250000    3.200000  \n",
       "3573         BT01    52.250000   11.216667  \n",
       "3574         BT02    51.800000    4.183333  \n",
       "3575         BT01    49.000000    5.066667  \n",
       "\n",
       "[3542 rows x 9 columns]"
      ]
     },
     "execution_count": 5,
     "metadata": {},
     "output_type": "execute_result"
    }
   ],
   "source": [
    "trip_data"
   ]
  },
  {
   "cell_type": "code",
   "execution_count": 6,
   "metadata": {},
   "outputs": [],
   "source": [
    "# trip_data = filtered_trip_data_iqr"
   ]
  },
  {
   "cell_type": "code",
   "execution_count": 7,
   "metadata": {},
   "outputs": [
    {
     "data": {
      "text/html": [
       "<div>\n",
       "<style scoped>\n",
       "    .dataframe tbody tr th:only-of-type {\n",
       "        vertical-align: middle;\n",
       "    }\n",
       "\n",
       "    .dataframe tbody tr th {\n",
       "        vertical-align: top;\n",
       "    }\n",
       "\n",
       "    .dataframe thead th {\n",
       "        text-align: right;\n",
       "    }\n",
       "</style>\n",
       "<table border=\"1\" class=\"dataframe\">\n",
       "  <thead>\n",
       "    <tr style=\"text-align: right;\">\n",
       "      <th></th>\n",
       "      <th>trip_id</th>\n",
       "      <th>device_id</th>\n",
       "      <th>date</th>\n",
       "      <th>start_time</th>\n",
       "      <th>end_time</th>\n",
       "      <th>start_terminal</th>\n",
       "      <th>end_terminal</th>\n",
       "      <th>travel_time</th>\n",
       "      <th>dwell_time</th>\n",
       "    </tr>\n",
       "  </thead>\n",
       "  <tbody>\n",
       "    <tr>\n",
       "      <th>0</th>\n",
       "      <td>1</td>\n",
       "      <td>116</td>\n",
       "      <td>2022-09-01</td>\n",
       "      <td>08:21:45</td>\n",
       "      <td>09:14:24</td>\n",
       "      <td>BT02</td>\n",
       "      <td>BT01</td>\n",
       "      <td>52.650000</td>\n",
       "      <td>9.083333</td>\n",
       "    </tr>\n",
       "    <tr>\n",
       "      <th>1</th>\n",
       "      <td>2</td>\n",
       "      <td>116</td>\n",
       "      <td>2022-09-01</td>\n",
       "      <td>10:22:41</td>\n",
       "      <td>11:19:49</td>\n",
       "      <td>BT01</td>\n",
       "      <td>BT02</td>\n",
       "      <td>57.133333</td>\n",
       "      <td>6.366667</td>\n",
       "    </tr>\n",
       "    <tr>\n",
       "      <th>2</th>\n",
       "      <td>3</td>\n",
       "      <td>116</td>\n",
       "      <td>2022-09-01</td>\n",
       "      <td>13:11:16</td>\n",
       "      <td>14:14:46</td>\n",
       "      <td>BT02</td>\n",
       "      <td>BT01</td>\n",
       "      <td>63.500000</td>\n",
       "      <td>10.933333</td>\n",
       "    </tr>\n",
       "    <tr>\n",
       "      <th>3</th>\n",
       "      <td>4</td>\n",
       "      <td>116</td>\n",
       "      <td>2022-09-01</td>\n",
       "      <td>16:32:13</td>\n",
       "      <td>17:29:30</td>\n",
       "      <td>BT01</td>\n",
       "      <td>BT02</td>\n",
       "      <td>57.283333</td>\n",
       "      <td>4.750000</td>\n",
       "    </tr>\n",
       "    <tr>\n",
       "      <th>4</th>\n",
       "      <td>5</td>\n",
       "      <td>116</td>\n",
       "      <td>2022-09-02</td>\n",
       "      <td>08:00:08</td>\n",
       "      <td>08:54:00</td>\n",
       "      <td>BT02</td>\n",
       "      <td>BT01</td>\n",
       "      <td>53.866667</td>\n",
       "      <td>8.283333</td>\n",
       "    </tr>\n",
       "  </tbody>\n",
       "</table>\n",
       "</div>"
      ],
      "text/plain": [
       "   trip_id  device_id        date start_time  end_time start_terminal  \\\n",
       "0        1        116  2022-09-01   08:21:45  09:14:24           BT02   \n",
       "1        2        116  2022-09-01   10:22:41  11:19:49           BT01   \n",
       "2        3        116  2022-09-01   13:11:16  14:14:46           BT02   \n",
       "3        4        116  2022-09-01   16:32:13  17:29:30           BT01   \n",
       "4        5        116  2022-09-02   08:00:08  08:54:00           BT02   \n",
       "\n",
       "  end_terminal  travel_time  dwell_time  \n",
       "0         BT01    52.650000    9.083333  \n",
       "1         BT02    57.133333    6.366667  \n",
       "2         BT01    63.500000   10.933333  \n",
       "3         BT02    57.283333    4.750000  \n",
       "4         BT01    53.866667    8.283333  "
      ]
     },
     "execution_count": 7,
     "metadata": {},
     "output_type": "execute_result"
    }
   ],
   "source": [
    "trip_data.head()"
   ]
  },
  {
   "cell_type": "code",
   "execution_count": 8,
   "metadata": {},
   "outputs": [
    {
     "data": {
      "text/plain": [
       "(3542, 9)"
      ]
     },
     "execution_count": 8,
     "metadata": {},
     "output_type": "execute_result"
    }
   ],
   "source": [
    "trip_data.shape"
   ]
  },
  {
   "cell_type": "markdown",
   "metadata": {},
   "source": [
    "# Add more features"
   ]
  },
  {
   "cell_type": "code",
   "execution_count": 9,
   "metadata": {},
   "outputs": [],
   "source": [
    "trip_data['SITR'] = trip_data['dwell_time'] / trip_data['travel_time']"
   ]
  },
  {
   "cell_type": "code",
   "execution_count": 10,
   "metadata": {},
   "outputs": [],
   "source": [
    "# add a new column for day of the week from the date column\n",
    "# day of the week should be numbered 0-6, with 0 being Monday\n",
    "trip_data['day_of_week'] = pd.to_datetime(trip_data['date']).dt.dayofweek"
   ]
  },
  {
   "cell_type": "code",
   "execution_count": 11,
   "metadata": {},
   "outputs": [
    {
     "name": "stderr",
     "output_type": "stream",
     "text": [
      "C:\\Users\\MSI\\AppData\\Local\\Temp\\ipykernel_25808\\3351093847.py:12: UserWarning: Could not infer format, so each element will be parsed individually, falling back to `dateutil`. To ensure parsing is consistent and as-expected, please specify a format.\n",
      "  trip_data['hour_of_day'] = pd.to_datetime(trip_data['start_time']).dt.round('15min').dt.time\n"
     ]
    }
   ],
   "source": [
    "import pandas as pd\n",
    "\n",
    "# Load your trip data DataFrame\n",
    "# trip_data = pd.read_csv('your_trip_data.csv')\n",
    "\n",
    "# Add a new column for day of the week from the date column\n",
    "trip_data['day_name'] = pd.to_datetime(trip_data['date']).dt.day_name()\n",
    "\n",
    "# Add a new column called time_of_day based on start_time\n",
    "# where the time_of_day is rounded to the nearest quarter of an hour\n",
    "# e.g. 12:07:00 would be 12:15:00\n",
    "trip_data['hour_of_day'] = pd.to_datetime(trip_data['start_time']).dt.round('15min').dt.time\n",
    "\n",
    "# Convert time_of_day to a floating point number of hours\n",
    "# e.g. 12:15:00 would be 12.25\n",
    "trip_data['hour_of_day'] = trip_data['hour_of_day'].apply(lambda x: x.hour + x.minute / 60)\n",
    "\n"
   ]
  },
  {
   "cell_type": "code",
   "execution_count": 12,
   "metadata": {},
   "outputs": [],
   "source": [
    "trip_data['hour_of_day'] = trip_data['hour_of_day'].round(2)"
   ]
  },
  {
   "cell_type": "code",
   "execution_count": 13,
   "metadata": {},
   "outputs": [],
   "source": [
    "# drop rows where count for hour_of_day is less than 10\n",
    "trip_data = trip_data.groupby('hour_of_day').filter(lambda x : len(x)>10)\n",
    "# drop rows where 'hour_of_day' is less than 6 and gretaer than 19\n",
    "trip_data = trip_data[trip_data['hour_of_day'] >= 6]\n",
    "trip_data = trip_data[trip_data['hour_of_day'] <= 20]"
   ]
  },
  {
   "cell_type": "code",
   "execution_count": 14,
   "metadata": {},
   "outputs": [],
   "source": [
    "# add a new column for weekend or weekday from the day_of_week column\n",
    "# 0 = weekday, 1 = weekend\n",
    "trip_data['weekend'] = np.where(trip_data['day_of_week'] >= 5, 1, 0)"
   ]
  },
  {
   "cell_type": "code",
   "execution_count": 15,
   "metadata": {},
   "outputs": [],
   "source": [
    "# add a new column for rush hour from the hour_of_day column\n",
    "# 0 = not rush hour, 1 = rush hour\n",
    "trip_data['rush_hour'] = np.where((trip_data['hour_of_day'] >= 7) & (trip_data['hour_of_day'] <= 9), 1, 0)\n",
    "trip_data['rush_hour'] = np.where((trip_data['hour_of_day'] >= 16) & (trip_data['hour_of_day'] <= 18), 1, trip_data['rush_hour'])\n",
    "trip_data['rush_hour'] = np.where((trip_data['hour_of_day'] >= 12) & (trip_data['hour_of_day'] <= 2), 1, trip_data['rush_hour'])"
   ]
  },
  {
   "cell_type": "code",
   "execution_count": 16,
   "metadata": {},
   "outputs": [],
   "source": [
    "ninety_percentile = trip_data['travel_time'].quantile(0.9)\n",
    "trip_data['excess_travel_time'] = trip_data['travel_time'] - ninety_percentile"
   ]
  },
  {
   "cell_type": "code",
   "execution_count": 17,
   "metadata": {},
   "outputs": [
    {
     "data": {
      "text/html": [
       "<div>\n",
       "<style scoped>\n",
       "    .dataframe tbody tr th:only-of-type {\n",
       "        vertical-align: middle;\n",
       "    }\n",
       "\n",
       "    .dataframe tbody tr th {\n",
       "        vertical-align: top;\n",
       "    }\n",
       "\n",
       "    .dataframe thead th {\n",
       "        text-align: right;\n",
       "    }\n",
       "</style>\n",
       "<table border=\"1\" class=\"dataframe\">\n",
       "  <thead>\n",
       "    <tr style=\"text-align: right;\">\n",
       "      <th></th>\n",
       "      <th>trip_id</th>\n",
       "      <th>device_id</th>\n",
       "      <th>date</th>\n",
       "      <th>start_time</th>\n",
       "      <th>end_time</th>\n",
       "      <th>start_terminal</th>\n",
       "      <th>end_terminal</th>\n",
       "      <th>travel_time</th>\n",
       "      <th>dwell_time</th>\n",
       "      <th>SITR</th>\n",
       "      <th>day_of_week</th>\n",
       "      <th>day_name</th>\n",
       "      <th>hour_of_day</th>\n",
       "      <th>weekend</th>\n",
       "      <th>rush_hour</th>\n",
       "      <th>excess_travel_time</th>\n",
       "    </tr>\n",
       "  </thead>\n",
       "  <tbody>\n",
       "    <tr>\n",
       "      <th>0</th>\n",
       "      <td>1</td>\n",
       "      <td>116</td>\n",
       "      <td>2022-09-01</td>\n",
       "      <td>08:21:45</td>\n",
       "      <td>09:14:24</td>\n",
       "      <td>BT02</td>\n",
       "      <td>BT01</td>\n",
       "      <td>52.650000</td>\n",
       "      <td>9.083333</td>\n",
       "      <td>0.172523</td>\n",
       "      <td>3</td>\n",
       "      <td>Thursday</td>\n",
       "      <td>8.25</td>\n",
       "      <td>0</td>\n",
       "      <td>1</td>\n",
       "      <td>-4.788333</td>\n",
       "    </tr>\n",
       "    <tr>\n",
       "      <th>1</th>\n",
       "      <td>2</td>\n",
       "      <td>116</td>\n",
       "      <td>2022-09-01</td>\n",
       "      <td>10:22:41</td>\n",
       "      <td>11:19:49</td>\n",
       "      <td>BT01</td>\n",
       "      <td>BT02</td>\n",
       "      <td>57.133333</td>\n",
       "      <td>6.366667</td>\n",
       "      <td>0.111435</td>\n",
       "      <td>3</td>\n",
       "      <td>Thursday</td>\n",
       "      <td>10.50</td>\n",
       "      <td>0</td>\n",
       "      <td>0</td>\n",
       "      <td>-0.305000</td>\n",
       "    </tr>\n",
       "    <tr>\n",
       "      <th>2</th>\n",
       "      <td>3</td>\n",
       "      <td>116</td>\n",
       "      <td>2022-09-01</td>\n",
       "      <td>13:11:16</td>\n",
       "      <td>14:14:46</td>\n",
       "      <td>BT02</td>\n",
       "      <td>BT01</td>\n",
       "      <td>63.500000</td>\n",
       "      <td>10.933333</td>\n",
       "      <td>0.172178</td>\n",
       "      <td>3</td>\n",
       "      <td>Thursday</td>\n",
       "      <td>13.25</td>\n",
       "      <td>0</td>\n",
       "      <td>0</td>\n",
       "      <td>6.061667</td>\n",
       "    </tr>\n",
       "    <tr>\n",
       "      <th>3</th>\n",
       "      <td>4</td>\n",
       "      <td>116</td>\n",
       "      <td>2022-09-01</td>\n",
       "      <td>16:32:13</td>\n",
       "      <td>17:29:30</td>\n",
       "      <td>BT01</td>\n",
       "      <td>BT02</td>\n",
       "      <td>57.283333</td>\n",
       "      <td>4.750000</td>\n",
       "      <td>0.082921</td>\n",
       "      <td>3</td>\n",
       "      <td>Thursday</td>\n",
       "      <td>16.50</td>\n",
       "      <td>0</td>\n",
       "      <td>1</td>\n",
       "      <td>-0.155000</td>\n",
       "    </tr>\n",
       "    <tr>\n",
       "      <th>4</th>\n",
       "      <td>5</td>\n",
       "      <td>116</td>\n",
       "      <td>2022-09-02</td>\n",
       "      <td>08:00:08</td>\n",
       "      <td>08:54:00</td>\n",
       "      <td>BT02</td>\n",
       "      <td>BT01</td>\n",
       "      <td>53.866667</td>\n",
       "      <td>8.283333</td>\n",
       "      <td>0.153775</td>\n",
       "      <td>4</td>\n",
       "      <td>Friday</td>\n",
       "      <td>8.00</td>\n",
       "      <td>0</td>\n",
       "      <td>1</td>\n",
       "      <td>-3.571667</td>\n",
       "    </tr>\n",
       "    <tr>\n",
       "      <th>...</th>\n",
       "      <td>...</td>\n",
       "      <td>...</td>\n",
       "      <td>...</td>\n",
       "      <td>...</td>\n",
       "      <td>...</td>\n",
       "      <td>...</td>\n",
       "      <td>...</td>\n",
       "      <td>...</td>\n",
       "      <td>...</td>\n",
       "      <td>...</td>\n",
       "      <td>...</td>\n",
       "      <td>...</td>\n",
       "      <td>...</td>\n",
       "      <td>...</td>\n",
       "      <td>...</td>\n",
       "      <td>...</td>\n",
       "    </tr>\n",
       "    <tr>\n",
       "      <th>3571</th>\n",
       "      <td>3572</td>\n",
       "      <td>1377</td>\n",
       "      <td>2022-10-30</td>\n",
       "      <td>08:11:22</td>\n",
       "      <td>08:55:47</td>\n",
       "      <td>BT02</td>\n",
       "      <td>BT01</td>\n",
       "      <td>44.416667</td>\n",
       "      <td>7.600000</td>\n",
       "      <td>0.171107</td>\n",
       "      <td>6</td>\n",
       "      <td>Sunday</td>\n",
       "      <td>8.25</td>\n",
       "      <td>1</td>\n",
       "      <td>1</td>\n",
       "      <td>-13.021667</td>\n",
       "    </tr>\n",
       "    <tr>\n",
       "      <th>3572</th>\n",
       "      <td>3573</td>\n",
       "      <td>1377</td>\n",
       "      <td>2022-10-30</td>\n",
       "      <td>09:21:27</td>\n",
       "      <td>10:07:42</td>\n",
       "      <td>BT01</td>\n",
       "      <td>BT02</td>\n",
       "      <td>46.250000</td>\n",
       "      <td>3.200000</td>\n",
       "      <td>0.069189</td>\n",
       "      <td>6</td>\n",
       "      <td>Sunday</td>\n",
       "      <td>9.25</td>\n",
       "      <td>1</td>\n",
       "      <td>0</td>\n",
       "      <td>-11.188333</td>\n",
       "    </tr>\n",
       "    <tr>\n",
       "      <th>3573</th>\n",
       "      <td>3574</td>\n",
       "      <td>1377</td>\n",
       "      <td>2022-10-30</td>\n",
       "      <td>12:39:33</td>\n",
       "      <td>13:31:48</td>\n",
       "      <td>BT02</td>\n",
       "      <td>BT01</td>\n",
       "      <td>52.250000</td>\n",
       "      <td>11.216667</td>\n",
       "      <td>0.214673</td>\n",
       "      <td>6</td>\n",
       "      <td>Sunday</td>\n",
       "      <td>12.75</td>\n",
       "      <td>1</td>\n",
       "      <td>0</td>\n",
       "      <td>-5.188333</td>\n",
       "    </tr>\n",
       "    <tr>\n",
       "      <th>3574</th>\n",
       "      <td>3575</td>\n",
       "      <td>1377</td>\n",
       "      <td>2022-10-30</td>\n",
       "      <td>13:51:30</td>\n",
       "      <td>14:43:18</td>\n",
       "      <td>BT01</td>\n",
       "      <td>BT02</td>\n",
       "      <td>51.800000</td>\n",
       "      <td>4.183333</td>\n",
       "      <td>0.080759</td>\n",
       "      <td>6</td>\n",
       "      <td>Sunday</td>\n",
       "      <td>13.75</td>\n",
       "      <td>1</td>\n",
       "      <td>0</td>\n",
       "      <td>-5.638333</td>\n",
       "    </tr>\n",
       "    <tr>\n",
       "      <th>3575</th>\n",
       "      <td>3576</td>\n",
       "      <td>1377</td>\n",
       "      <td>2022-10-30</td>\n",
       "      <td>17:00:36</td>\n",
       "      <td>17:49:36</td>\n",
       "      <td>BT02</td>\n",
       "      <td>BT01</td>\n",
       "      <td>49.000000</td>\n",
       "      <td>5.066667</td>\n",
       "      <td>0.103401</td>\n",
       "      <td>6</td>\n",
       "      <td>Sunday</td>\n",
       "      <td>17.00</td>\n",
       "      <td>1</td>\n",
       "      <td>1</td>\n",
       "      <td>-8.438333</td>\n",
       "    </tr>\n",
       "  </tbody>\n",
       "</table>\n",
       "<p>3388 rows × 16 columns</p>\n",
       "</div>"
      ],
      "text/plain": [
       "      trip_id  device_id        date start_time  end_time start_terminal  \\\n",
       "0           1        116  2022-09-01   08:21:45  09:14:24           BT02   \n",
       "1           2        116  2022-09-01   10:22:41  11:19:49           BT01   \n",
       "2           3        116  2022-09-01   13:11:16  14:14:46           BT02   \n",
       "3           4        116  2022-09-01   16:32:13  17:29:30           BT01   \n",
       "4           5        116  2022-09-02   08:00:08  08:54:00           BT02   \n",
       "...       ...        ...         ...        ...       ...            ...   \n",
       "3571     3572       1377  2022-10-30   08:11:22  08:55:47           BT02   \n",
       "3572     3573       1377  2022-10-30   09:21:27  10:07:42           BT01   \n",
       "3573     3574       1377  2022-10-30   12:39:33  13:31:48           BT02   \n",
       "3574     3575       1377  2022-10-30   13:51:30  14:43:18           BT01   \n",
       "3575     3576       1377  2022-10-30   17:00:36  17:49:36           BT02   \n",
       "\n",
       "     end_terminal  travel_time  dwell_time      SITR  day_of_week  day_name  \\\n",
       "0            BT01    52.650000    9.083333  0.172523            3  Thursday   \n",
       "1            BT02    57.133333    6.366667  0.111435            3  Thursday   \n",
       "2            BT01    63.500000   10.933333  0.172178            3  Thursday   \n",
       "3            BT02    57.283333    4.750000  0.082921            3  Thursday   \n",
       "4            BT01    53.866667    8.283333  0.153775            4    Friday   \n",
       "...           ...          ...         ...       ...          ...       ...   \n",
       "3571         BT01    44.416667    7.600000  0.171107            6    Sunday   \n",
       "3572         BT02    46.250000    3.200000  0.069189            6    Sunday   \n",
       "3573         BT01    52.250000   11.216667  0.214673            6    Sunday   \n",
       "3574         BT02    51.800000    4.183333  0.080759            6    Sunday   \n",
       "3575         BT01    49.000000    5.066667  0.103401            6    Sunday   \n",
       "\n",
       "      hour_of_day  weekend  rush_hour  excess_travel_time  \n",
       "0            8.25        0          1           -4.788333  \n",
       "1           10.50        0          0           -0.305000  \n",
       "2           13.25        0          0            6.061667  \n",
       "3           16.50        0          1           -0.155000  \n",
       "4            8.00        0          1           -3.571667  \n",
       "...           ...      ...        ...                 ...  \n",
       "3571         8.25        1          1          -13.021667  \n",
       "3572         9.25        1          0          -11.188333  \n",
       "3573        12.75        1          0           -5.188333  \n",
       "3574        13.75        1          0           -5.638333  \n",
       "3575        17.00        1          1           -8.438333  \n",
       "\n",
       "[3388 rows x 16 columns]"
      ]
     },
     "execution_count": 17,
     "metadata": {},
     "output_type": "execute_result"
    }
   ],
   "source": [
    "trip_data"
   ]
  },
  {
   "cell_type": "code",
   "execution_count": 18,
   "metadata": {},
   "outputs": [],
   "source": [
    "# change start_terminal and end_terminal if BT01 then kandy-digana and if BT02 then digana-kandy\n",
    "trip_data['start_terminal'] = np.where(trip_data['start_terminal'] == 'BT01', 'Kandy', trip_data['start_terminal'])\n",
    "trip_data['start_terminal'] = np.where(trip_data['start_terminal'] == 'BT02', 'Digana', trip_data['start_terminal'])\n",
    "trip_data['end_terminal'] = np.where(trip_data['end_terminal'] == 'BT01', 'Kandy', trip_data['end_terminal'])\n",
    "trip_data['end_terminal'] = np.where(trip_data['end_terminal'] == 'BT02', 'Digana', trip_data['end_terminal'])"
   ]
  },
  {
   "cell_type": "code",
   "execution_count": 19,
   "metadata": {},
   "outputs": [],
   "source": [
    "trip_data['Direction'] = trip_data['start_terminal'] + '-' + trip_data['end_terminal']"
   ]
  },
  {
   "cell_type": "code",
   "execution_count": 20,
   "metadata": {},
   "outputs": [
    {
     "data": {
      "text/html": [
       "<div>\n",
       "<style scoped>\n",
       "    .dataframe tbody tr th:only-of-type {\n",
       "        vertical-align: middle;\n",
       "    }\n",
       "\n",
       "    .dataframe tbody tr th {\n",
       "        vertical-align: top;\n",
       "    }\n",
       "\n",
       "    .dataframe thead th {\n",
       "        text-align: right;\n",
       "    }\n",
       "</style>\n",
       "<table border=\"1\" class=\"dataframe\">\n",
       "  <thead>\n",
       "    <tr style=\"text-align: right;\">\n",
       "      <th></th>\n",
       "      <th>trip_id</th>\n",
       "      <th>device_id</th>\n",
       "      <th>date</th>\n",
       "      <th>start_time</th>\n",
       "      <th>end_time</th>\n",
       "      <th>start_terminal</th>\n",
       "      <th>end_terminal</th>\n",
       "      <th>travel_time</th>\n",
       "      <th>dwell_time</th>\n",
       "      <th>SITR</th>\n",
       "      <th>day_of_week</th>\n",
       "      <th>day_name</th>\n",
       "      <th>hour_of_day</th>\n",
       "      <th>weekend</th>\n",
       "      <th>rush_hour</th>\n",
       "      <th>excess_travel_time</th>\n",
       "      <th>Direction</th>\n",
       "    </tr>\n",
       "  </thead>\n",
       "  <tbody>\n",
       "    <tr>\n",
       "      <th>0</th>\n",
       "      <td>1</td>\n",
       "      <td>116</td>\n",
       "      <td>2022-09-01</td>\n",
       "      <td>08:21:45</td>\n",
       "      <td>09:14:24</td>\n",
       "      <td>Digana</td>\n",
       "      <td>Kandy</td>\n",
       "      <td>52.650000</td>\n",
       "      <td>9.083333</td>\n",
       "      <td>0.172523</td>\n",
       "      <td>3</td>\n",
       "      <td>Thursday</td>\n",
       "      <td>8.25</td>\n",
       "      <td>0</td>\n",
       "      <td>1</td>\n",
       "      <td>-4.788333</td>\n",
       "      <td>Digana-Kandy</td>\n",
       "    </tr>\n",
       "    <tr>\n",
       "      <th>1</th>\n",
       "      <td>2</td>\n",
       "      <td>116</td>\n",
       "      <td>2022-09-01</td>\n",
       "      <td>10:22:41</td>\n",
       "      <td>11:19:49</td>\n",
       "      <td>Kandy</td>\n",
       "      <td>Digana</td>\n",
       "      <td>57.133333</td>\n",
       "      <td>6.366667</td>\n",
       "      <td>0.111435</td>\n",
       "      <td>3</td>\n",
       "      <td>Thursday</td>\n",
       "      <td>10.50</td>\n",
       "      <td>0</td>\n",
       "      <td>0</td>\n",
       "      <td>-0.305000</td>\n",
       "      <td>Kandy-Digana</td>\n",
       "    </tr>\n",
       "    <tr>\n",
       "      <th>2</th>\n",
       "      <td>3</td>\n",
       "      <td>116</td>\n",
       "      <td>2022-09-01</td>\n",
       "      <td>13:11:16</td>\n",
       "      <td>14:14:46</td>\n",
       "      <td>Digana</td>\n",
       "      <td>Kandy</td>\n",
       "      <td>63.500000</td>\n",
       "      <td>10.933333</td>\n",
       "      <td>0.172178</td>\n",
       "      <td>3</td>\n",
       "      <td>Thursday</td>\n",
       "      <td>13.25</td>\n",
       "      <td>0</td>\n",
       "      <td>0</td>\n",
       "      <td>6.061667</td>\n",
       "      <td>Digana-Kandy</td>\n",
       "    </tr>\n",
       "    <tr>\n",
       "      <th>3</th>\n",
       "      <td>4</td>\n",
       "      <td>116</td>\n",
       "      <td>2022-09-01</td>\n",
       "      <td>16:32:13</td>\n",
       "      <td>17:29:30</td>\n",
       "      <td>Kandy</td>\n",
       "      <td>Digana</td>\n",
       "      <td>57.283333</td>\n",
       "      <td>4.750000</td>\n",
       "      <td>0.082921</td>\n",
       "      <td>3</td>\n",
       "      <td>Thursday</td>\n",
       "      <td>16.50</td>\n",
       "      <td>0</td>\n",
       "      <td>1</td>\n",
       "      <td>-0.155000</td>\n",
       "      <td>Kandy-Digana</td>\n",
       "    </tr>\n",
       "    <tr>\n",
       "      <th>4</th>\n",
       "      <td>5</td>\n",
       "      <td>116</td>\n",
       "      <td>2022-09-02</td>\n",
       "      <td>08:00:08</td>\n",
       "      <td>08:54:00</td>\n",
       "      <td>Digana</td>\n",
       "      <td>Kandy</td>\n",
       "      <td>53.866667</td>\n",
       "      <td>8.283333</td>\n",
       "      <td>0.153775</td>\n",
       "      <td>4</td>\n",
       "      <td>Friday</td>\n",
       "      <td>8.00</td>\n",
       "      <td>0</td>\n",
       "      <td>1</td>\n",
       "      <td>-3.571667</td>\n",
       "      <td>Digana-Kandy</td>\n",
       "    </tr>\n",
       "    <tr>\n",
       "      <th>...</th>\n",
       "      <td>...</td>\n",
       "      <td>...</td>\n",
       "      <td>...</td>\n",
       "      <td>...</td>\n",
       "      <td>...</td>\n",
       "      <td>...</td>\n",
       "      <td>...</td>\n",
       "      <td>...</td>\n",
       "      <td>...</td>\n",
       "      <td>...</td>\n",
       "      <td>...</td>\n",
       "      <td>...</td>\n",
       "      <td>...</td>\n",
       "      <td>...</td>\n",
       "      <td>...</td>\n",
       "      <td>...</td>\n",
       "      <td>...</td>\n",
       "    </tr>\n",
       "    <tr>\n",
       "      <th>3571</th>\n",
       "      <td>3572</td>\n",
       "      <td>1377</td>\n",
       "      <td>2022-10-30</td>\n",
       "      <td>08:11:22</td>\n",
       "      <td>08:55:47</td>\n",
       "      <td>Digana</td>\n",
       "      <td>Kandy</td>\n",
       "      <td>44.416667</td>\n",
       "      <td>7.600000</td>\n",
       "      <td>0.171107</td>\n",
       "      <td>6</td>\n",
       "      <td>Sunday</td>\n",
       "      <td>8.25</td>\n",
       "      <td>1</td>\n",
       "      <td>1</td>\n",
       "      <td>-13.021667</td>\n",
       "      <td>Digana-Kandy</td>\n",
       "    </tr>\n",
       "    <tr>\n",
       "      <th>3572</th>\n",
       "      <td>3573</td>\n",
       "      <td>1377</td>\n",
       "      <td>2022-10-30</td>\n",
       "      <td>09:21:27</td>\n",
       "      <td>10:07:42</td>\n",
       "      <td>Kandy</td>\n",
       "      <td>Digana</td>\n",
       "      <td>46.250000</td>\n",
       "      <td>3.200000</td>\n",
       "      <td>0.069189</td>\n",
       "      <td>6</td>\n",
       "      <td>Sunday</td>\n",
       "      <td>9.25</td>\n",
       "      <td>1</td>\n",
       "      <td>0</td>\n",
       "      <td>-11.188333</td>\n",
       "      <td>Kandy-Digana</td>\n",
       "    </tr>\n",
       "    <tr>\n",
       "      <th>3573</th>\n",
       "      <td>3574</td>\n",
       "      <td>1377</td>\n",
       "      <td>2022-10-30</td>\n",
       "      <td>12:39:33</td>\n",
       "      <td>13:31:48</td>\n",
       "      <td>Digana</td>\n",
       "      <td>Kandy</td>\n",
       "      <td>52.250000</td>\n",
       "      <td>11.216667</td>\n",
       "      <td>0.214673</td>\n",
       "      <td>6</td>\n",
       "      <td>Sunday</td>\n",
       "      <td>12.75</td>\n",
       "      <td>1</td>\n",
       "      <td>0</td>\n",
       "      <td>-5.188333</td>\n",
       "      <td>Digana-Kandy</td>\n",
       "    </tr>\n",
       "    <tr>\n",
       "      <th>3574</th>\n",
       "      <td>3575</td>\n",
       "      <td>1377</td>\n",
       "      <td>2022-10-30</td>\n",
       "      <td>13:51:30</td>\n",
       "      <td>14:43:18</td>\n",
       "      <td>Kandy</td>\n",
       "      <td>Digana</td>\n",
       "      <td>51.800000</td>\n",
       "      <td>4.183333</td>\n",
       "      <td>0.080759</td>\n",
       "      <td>6</td>\n",
       "      <td>Sunday</td>\n",
       "      <td>13.75</td>\n",
       "      <td>1</td>\n",
       "      <td>0</td>\n",
       "      <td>-5.638333</td>\n",
       "      <td>Kandy-Digana</td>\n",
       "    </tr>\n",
       "    <tr>\n",
       "      <th>3575</th>\n",
       "      <td>3576</td>\n",
       "      <td>1377</td>\n",
       "      <td>2022-10-30</td>\n",
       "      <td>17:00:36</td>\n",
       "      <td>17:49:36</td>\n",
       "      <td>Digana</td>\n",
       "      <td>Kandy</td>\n",
       "      <td>49.000000</td>\n",
       "      <td>5.066667</td>\n",
       "      <td>0.103401</td>\n",
       "      <td>6</td>\n",
       "      <td>Sunday</td>\n",
       "      <td>17.00</td>\n",
       "      <td>1</td>\n",
       "      <td>1</td>\n",
       "      <td>-8.438333</td>\n",
       "      <td>Digana-Kandy</td>\n",
       "    </tr>\n",
       "  </tbody>\n",
       "</table>\n",
       "<p>3388 rows × 17 columns</p>\n",
       "</div>"
      ],
      "text/plain": [
       "      trip_id  device_id        date start_time  end_time start_terminal  \\\n",
       "0           1        116  2022-09-01   08:21:45  09:14:24         Digana   \n",
       "1           2        116  2022-09-01   10:22:41  11:19:49          Kandy   \n",
       "2           3        116  2022-09-01   13:11:16  14:14:46         Digana   \n",
       "3           4        116  2022-09-01   16:32:13  17:29:30          Kandy   \n",
       "4           5        116  2022-09-02   08:00:08  08:54:00         Digana   \n",
       "...       ...        ...         ...        ...       ...            ...   \n",
       "3571     3572       1377  2022-10-30   08:11:22  08:55:47         Digana   \n",
       "3572     3573       1377  2022-10-30   09:21:27  10:07:42          Kandy   \n",
       "3573     3574       1377  2022-10-30   12:39:33  13:31:48         Digana   \n",
       "3574     3575       1377  2022-10-30   13:51:30  14:43:18          Kandy   \n",
       "3575     3576       1377  2022-10-30   17:00:36  17:49:36         Digana   \n",
       "\n",
       "     end_terminal  travel_time  dwell_time      SITR  day_of_week  day_name  \\\n",
       "0           Kandy    52.650000    9.083333  0.172523            3  Thursday   \n",
       "1          Digana    57.133333    6.366667  0.111435            3  Thursday   \n",
       "2           Kandy    63.500000   10.933333  0.172178            3  Thursday   \n",
       "3          Digana    57.283333    4.750000  0.082921            3  Thursday   \n",
       "4           Kandy    53.866667    8.283333  0.153775            4    Friday   \n",
       "...           ...          ...         ...       ...          ...       ...   \n",
       "3571        Kandy    44.416667    7.600000  0.171107            6    Sunday   \n",
       "3572       Digana    46.250000    3.200000  0.069189            6    Sunday   \n",
       "3573        Kandy    52.250000   11.216667  0.214673            6    Sunday   \n",
       "3574       Digana    51.800000    4.183333  0.080759            6    Sunday   \n",
       "3575        Kandy    49.000000    5.066667  0.103401            6    Sunday   \n",
       "\n",
       "      hour_of_day  weekend  rush_hour  excess_travel_time     Direction  \n",
       "0            8.25        0          1           -4.788333  Digana-Kandy  \n",
       "1           10.50        0          0           -0.305000  Kandy-Digana  \n",
       "2           13.25        0          0            6.061667  Digana-Kandy  \n",
       "3           16.50        0          1           -0.155000  Kandy-Digana  \n",
       "4            8.00        0          1           -3.571667  Digana-Kandy  \n",
       "...           ...      ...        ...                 ...           ...  \n",
       "3571         8.25        1          1          -13.021667  Digana-Kandy  \n",
       "3572         9.25        1          0          -11.188333  Kandy-Digana  \n",
       "3573        12.75        1          0           -5.188333  Digana-Kandy  \n",
       "3574        13.75        1          0           -5.638333  Kandy-Digana  \n",
       "3575        17.00        1          1           -8.438333  Digana-Kandy  \n",
       "\n",
       "[3388 rows x 17 columns]"
      ]
     },
     "execution_count": 20,
     "metadata": {},
     "output_type": "execute_result"
    }
   ],
   "source": [
    "trip_data"
   ]
  },
  {
   "cell_type": "code",
   "execution_count": 21,
   "metadata": {},
   "outputs": [
    {
     "data": {
      "text/plain": [
       "hour_of_day\n",
       "11.25    108\n",
       "9.75     104\n",
       "7.75     100\n",
       "9.25      97\n",
       "8.25      95\n",
       "14.25     93\n",
       "12.25     92\n",
       "13.75     90\n",
       "12.75     90\n",
       "15.75     89\n",
       "10.75     89\n",
       "6.75      87\n",
       "16.75     87\n",
       "10.25     84\n",
       "11.75     84\n",
       "14.75     83\n",
       "8.75      80\n",
       "15.25     76\n",
       "16.25     75\n",
       "6.25      74\n",
       "7.25      71\n",
       "17.25     70\n",
       "12.00     68\n",
       "14.50     66\n",
       "13.25     65\n",
       "7.50      64\n",
       "13.00     63\n",
       "7.00      62\n",
       "14.00     54\n",
       "10.50     53\n",
       "17.75     51\n",
       "12.50     51\n",
       "11.50     50\n",
       "15.00     50\n",
       "9.50      50\n",
       "16.50     49\n",
       "10.00     49\n",
       "8.00      46\n",
       "13.50     45\n",
       "18.00     44\n",
       "6.50      44\n",
       "11.00     43\n",
       "8.50      43\n",
       "15.50     43\n",
       "16.00     42\n",
       "9.00      41\n",
       "17.00     40\n",
       "6.00      35\n",
       "17.50     34\n",
       "18.25     32\n",
       "18.50     29\n",
       "18.75     24\n",
       "19.50     15\n",
       "19.25     14\n",
       "19.75     11\n",
       "Name: count, dtype: int64"
      ]
     },
     "execution_count": 21,
     "metadata": {},
     "output_type": "execute_result"
    }
   ],
   "source": [
    "trip_data['hour_of_day'].value_counts()"
   ]
  },
  {
   "cell_type": "code",
   "execution_count": 22,
   "metadata": {},
   "outputs": [
    {
     "data": {
      "text/html": [
       "<div>\n",
       "<style scoped>\n",
       "    .dataframe tbody tr th:only-of-type {\n",
       "        vertical-align: middle;\n",
       "    }\n",
       "\n",
       "    .dataframe tbody tr th {\n",
       "        vertical-align: top;\n",
       "    }\n",
       "\n",
       "    .dataframe thead th {\n",
       "        text-align: right;\n",
       "    }\n",
       "</style>\n",
       "<table border=\"1\" class=\"dataframe\">\n",
       "  <thead>\n",
       "    <tr style=\"text-align: right;\">\n",
       "      <th></th>\n",
       "      <th>trip_id</th>\n",
       "      <th>device_id</th>\n",
       "      <th>date</th>\n",
       "      <th>start_time</th>\n",
       "      <th>end_time</th>\n",
       "      <th>start_terminal</th>\n",
       "      <th>end_terminal</th>\n",
       "      <th>travel_time</th>\n",
       "      <th>dwell_time</th>\n",
       "      <th>SITR</th>\n",
       "      <th>day_of_week</th>\n",
       "      <th>day_name</th>\n",
       "      <th>hour_of_day</th>\n",
       "      <th>weekend</th>\n",
       "      <th>rush_hour</th>\n",
       "      <th>excess_travel_time</th>\n",
       "      <th>Direction</th>\n",
       "    </tr>\n",
       "  </thead>\n",
       "  <tbody>\n",
       "    <tr>\n",
       "      <th>0</th>\n",
       "      <td>1</td>\n",
       "      <td>116</td>\n",
       "      <td>2022-09-01</td>\n",
       "      <td>08:21:45</td>\n",
       "      <td>09:14:24</td>\n",
       "      <td>Digana</td>\n",
       "      <td>Kandy</td>\n",
       "      <td>52.650000</td>\n",
       "      <td>9.083333</td>\n",
       "      <td>0.172523</td>\n",
       "      <td>3</td>\n",
       "      <td>Thursday</td>\n",
       "      <td>8.25</td>\n",
       "      <td>0</td>\n",
       "      <td>1</td>\n",
       "      <td>-4.788333</td>\n",
       "      <td>Digana-Kandy</td>\n",
       "    </tr>\n",
       "    <tr>\n",
       "      <th>1</th>\n",
       "      <td>2</td>\n",
       "      <td>116</td>\n",
       "      <td>2022-09-01</td>\n",
       "      <td>10:22:41</td>\n",
       "      <td>11:19:49</td>\n",
       "      <td>Kandy</td>\n",
       "      <td>Digana</td>\n",
       "      <td>57.133333</td>\n",
       "      <td>6.366667</td>\n",
       "      <td>0.111435</td>\n",
       "      <td>3</td>\n",
       "      <td>Thursday</td>\n",
       "      <td>10.50</td>\n",
       "      <td>0</td>\n",
       "      <td>0</td>\n",
       "      <td>-0.305000</td>\n",
       "      <td>Kandy-Digana</td>\n",
       "    </tr>\n",
       "    <tr>\n",
       "      <th>2</th>\n",
       "      <td>3</td>\n",
       "      <td>116</td>\n",
       "      <td>2022-09-01</td>\n",
       "      <td>13:11:16</td>\n",
       "      <td>14:14:46</td>\n",
       "      <td>Digana</td>\n",
       "      <td>Kandy</td>\n",
       "      <td>63.500000</td>\n",
       "      <td>10.933333</td>\n",
       "      <td>0.172178</td>\n",
       "      <td>3</td>\n",
       "      <td>Thursday</td>\n",
       "      <td>13.25</td>\n",
       "      <td>0</td>\n",
       "      <td>0</td>\n",
       "      <td>6.061667</td>\n",
       "      <td>Digana-Kandy</td>\n",
       "    </tr>\n",
       "    <tr>\n",
       "      <th>3</th>\n",
       "      <td>4</td>\n",
       "      <td>116</td>\n",
       "      <td>2022-09-01</td>\n",
       "      <td>16:32:13</td>\n",
       "      <td>17:29:30</td>\n",
       "      <td>Kandy</td>\n",
       "      <td>Digana</td>\n",
       "      <td>57.283333</td>\n",
       "      <td>4.750000</td>\n",
       "      <td>0.082921</td>\n",
       "      <td>3</td>\n",
       "      <td>Thursday</td>\n",
       "      <td>16.50</td>\n",
       "      <td>0</td>\n",
       "      <td>1</td>\n",
       "      <td>-0.155000</td>\n",
       "      <td>Kandy-Digana</td>\n",
       "    </tr>\n",
       "    <tr>\n",
       "      <th>4</th>\n",
       "      <td>5</td>\n",
       "      <td>116</td>\n",
       "      <td>2022-09-02</td>\n",
       "      <td>08:00:08</td>\n",
       "      <td>08:54:00</td>\n",
       "      <td>Digana</td>\n",
       "      <td>Kandy</td>\n",
       "      <td>53.866667</td>\n",
       "      <td>8.283333</td>\n",
       "      <td>0.153775</td>\n",
       "      <td>4</td>\n",
       "      <td>Friday</td>\n",
       "      <td>8.00</td>\n",
       "      <td>0</td>\n",
       "      <td>1</td>\n",
       "      <td>-3.571667</td>\n",
       "      <td>Digana-Kandy</td>\n",
       "    </tr>\n",
       "    <tr>\n",
       "      <th>...</th>\n",
       "      <td>...</td>\n",
       "      <td>...</td>\n",
       "      <td>...</td>\n",
       "      <td>...</td>\n",
       "      <td>...</td>\n",
       "      <td>...</td>\n",
       "      <td>...</td>\n",
       "      <td>...</td>\n",
       "      <td>...</td>\n",
       "      <td>...</td>\n",
       "      <td>...</td>\n",
       "      <td>...</td>\n",
       "      <td>...</td>\n",
       "      <td>...</td>\n",
       "      <td>...</td>\n",
       "      <td>...</td>\n",
       "      <td>...</td>\n",
       "    </tr>\n",
       "    <tr>\n",
       "      <th>3571</th>\n",
       "      <td>3572</td>\n",
       "      <td>1377</td>\n",
       "      <td>2022-10-30</td>\n",
       "      <td>08:11:22</td>\n",
       "      <td>08:55:47</td>\n",
       "      <td>Digana</td>\n",
       "      <td>Kandy</td>\n",
       "      <td>44.416667</td>\n",
       "      <td>7.600000</td>\n",
       "      <td>0.171107</td>\n",
       "      <td>6</td>\n",
       "      <td>Sunday</td>\n",
       "      <td>8.25</td>\n",
       "      <td>1</td>\n",
       "      <td>1</td>\n",
       "      <td>-13.021667</td>\n",
       "      <td>Digana-Kandy</td>\n",
       "    </tr>\n",
       "    <tr>\n",
       "      <th>3572</th>\n",
       "      <td>3573</td>\n",
       "      <td>1377</td>\n",
       "      <td>2022-10-30</td>\n",
       "      <td>09:21:27</td>\n",
       "      <td>10:07:42</td>\n",
       "      <td>Kandy</td>\n",
       "      <td>Digana</td>\n",
       "      <td>46.250000</td>\n",
       "      <td>3.200000</td>\n",
       "      <td>0.069189</td>\n",
       "      <td>6</td>\n",
       "      <td>Sunday</td>\n",
       "      <td>9.25</td>\n",
       "      <td>1</td>\n",
       "      <td>0</td>\n",
       "      <td>-11.188333</td>\n",
       "      <td>Kandy-Digana</td>\n",
       "    </tr>\n",
       "    <tr>\n",
       "      <th>3573</th>\n",
       "      <td>3574</td>\n",
       "      <td>1377</td>\n",
       "      <td>2022-10-30</td>\n",
       "      <td>12:39:33</td>\n",
       "      <td>13:31:48</td>\n",
       "      <td>Digana</td>\n",
       "      <td>Kandy</td>\n",
       "      <td>52.250000</td>\n",
       "      <td>11.216667</td>\n",
       "      <td>0.214673</td>\n",
       "      <td>6</td>\n",
       "      <td>Sunday</td>\n",
       "      <td>12.75</td>\n",
       "      <td>1</td>\n",
       "      <td>0</td>\n",
       "      <td>-5.188333</td>\n",
       "      <td>Digana-Kandy</td>\n",
       "    </tr>\n",
       "    <tr>\n",
       "      <th>3574</th>\n",
       "      <td>3575</td>\n",
       "      <td>1377</td>\n",
       "      <td>2022-10-30</td>\n",
       "      <td>13:51:30</td>\n",
       "      <td>14:43:18</td>\n",
       "      <td>Kandy</td>\n",
       "      <td>Digana</td>\n",
       "      <td>51.800000</td>\n",
       "      <td>4.183333</td>\n",
       "      <td>0.080759</td>\n",
       "      <td>6</td>\n",
       "      <td>Sunday</td>\n",
       "      <td>13.75</td>\n",
       "      <td>1</td>\n",
       "      <td>0</td>\n",
       "      <td>-5.638333</td>\n",
       "      <td>Kandy-Digana</td>\n",
       "    </tr>\n",
       "    <tr>\n",
       "      <th>3575</th>\n",
       "      <td>3576</td>\n",
       "      <td>1377</td>\n",
       "      <td>2022-10-30</td>\n",
       "      <td>17:00:36</td>\n",
       "      <td>17:49:36</td>\n",
       "      <td>Digana</td>\n",
       "      <td>Kandy</td>\n",
       "      <td>49.000000</td>\n",
       "      <td>5.066667</td>\n",
       "      <td>0.103401</td>\n",
       "      <td>6</td>\n",
       "      <td>Sunday</td>\n",
       "      <td>17.00</td>\n",
       "      <td>1</td>\n",
       "      <td>1</td>\n",
       "      <td>-8.438333</td>\n",
       "      <td>Digana-Kandy</td>\n",
       "    </tr>\n",
       "  </tbody>\n",
       "</table>\n",
       "<p>3388 rows × 17 columns</p>\n",
       "</div>"
      ],
      "text/plain": [
       "      trip_id  device_id        date start_time  end_time start_terminal  \\\n",
       "0           1        116  2022-09-01   08:21:45  09:14:24         Digana   \n",
       "1           2        116  2022-09-01   10:22:41  11:19:49          Kandy   \n",
       "2           3        116  2022-09-01   13:11:16  14:14:46         Digana   \n",
       "3           4        116  2022-09-01   16:32:13  17:29:30          Kandy   \n",
       "4           5        116  2022-09-02   08:00:08  08:54:00         Digana   \n",
       "...       ...        ...         ...        ...       ...            ...   \n",
       "3571     3572       1377  2022-10-30   08:11:22  08:55:47         Digana   \n",
       "3572     3573       1377  2022-10-30   09:21:27  10:07:42          Kandy   \n",
       "3573     3574       1377  2022-10-30   12:39:33  13:31:48         Digana   \n",
       "3574     3575       1377  2022-10-30   13:51:30  14:43:18          Kandy   \n",
       "3575     3576       1377  2022-10-30   17:00:36  17:49:36         Digana   \n",
       "\n",
       "     end_terminal  travel_time  dwell_time      SITR  day_of_week  day_name  \\\n",
       "0           Kandy    52.650000    9.083333  0.172523            3  Thursday   \n",
       "1          Digana    57.133333    6.366667  0.111435            3  Thursday   \n",
       "2           Kandy    63.500000   10.933333  0.172178            3  Thursday   \n",
       "3          Digana    57.283333    4.750000  0.082921            3  Thursday   \n",
       "4           Kandy    53.866667    8.283333  0.153775            4    Friday   \n",
       "...           ...          ...         ...       ...          ...       ...   \n",
       "3571        Kandy    44.416667    7.600000  0.171107            6    Sunday   \n",
       "3572       Digana    46.250000    3.200000  0.069189            6    Sunday   \n",
       "3573        Kandy    52.250000   11.216667  0.214673            6    Sunday   \n",
       "3574       Digana    51.800000    4.183333  0.080759            6    Sunday   \n",
       "3575        Kandy    49.000000    5.066667  0.103401            6    Sunday   \n",
       "\n",
       "      hour_of_day  weekend  rush_hour  excess_travel_time     Direction  \n",
       "0            8.25        0          1           -4.788333  Digana-Kandy  \n",
       "1           10.50        0          0           -0.305000  Kandy-Digana  \n",
       "2           13.25        0          0            6.061667  Digana-Kandy  \n",
       "3           16.50        0          1           -0.155000  Kandy-Digana  \n",
       "4            8.00        0          1           -3.571667  Digana-Kandy  \n",
       "...           ...      ...        ...                 ...           ...  \n",
       "3571         8.25        1          1          -13.021667  Digana-Kandy  \n",
       "3572         9.25        1          0          -11.188333  Kandy-Digana  \n",
       "3573        12.75        1          0           -5.188333  Digana-Kandy  \n",
       "3574        13.75        1          0           -5.638333  Kandy-Digana  \n",
       "3575        17.00        1          1           -8.438333  Digana-Kandy  \n",
       "\n",
       "[3388 rows x 17 columns]"
      ]
     },
     "execution_count": 22,
     "metadata": {},
     "output_type": "execute_result"
    }
   ],
   "source": [
    "trip_data"
   ]
  },
  {
   "cell_type": "markdown",
   "metadata": {},
   "source": [
    "# Visualizations"
   ]
  },
  {
   "cell_type": "code",
   "execution_count": 25,
   "metadata": {},
   "outputs": [
    {
     "name": "stdout",
     "output_type": "stream",
     "text": [
      "On-Time Performance: 10.01%\n"
     ]
    },
    {
     "data": {
      "application/vnd.plotly.v1+json": {
       "config": {
        "plotlyServerURL": "https://plot.ly"
       },
       "data": [
        {
         "hovertemplate": "day_name=%{x}<br>on_time=%{y}<extra></extra>",
         "legendgroup": "",
         "line": {
          "color": "#636efa",
          "dash": "solid"
         },
         "marker": {
          "symbol": "circle"
         },
         "mode": "lines",
         "name": "",
         "orientation": "v",
         "showlegend": false,
         "type": "scatter",
         "x": [
          "Friday",
          "Monday",
          "Saturday",
          "Sunday",
          "Thursday",
          "Tuesday",
          "Wednesday"
         ],
         "xaxis": "x",
         "y": [
          0.11218568665377177,
          0.09274193548387097,
          0.07738095238095238,
          0.07945205479452055,
          0.11538461538461539,
          0.11267605633802817,
          0.10429447852760736
         ],
         "yaxis": "y"
        }
       ],
       "layout": {
        "legend": {
         "tracegroupgap": 0
        },
        "template": {
         "data": {
          "bar": [
           {
            "error_x": {
             "color": "#2a3f5f"
            },
            "error_y": {
             "color": "#2a3f5f"
            },
            "marker": {
             "line": {
              "color": "#E5ECF6",
              "width": 0.5
             },
             "pattern": {
              "fillmode": "overlay",
              "size": 10,
              "solidity": 0.2
             }
            },
            "type": "bar"
           }
          ],
          "barpolar": [
           {
            "marker": {
             "line": {
              "color": "#E5ECF6",
              "width": 0.5
             },
             "pattern": {
              "fillmode": "overlay",
              "size": 10,
              "solidity": 0.2
             }
            },
            "type": "barpolar"
           }
          ],
          "carpet": [
           {
            "aaxis": {
             "endlinecolor": "#2a3f5f",
             "gridcolor": "white",
             "linecolor": "white",
             "minorgridcolor": "white",
             "startlinecolor": "#2a3f5f"
            },
            "baxis": {
             "endlinecolor": "#2a3f5f",
             "gridcolor": "white",
             "linecolor": "white",
             "minorgridcolor": "white",
             "startlinecolor": "#2a3f5f"
            },
            "type": "carpet"
           }
          ],
          "choropleth": [
           {
            "colorbar": {
             "outlinewidth": 0,
             "ticks": ""
            },
            "type": "choropleth"
           }
          ],
          "contour": [
           {
            "colorbar": {
             "outlinewidth": 0,
             "ticks": ""
            },
            "colorscale": [
             [
              0,
              "#0d0887"
             ],
             [
              0.1111111111111111,
              "#46039f"
             ],
             [
              0.2222222222222222,
              "#7201a8"
             ],
             [
              0.3333333333333333,
              "#9c179e"
             ],
             [
              0.4444444444444444,
              "#bd3786"
             ],
             [
              0.5555555555555556,
              "#d8576b"
             ],
             [
              0.6666666666666666,
              "#ed7953"
             ],
             [
              0.7777777777777778,
              "#fb9f3a"
             ],
             [
              0.8888888888888888,
              "#fdca26"
             ],
             [
              1,
              "#f0f921"
             ]
            ],
            "type": "contour"
           }
          ],
          "contourcarpet": [
           {
            "colorbar": {
             "outlinewidth": 0,
             "ticks": ""
            },
            "type": "contourcarpet"
           }
          ],
          "heatmap": [
           {
            "colorbar": {
             "outlinewidth": 0,
             "ticks": ""
            },
            "colorscale": [
             [
              0,
              "#0d0887"
             ],
             [
              0.1111111111111111,
              "#46039f"
             ],
             [
              0.2222222222222222,
              "#7201a8"
             ],
             [
              0.3333333333333333,
              "#9c179e"
             ],
             [
              0.4444444444444444,
              "#bd3786"
             ],
             [
              0.5555555555555556,
              "#d8576b"
             ],
             [
              0.6666666666666666,
              "#ed7953"
             ],
             [
              0.7777777777777778,
              "#fb9f3a"
             ],
             [
              0.8888888888888888,
              "#fdca26"
             ],
             [
              1,
              "#f0f921"
             ]
            ],
            "type": "heatmap"
           }
          ],
          "heatmapgl": [
           {
            "colorbar": {
             "outlinewidth": 0,
             "ticks": ""
            },
            "colorscale": [
             [
              0,
              "#0d0887"
             ],
             [
              0.1111111111111111,
              "#46039f"
             ],
             [
              0.2222222222222222,
              "#7201a8"
             ],
             [
              0.3333333333333333,
              "#9c179e"
             ],
             [
              0.4444444444444444,
              "#bd3786"
             ],
             [
              0.5555555555555556,
              "#d8576b"
             ],
             [
              0.6666666666666666,
              "#ed7953"
             ],
             [
              0.7777777777777778,
              "#fb9f3a"
             ],
             [
              0.8888888888888888,
              "#fdca26"
             ],
             [
              1,
              "#f0f921"
             ]
            ],
            "type": "heatmapgl"
           }
          ],
          "histogram": [
           {
            "marker": {
             "pattern": {
              "fillmode": "overlay",
              "size": 10,
              "solidity": 0.2
             }
            },
            "type": "histogram"
           }
          ],
          "histogram2d": [
           {
            "colorbar": {
             "outlinewidth": 0,
             "ticks": ""
            },
            "colorscale": [
             [
              0,
              "#0d0887"
             ],
             [
              0.1111111111111111,
              "#46039f"
             ],
             [
              0.2222222222222222,
              "#7201a8"
             ],
             [
              0.3333333333333333,
              "#9c179e"
             ],
             [
              0.4444444444444444,
              "#bd3786"
             ],
             [
              0.5555555555555556,
              "#d8576b"
             ],
             [
              0.6666666666666666,
              "#ed7953"
             ],
             [
              0.7777777777777778,
              "#fb9f3a"
             ],
             [
              0.8888888888888888,
              "#fdca26"
             ],
             [
              1,
              "#f0f921"
             ]
            ],
            "type": "histogram2d"
           }
          ],
          "histogram2dcontour": [
           {
            "colorbar": {
             "outlinewidth": 0,
             "ticks": ""
            },
            "colorscale": [
             [
              0,
              "#0d0887"
             ],
             [
              0.1111111111111111,
              "#46039f"
             ],
             [
              0.2222222222222222,
              "#7201a8"
             ],
             [
              0.3333333333333333,
              "#9c179e"
             ],
             [
              0.4444444444444444,
              "#bd3786"
             ],
             [
              0.5555555555555556,
              "#d8576b"
             ],
             [
              0.6666666666666666,
              "#ed7953"
             ],
             [
              0.7777777777777778,
              "#fb9f3a"
             ],
             [
              0.8888888888888888,
              "#fdca26"
             ],
             [
              1,
              "#f0f921"
             ]
            ],
            "type": "histogram2dcontour"
           }
          ],
          "mesh3d": [
           {
            "colorbar": {
             "outlinewidth": 0,
             "ticks": ""
            },
            "type": "mesh3d"
           }
          ],
          "parcoords": [
           {
            "line": {
             "colorbar": {
              "outlinewidth": 0,
              "ticks": ""
             }
            },
            "type": "parcoords"
           }
          ],
          "pie": [
           {
            "automargin": true,
            "type": "pie"
           }
          ],
          "scatter": [
           {
            "fillpattern": {
             "fillmode": "overlay",
             "size": 10,
             "solidity": 0.2
            },
            "type": "scatter"
           }
          ],
          "scatter3d": [
           {
            "line": {
             "colorbar": {
              "outlinewidth": 0,
              "ticks": ""
             }
            },
            "marker": {
             "colorbar": {
              "outlinewidth": 0,
              "ticks": ""
             }
            },
            "type": "scatter3d"
           }
          ],
          "scattercarpet": [
           {
            "marker": {
             "colorbar": {
              "outlinewidth": 0,
              "ticks": ""
             }
            },
            "type": "scattercarpet"
           }
          ],
          "scattergeo": [
           {
            "marker": {
             "colorbar": {
              "outlinewidth": 0,
              "ticks": ""
             }
            },
            "type": "scattergeo"
           }
          ],
          "scattergl": [
           {
            "marker": {
             "colorbar": {
              "outlinewidth": 0,
              "ticks": ""
             }
            },
            "type": "scattergl"
           }
          ],
          "scattermapbox": [
           {
            "marker": {
             "colorbar": {
              "outlinewidth": 0,
              "ticks": ""
             }
            },
            "type": "scattermapbox"
           }
          ],
          "scatterpolar": [
           {
            "marker": {
             "colorbar": {
              "outlinewidth": 0,
              "ticks": ""
             }
            },
            "type": "scatterpolar"
           }
          ],
          "scatterpolargl": [
           {
            "marker": {
             "colorbar": {
              "outlinewidth": 0,
              "ticks": ""
             }
            },
            "type": "scatterpolargl"
           }
          ],
          "scatterternary": [
           {
            "marker": {
             "colorbar": {
              "outlinewidth": 0,
              "ticks": ""
             }
            },
            "type": "scatterternary"
           }
          ],
          "surface": [
           {
            "colorbar": {
             "outlinewidth": 0,
             "ticks": ""
            },
            "colorscale": [
             [
              0,
              "#0d0887"
             ],
             [
              0.1111111111111111,
              "#46039f"
             ],
             [
              0.2222222222222222,
              "#7201a8"
             ],
             [
              0.3333333333333333,
              "#9c179e"
             ],
             [
              0.4444444444444444,
              "#bd3786"
             ],
             [
              0.5555555555555556,
              "#d8576b"
             ],
             [
              0.6666666666666666,
              "#ed7953"
             ],
             [
              0.7777777777777778,
              "#fb9f3a"
             ],
             [
              0.8888888888888888,
              "#fdca26"
             ],
             [
              1,
              "#f0f921"
             ]
            ],
            "type": "surface"
           }
          ],
          "table": [
           {
            "cells": {
             "fill": {
              "color": "#EBF0F8"
             },
             "line": {
              "color": "white"
             }
            },
            "header": {
             "fill": {
              "color": "#C8D4E3"
             },
             "line": {
              "color": "white"
             }
            },
            "type": "table"
           }
          ]
         },
         "layout": {
          "annotationdefaults": {
           "arrowcolor": "#2a3f5f",
           "arrowhead": 0,
           "arrowwidth": 1
          },
          "autotypenumbers": "strict",
          "coloraxis": {
           "colorbar": {
            "outlinewidth": 0,
            "ticks": ""
           }
          },
          "colorscale": {
           "diverging": [
            [
             0,
             "#8e0152"
            ],
            [
             0.1,
             "#c51b7d"
            ],
            [
             0.2,
             "#de77ae"
            ],
            [
             0.3,
             "#f1b6da"
            ],
            [
             0.4,
             "#fde0ef"
            ],
            [
             0.5,
             "#f7f7f7"
            ],
            [
             0.6,
             "#e6f5d0"
            ],
            [
             0.7,
             "#b8e186"
            ],
            [
             0.8,
             "#7fbc41"
            ],
            [
             0.9,
             "#4d9221"
            ],
            [
             1,
             "#276419"
            ]
           ],
           "sequential": [
            [
             0,
             "#0d0887"
            ],
            [
             0.1111111111111111,
             "#46039f"
            ],
            [
             0.2222222222222222,
             "#7201a8"
            ],
            [
             0.3333333333333333,
             "#9c179e"
            ],
            [
             0.4444444444444444,
             "#bd3786"
            ],
            [
             0.5555555555555556,
             "#d8576b"
            ],
            [
             0.6666666666666666,
             "#ed7953"
            ],
            [
             0.7777777777777778,
             "#fb9f3a"
            ],
            [
             0.8888888888888888,
             "#fdca26"
            ],
            [
             1,
             "#f0f921"
            ]
           ],
           "sequentialminus": [
            [
             0,
             "#0d0887"
            ],
            [
             0.1111111111111111,
             "#46039f"
            ],
            [
             0.2222222222222222,
             "#7201a8"
            ],
            [
             0.3333333333333333,
             "#9c179e"
            ],
            [
             0.4444444444444444,
             "#bd3786"
            ],
            [
             0.5555555555555556,
             "#d8576b"
            ],
            [
             0.6666666666666666,
             "#ed7953"
            ],
            [
             0.7777777777777778,
             "#fb9f3a"
            ],
            [
             0.8888888888888888,
             "#fdca26"
            ],
            [
             1,
             "#f0f921"
            ]
           ]
          },
          "colorway": [
           "#636efa",
           "#EF553B",
           "#00cc96",
           "#ab63fa",
           "#FFA15A",
           "#19d3f3",
           "#FF6692",
           "#B6E880",
           "#FF97FF",
           "#FECB52"
          ],
          "font": {
           "color": "#2a3f5f"
          },
          "geo": {
           "bgcolor": "white",
           "lakecolor": "white",
           "landcolor": "#E5ECF6",
           "showlakes": true,
           "showland": true,
           "subunitcolor": "white"
          },
          "hoverlabel": {
           "align": "left"
          },
          "hovermode": "closest",
          "mapbox": {
           "style": "light"
          },
          "paper_bgcolor": "white",
          "plot_bgcolor": "#E5ECF6",
          "polar": {
           "angularaxis": {
            "gridcolor": "white",
            "linecolor": "white",
            "ticks": ""
           },
           "bgcolor": "#E5ECF6",
           "radialaxis": {
            "gridcolor": "white",
            "linecolor": "white",
            "ticks": ""
           }
          },
          "scene": {
           "xaxis": {
            "backgroundcolor": "#E5ECF6",
            "gridcolor": "white",
            "gridwidth": 2,
            "linecolor": "white",
            "showbackground": true,
            "ticks": "",
            "zerolinecolor": "white"
           },
           "yaxis": {
            "backgroundcolor": "#E5ECF6",
            "gridcolor": "white",
            "gridwidth": 2,
            "linecolor": "white",
            "showbackground": true,
            "ticks": "",
            "zerolinecolor": "white"
           },
           "zaxis": {
            "backgroundcolor": "#E5ECF6",
            "gridcolor": "white",
            "gridwidth": 2,
            "linecolor": "white",
            "showbackground": true,
            "ticks": "",
            "zerolinecolor": "white"
           }
          },
          "shapedefaults": {
           "line": {
            "color": "#2a3f5f"
           }
          },
          "ternary": {
           "aaxis": {
            "gridcolor": "white",
            "linecolor": "white",
            "ticks": ""
           },
           "baxis": {
            "gridcolor": "white",
            "linecolor": "white",
            "ticks": ""
           },
           "bgcolor": "#E5ECF6",
           "caxis": {
            "gridcolor": "white",
            "linecolor": "white",
            "ticks": ""
           }
          },
          "title": {
           "x": 0.05
          },
          "xaxis": {
           "automargin": true,
           "gridcolor": "white",
           "linecolor": "white",
           "ticks": "",
           "title": {
            "standoff": 15
           },
           "zerolinecolor": "white",
           "zerolinewidth": 2
          },
          "yaxis": {
           "automargin": true,
           "gridcolor": "white",
           "linecolor": "white",
           "ticks": "",
           "title": {
            "standoff": 15
           },
           "zerolinecolor": "white",
           "zerolinewidth": 2
          }
         }
        },
        "title": {
         "text": "On-Time Performance by Day of the Week"
        },
        "xaxis": {
         "anchor": "y",
         "domain": [
          0,
          1
         ],
         "title": {
          "text": "day_name"
         }
        },
        "yaxis": {
         "anchor": "x",
         "domain": [
          0,
          1
         ],
         "title": {
          "text": "on_time"
         }
        }
       }
      }
     },
     "metadata": {},
     "output_type": "display_data"
    }
   ],
   "source": [
    "# Calculate on-time performance\n",
    "trip_data['on_time'] = trip_data['excess_travel_time'] >= 0\n",
    "\n",
    "# On-Time Performance\n",
    "on_time_percentage = trip_data['on_time'].mean() * 100\n",
    "print(f\"On-Time Performance: {on_time_percentage:.2f}%\")\n",
    "\n",
    "# Travel Time Analysis\n",
    "import plotly.express as px\n",
    "import plotly.graph_objects as go\n",
    "# Day of the Week Analysis\n",
    "day_of_week_performance = trip_data.groupby('day_name')['on_time'].mean().reset_index()\n",
    "fig = px.line(day_of_week_performance, x='day_name', y='on_time', title='On-Time Performance by Day of the Week')\n",
    "fig.show()"
   ]
  },
  {
   "cell_type": "code",
   "execution_count": 26,
   "metadata": {},
   "outputs": [
    {
     "data": {
      "application/vnd.plotly.v1+json": {
       "config": {
        "plotlyServerURL": "https://plot.ly"
       },
       "data": [
        {
         "hovertemplate": "hour_of_day=%{x}<br>on_time=%{y}<extra></extra>",
         "legendgroup": "",
         "line": {
          "color": "#636efa",
          "dash": "solid"
         },
         "marker": {
          "symbol": "circle"
         },
         "mode": "lines",
         "name": "",
         "orientation": "v",
         "showlegend": false,
         "type": "scatter",
         "x": [
          6,
          6.25,
          6.5,
          6.75,
          7,
          7.25,
          7.5,
          7.75,
          8,
          8.25,
          8.5,
          8.75,
          9,
          9.25,
          9.5,
          9.75,
          10,
          10.25,
          10.5,
          10.75,
          11,
          11.25,
          11.5,
          11.75,
          12,
          12.25,
          12.5,
          12.75,
          13,
          13.25,
          13.5,
          13.75,
          14,
          14.25,
          14.5,
          14.75,
          15,
          15.25,
          15.5,
          15.75,
          16,
          16.25,
          16.5,
          16.75,
          17,
          17.25,
          17.5,
          17.75,
          18,
          18.25,
          18.5,
          18.75,
          19.25,
          19.5,
          19.75
         ],
         "xaxis": "x",
         "y": [
          0.02857142857142857,
          0.20270270270270271,
          0.3409090909090909,
          0.13793103448275862,
          0.08064516129032258,
          0.04225352112676056,
          0.03125,
          0.02,
          0,
          0.042105263157894736,
          0.023255813953488372,
          0.0125,
          0.07317073170731707,
          0.030927835051546393,
          0.04,
          0.057692307692307696,
          0.061224489795918366,
          0.11904761904761904,
          0.1320754716981132,
          0.15730337078651685,
          0.023255813953488372,
          0.16666666666666666,
          0.2,
          0.17857142857142858,
          0.17647058823529413,
          0.16304347826086957,
          0.21568627450980393,
          0.32222222222222224,
          0.3492063492063492,
          0.23076923076923078,
          0.15555555555555556,
          0.12222222222222222,
          0,
          0.043010752688172046,
          0.030303030303030304,
          0.060240963855421686,
          0.06,
          0.10526315789473684,
          0.13953488372093023,
          0.11235955056179775,
          0.09523809523809523,
          0.05333333333333334,
          0.04081632653061224,
          0.04597701149425287,
          0.025,
          0.07142857142857142,
          0,
          0.058823529411764705,
          0.045454545454545456,
          0,
          0,
          0.041666666666666664,
          0,
          0,
          0
         ],
         "yaxis": "y"
        }
       ],
       "layout": {
        "legend": {
         "tracegroupgap": 0
        },
        "template": {
         "data": {
          "bar": [
           {
            "error_x": {
             "color": "#2a3f5f"
            },
            "error_y": {
             "color": "#2a3f5f"
            },
            "marker": {
             "line": {
              "color": "#E5ECF6",
              "width": 0.5
             },
             "pattern": {
              "fillmode": "overlay",
              "size": 10,
              "solidity": 0.2
             }
            },
            "type": "bar"
           }
          ],
          "barpolar": [
           {
            "marker": {
             "line": {
              "color": "#E5ECF6",
              "width": 0.5
             },
             "pattern": {
              "fillmode": "overlay",
              "size": 10,
              "solidity": 0.2
             }
            },
            "type": "barpolar"
           }
          ],
          "carpet": [
           {
            "aaxis": {
             "endlinecolor": "#2a3f5f",
             "gridcolor": "white",
             "linecolor": "white",
             "minorgridcolor": "white",
             "startlinecolor": "#2a3f5f"
            },
            "baxis": {
             "endlinecolor": "#2a3f5f",
             "gridcolor": "white",
             "linecolor": "white",
             "minorgridcolor": "white",
             "startlinecolor": "#2a3f5f"
            },
            "type": "carpet"
           }
          ],
          "choropleth": [
           {
            "colorbar": {
             "outlinewidth": 0,
             "ticks": ""
            },
            "type": "choropleth"
           }
          ],
          "contour": [
           {
            "colorbar": {
             "outlinewidth": 0,
             "ticks": ""
            },
            "colorscale": [
             [
              0,
              "#0d0887"
             ],
             [
              0.1111111111111111,
              "#46039f"
             ],
             [
              0.2222222222222222,
              "#7201a8"
             ],
             [
              0.3333333333333333,
              "#9c179e"
             ],
             [
              0.4444444444444444,
              "#bd3786"
             ],
             [
              0.5555555555555556,
              "#d8576b"
             ],
             [
              0.6666666666666666,
              "#ed7953"
             ],
             [
              0.7777777777777778,
              "#fb9f3a"
             ],
             [
              0.8888888888888888,
              "#fdca26"
             ],
             [
              1,
              "#f0f921"
             ]
            ],
            "type": "contour"
           }
          ],
          "contourcarpet": [
           {
            "colorbar": {
             "outlinewidth": 0,
             "ticks": ""
            },
            "type": "contourcarpet"
           }
          ],
          "heatmap": [
           {
            "colorbar": {
             "outlinewidth": 0,
             "ticks": ""
            },
            "colorscale": [
             [
              0,
              "#0d0887"
             ],
             [
              0.1111111111111111,
              "#46039f"
             ],
             [
              0.2222222222222222,
              "#7201a8"
             ],
             [
              0.3333333333333333,
              "#9c179e"
             ],
             [
              0.4444444444444444,
              "#bd3786"
             ],
             [
              0.5555555555555556,
              "#d8576b"
             ],
             [
              0.6666666666666666,
              "#ed7953"
             ],
             [
              0.7777777777777778,
              "#fb9f3a"
             ],
             [
              0.8888888888888888,
              "#fdca26"
             ],
             [
              1,
              "#f0f921"
             ]
            ],
            "type": "heatmap"
           }
          ],
          "heatmapgl": [
           {
            "colorbar": {
             "outlinewidth": 0,
             "ticks": ""
            },
            "colorscale": [
             [
              0,
              "#0d0887"
             ],
             [
              0.1111111111111111,
              "#46039f"
             ],
             [
              0.2222222222222222,
              "#7201a8"
             ],
             [
              0.3333333333333333,
              "#9c179e"
             ],
             [
              0.4444444444444444,
              "#bd3786"
             ],
             [
              0.5555555555555556,
              "#d8576b"
             ],
             [
              0.6666666666666666,
              "#ed7953"
             ],
             [
              0.7777777777777778,
              "#fb9f3a"
             ],
             [
              0.8888888888888888,
              "#fdca26"
             ],
             [
              1,
              "#f0f921"
             ]
            ],
            "type": "heatmapgl"
           }
          ],
          "histogram": [
           {
            "marker": {
             "pattern": {
              "fillmode": "overlay",
              "size": 10,
              "solidity": 0.2
             }
            },
            "type": "histogram"
           }
          ],
          "histogram2d": [
           {
            "colorbar": {
             "outlinewidth": 0,
             "ticks": ""
            },
            "colorscale": [
             [
              0,
              "#0d0887"
             ],
             [
              0.1111111111111111,
              "#46039f"
             ],
             [
              0.2222222222222222,
              "#7201a8"
             ],
             [
              0.3333333333333333,
              "#9c179e"
             ],
             [
              0.4444444444444444,
              "#bd3786"
             ],
             [
              0.5555555555555556,
              "#d8576b"
             ],
             [
              0.6666666666666666,
              "#ed7953"
             ],
             [
              0.7777777777777778,
              "#fb9f3a"
             ],
             [
              0.8888888888888888,
              "#fdca26"
             ],
             [
              1,
              "#f0f921"
             ]
            ],
            "type": "histogram2d"
           }
          ],
          "histogram2dcontour": [
           {
            "colorbar": {
             "outlinewidth": 0,
             "ticks": ""
            },
            "colorscale": [
             [
              0,
              "#0d0887"
             ],
             [
              0.1111111111111111,
              "#46039f"
             ],
             [
              0.2222222222222222,
              "#7201a8"
             ],
             [
              0.3333333333333333,
              "#9c179e"
             ],
             [
              0.4444444444444444,
              "#bd3786"
             ],
             [
              0.5555555555555556,
              "#d8576b"
             ],
             [
              0.6666666666666666,
              "#ed7953"
             ],
             [
              0.7777777777777778,
              "#fb9f3a"
             ],
             [
              0.8888888888888888,
              "#fdca26"
             ],
             [
              1,
              "#f0f921"
             ]
            ],
            "type": "histogram2dcontour"
           }
          ],
          "mesh3d": [
           {
            "colorbar": {
             "outlinewidth": 0,
             "ticks": ""
            },
            "type": "mesh3d"
           }
          ],
          "parcoords": [
           {
            "line": {
             "colorbar": {
              "outlinewidth": 0,
              "ticks": ""
             }
            },
            "type": "parcoords"
           }
          ],
          "pie": [
           {
            "automargin": true,
            "type": "pie"
           }
          ],
          "scatter": [
           {
            "fillpattern": {
             "fillmode": "overlay",
             "size": 10,
             "solidity": 0.2
            },
            "type": "scatter"
           }
          ],
          "scatter3d": [
           {
            "line": {
             "colorbar": {
              "outlinewidth": 0,
              "ticks": ""
             }
            },
            "marker": {
             "colorbar": {
              "outlinewidth": 0,
              "ticks": ""
             }
            },
            "type": "scatter3d"
           }
          ],
          "scattercarpet": [
           {
            "marker": {
             "colorbar": {
              "outlinewidth": 0,
              "ticks": ""
             }
            },
            "type": "scattercarpet"
           }
          ],
          "scattergeo": [
           {
            "marker": {
             "colorbar": {
              "outlinewidth": 0,
              "ticks": ""
             }
            },
            "type": "scattergeo"
           }
          ],
          "scattergl": [
           {
            "marker": {
             "colorbar": {
              "outlinewidth": 0,
              "ticks": ""
             }
            },
            "type": "scattergl"
           }
          ],
          "scattermapbox": [
           {
            "marker": {
             "colorbar": {
              "outlinewidth": 0,
              "ticks": ""
             }
            },
            "type": "scattermapbox"
           }
          ],
          "scatterpolar": [
           {
            "marker": {
             "colorbar": {
              "outlinewidth": 0,
              "ticks": ""
             }
            },
            "type": "scatterpolar"
           }
          ],
          "scatterpolargl": [
           {
            "marker": {
             "colorbar": {
              "outlinewidth": 0,
              "ticks": ""
             }
            },
            "type": "scatterpolargl"
           }
          ],
          "scatterternary": [
           {
            "marker": {
             "colorbar": {
              "outlinewidth": 0,
              "ticks": ""
             }
            },
            "type": "scatterternary"
           }
          ],
          "surface": [
           {
            "colorbar": {
             "outlinewidth": 0,
             "ticks": ""
            },
            "colorscale": [
             [
              0,
              "#0d0887"
             ],
             [
              0.1111111111111111,
              "#46039f"
             ],
             [
              0.2222222222222222,
              "#7201a8"
             ],
             [
              0.3333333333333333,
              "#9c179e"
             ],
             [
              0.4444444444444444,
              "#bd3786"
             ],
             [
              0.5555555555555556,
              "#d8576b"
             ],
             [
              0.6666666666666666,
              "#ed7953"
             ],
             [
              0.7777777777777778,
              "#fb9f3a"
             ],
             [
              0.8888888888888888,
              "#fdca26"
             ],
             [
              1,
              "#f0f921"
             ]
            ],
            "type": "surface"
           }
          ],
          "table": [
           {
            "cells": {
             "fill": {
              "color": "#EBF0F8"
             },
             "line": {
              "color": "white"
             }
            },
            "header": {
             "fill": {
              "color": "#C8D4E3"
             },
             "line": {
              "color": "white"
             }
            },
            "type": "table"
           }
          ]
         },
         "layout": {
          "annotationdefaults": {
           "arrowcolor": "#2a3f5f",
           "arrowhead": 0,
           "arrowwidth": 1
          },
          "autotypenumbers": "strict",
          "coloraxis": {
           "colorbar": {
            "outlinewidth": 0,
            "ticks": ""
           }
          },
          "colorscale": {
           "diverging": [
            [
             0,
             "#8e0152"
            ],
            [
             0.1,
             "#c51b7d"
            ],
            [
             0.2,
             "#de77ae"
            ],
            [
             0.3,
             "#f1b6da"
            ],
            [
             0.4,
             "#fde0ef"
            ],
            [
             0.5,
             "#f7f7f7"
            ],
            [
             0.6,
             "#e6f5d0"
            ],
            [
             0.7,
             "#b8e186"
            ],
            [
             0.8,
             "#7fbc41"
            ],
            [
             0.9,
             "#4d9221"
            ],
            [
             1,
             "#276419"
            ]
           ],
           "sequential": [
            [
             0,
             "#0d0887"
            ],
            [
             0.1111111111111111,
             "#46039f"
            ],
            [
             0.2222222222222222,
             "#7201a8"
            ],
            [
             0.3333333333333333,
             "#9c179e"
            ],
            [
             0.4444444444444444,
             "#bd3786"
            ],
            [
             0.5555555555555556,
             "#d8576b"
            ],
            [
             0.6666666666666666,
             "#ed7953"
            ],
            [
             0.7777777777777778,
             "#fb9f3a"
            ],
            [
             0.8888888888888888,
             "#fdca26"
            ],
            [
             1,
             "#f0f921"
            ]
           ],
           "sequentialminus": [
            [
             0,
             "#0d0887"
            ],
            [
             0.1111111111111111,
             "#46039f"
            ],
            [
             0.2222222222222222,
             "#7201a8"
            ],
            [
             0.3333333333333333,
             "#9c179e"
            ],
            [
             0.4444444444444444,
             "#bd3786"
            ],
            [
             0.5555555555555556,
             "#d8576b"
            ],
            [
             0.6666666666666666,
             "#ed7953"
            ],
            [
             0.7777777777777778,
             "#fb9f3a"
            ],
            [
             0.8888888888888888,
             "#fdca26"
            ],
            [
             1,
             "#f0f921"
            ]
           ]
          },
          "colorway": [
           "#636efa",
           "#EF553B",
           "#00cc96",
           "#ab63fa",
           "#FFA15A",
           "#19d3f3",
           "#FF6692",
           "#B6E880",
           "#FF97FF",
           "#FECB52"
          ],
          "font": {
           "color": "#2a3f5f"
          },
          "geo": {
           "bgcolor": "white",
           "lakecolor": "white",
           "landcolor": "#E5ECF6",
           "showlakes": true,
           "showland": true,
           "subunitcolor": "white"
          },
          "hoverlabel": {
           "align": "left"
          },
          "hovermode": "closest",
          "mapbox": {
           "style": "light"
          },
          "paper_bgcolor": "white",
          "plot_bgcolor": "#E5ECF6",
          "polar": {
           "angularaxis": {
            "gridcolor": "white",
            "linecolor": "white",
            "ticks": ""
           },
           "bgcolor": "#E5ECF6",
           "radialaxis": {
            "gridcolor": "white",
            "linecolor": "white",
            "ticks": ""
           }
          },
          "scene": {
           "xaxis": {
            "backgroundcolor": "#E5ECF6",
            "gridcolor": "white",
            "gridwidth": 2,
            "linecolor": "white",
            "showbackground": true,
            "ticks": "",
            "zerolinecolor": "white"
           },
           "yaxis": {
            "backgroundcolor": "#E5ECF6",
            "gridcolor": "white",
            "gridwidth": 2,
            "linecolor": "white",
            "showbackground": true,
            "ticks": "",
            "zerolinecolor": "white"
           },
           "zaxis": {
            "backgroundcolor": "#E5ECF6",
            "gridcolor": "white",
            "gridwidth": 2,
            "linecolor": "white",
            "showbackground": true,
            "ticks": "",
            "zerolinecolor": "white"
           }
          },
          "shapedefaults": {
           "line": {
            "color": "#2a3f5f"
           }
          },
          "ternary": {
           "aaxis": {
            "gridcolor": "white",
            "linecolor": "white",
            "ticks": ""
           },
           "baxis": {
            "gridcolor": "white",
            "linecolor": "white",
            "ticks": ""
           },
           "bgcolor": "#E5ECF6",
           "caxis": {
            "gridcolor": "white",
            "linecolor": "white",
            "ticks": ""
           }
          },
          "title": {
           "x": 0.05
          },
          "xaxis": {
           "automargin": true,
           "gridcolor": "white",
           "linecolor": "white",
           "ticks": "",
           "title": {
            "standoff": 15
           },
           "zerolinecolor": "white",
           "zerolinewidth": 2
          },
          "yaxis": {
           "automargin": true,
           "gridcolor": "white",
           "linecolor": "white",
           "ticks": "",
           "title": {
            "standoff": 15
           },
           "zerolinecolor": "white",
           "zerolinewidth": 2
          }
         }
        },
        "title": {
         "text": "On-Time Performance by Hour of the Day"
        },
        "xaxis": {
         "anchor": "y",
         "domain": [
          0,
          1
         ],
         "title": {
          "text": "hour_of_day"
         }
        },
        "yaxis": {
         "anchor": "x",
         "domain": [
          0,
          1
         ],
         "title": {
          "text": "on_time"
         }
        }
       }
      }
     },
     "metadata": {},
     "output_type": "display_data"
    }
   ],
   "source": [
    "# Hourly Analysis\n",
    "hourly_performance = trip_data.groupby('hour_of_day')['on_time'].mean().reset_index()\n",
    "fig = px.line(hourly_performance, x='hour_of_day', y='on_time', title='On-Time Performance by Hour of the Day')\n",
    "fig.show()"
   ]
  },
  {
   "cell_type": "code",
   "execution_count": 27,
   "metadata": {},
   "outputs": [
    {
     "data": {
      "application/vnd.plotly.v1+json": {
       "config": {
        "plotlyServerURL": "https://plot.ly"
       },
       "data": [
        {
         "alignmentgroup": "True",
         "hovertemplate": "weekend=%{x}<br>on_time=%{y}<extra></extra>",
         "legendgroup": "",
         "marker": {
          "color": "#636efa",
          "pattern": {
           "shape": ""
          }
         },
         "name": "",
         "offsetgroup": "",
         "orientation": "v",
         "showlegend": false,
         "textposition": "auto",
         "type": "bar",
         "x": [
          0,
          1
         ],
         "xaxis": "x",
         "y": [
          0.10758237395791981,
          0.07825086306098965
         ],
         "yaxis": "y"
        }
       ],
       "layout": {
        "barmode": "relative",
        "legend": {
         "tracegroupgap": 0
        },
        "template": {
         "data": {
          "bar": [
           {
            "error_x": {
             "color": "#2a3f5f"
            },
            "error_y": {
             "color": "#2a3f5f"
            },
            "marker": {
             "line": {
              "color": "#E5ECF6",
              "width": 0.5
             },
             "pattern": {
              "fillmode": "overlay",
              "size": 10,
              "solidity": 0.2
             }
            },
            "type": "bar"
           }
          ],
          "barpolar": [
           {
            "marker": {
             "line": {
              "color": "#E5ECF6",
              "width": 0.5
             },
             "pattern": {
              "fillmode": "overlay",
              "size": 10,
              "solidity": 0.2
             }
            },
            "type": "barpolar"
           }
          ],
          "carpet": [
           {
            "aaxis": {
             "endlinecolor": "#2a3f5f",
             "gridcolor": "white",
             "linecolor": "white",
             "minorgridcolor": "white",
             "startlinecolor": "#2a3f5f"
            },
            "baxis": {
             "endlinecolor": "#2a3f5f",
             "gridcolor": "white",
             "linecolor": "white",
             "minorgridcolor": "white",
             "startlinecolor": "#2a3f5f"
            },
            "type": "carpet"
           }
          ],
          "choropleth": [
           {
            "colorbar": {
             "outlinewidth": 0,
             "ticks": ""
            },
            "type": "choropleth"
           }
          ],
          "contour": [
           {
            "colorbar": {
             "outlinewidth": 0,
             "ticks": ""
            },
            "colorscale": [
             [
              0,
              "#0d0887"
             ],
             [
              0.1111111111111111,
              "#46039f"
             ],
             [
              0.2222222222222222,
              "#7201a8"
             ],
             [
              0.3333333333333333,
              "#9c179e"
             ],
             [
              0.4444444444444444,
              "#bd3786"
             ],
             [
              0.5555555555555556,
              "#d8576b"
             ],
             [
              0.6666666666666666,
              "#ed7953"
             ],
             [
              0.7777777777777778,
              "#fb9f3a"
             ],
             [
              0.8888888888888888,
              "#fdca26"
             ],
             [
              1,
              "#f0f921"
             ]
            ],
            "type": "contour"
           }
          ],
          "contourcarpet": [
           {
            "colorbar": {
             "outlinewidth": 0,
             "ticks": ""
            },
            "type": "contourcarpet"
           }
          ],
          "heatmap": [
           {
            "colorbar": {
             "outlinewidth": 0,
             "ticks": ""
            },
            "colorscale": [
             [
              0,
              "#0d0887"
             ],
             [
              0.1111111111111111,
              "#46039f"
             ],
             [
              0.2222222222222222,
              "#7201a8"
             ],
             [
              0.3333333333333333,
              "#9c179e"
             ],
             [
              0.4444444444444444,
              "#bd3786"
             ],
             [
              0.5555555555555556,
              "#d8576b"
             ],
             [
              0.6666666666666666,
              "#ed7953"
             ],
             [
              0.7777777777777778,
              "#fb9f3a"
             ],
             [
              0.8888888888888888,
              "#fdca26"
             ],
             [
              1,
              "#f0f921"
             ]
            ],
            "type": "heatmap"
           }
          ],
          "heatmapgl": [
           {
            "colorbar": {
             "outlinewidth": 0,
             "ticks": ""
            },
            "colorscale": [
             [
              0,
              "#0d0887"
             ],
             [
              0.1111111111111111,
              "#46039f"
             ],
             [
              0.2222222222222222,
              "#7201a8"
             ],
             [
              0.3333333333333333,
              "#9c179e"
             ],
             [
              0.4444444444444444,
              "#bd3786"
             ],
             [
              0.5555555555555556,
              "#d8576b"
             ],
             [
              0.6666666666666666,
              "#ed7953"
             ],
             [
              0.7777777777777778,
              "#fb9f3a"
             ],
             [
              0.8888888888888888,
              "#fdca26"
             ],
             [
              1,
              "#f0f921"
             ]
            ],
            "type": "heatmapgl"
           }
          ],
          "histogram": [
           {
            "marker": {
             "pattern": {
              "fillmode": "overlay",
              "size": 10,
              "solidity": 0.2
             }
            },
            "type": "histogram"
           }
          ],
          "histogram2d": [
           {
            "colorbar": {
             "outlinewidth": 0,
             "ticks": ""
            },
            "colorscale": [
             [
              0,
              "#0d0887"
             ],
             [
              0.1111111111111111,
              "#46039f"
             ],
             [
              0.2222222222222222,
              "#7201a8"
             ],
             [
              0.3333333333333333,
              "#9c179e"
             ],
             [
              0.4444444444444444,
              "#bd3786"
             ],
             [
              0.5555555555555556,
              "#d8576b"
             ],
             [
              0.6666666666666666,
              "#ed7953"
             ],
             [
              0.7777777777777778,
              "#fb9f3a"
             ],
             [
              0.8888888888888888,
              "#fdca26"
             ],
             [
              1,
              "#f0f921"
             ]
            ],
            "type": "histogram2d"
           }
          ],
          "histogram2dcontour": [
           {
            "colorbar": {
             "outlinewidth": 0,
             "ticks": ""
            },
            "colorscale": [
             [
              0,
              "#0d0887"
             ],
             [
              0.1111111111111111,
              "#46039f"
             ],
             [
              0.2222222222222222,
              "#7201a8"
             ],
             [
              0.3333333333333333,
              "#9c179e"
             ],
             [
              0.4444444444444444,
              "#bd3786"
             ],
             [
              0.5555555555555556,
              "#d8576b"
             ],
             [
              0.6666666666666666,
              "#ed7953"
             ],
             [
              0.7777777777777778,
              "#fb9f3a"
             ],
             [
              0.8888888888888888,
              "#fdca26"
             ],
             [
              1,
              "#f0f921"
             ]
            ],
            "type": "histogram2dcontour"
           }
          ],
          "mesh3d": [
           {
            "colorbar": {
             "outlinewidth": 0,
             "ticks": ""
            },
            "type": "mesh3d"
           }
          ],
          "parcoords": [
           {
            "line": {
             "colorbar": {
              "outlinewidth": 0,
              "ticks": ""
             }
            },
            "type": "parcoords"
           }
          ],
          "pie": [
           {
            "automargin": true,
            "type": "pie"
           }
          ],
          "scatter": [
           {
            "fillpattern": {
             "fillmode": "overlay",
             "size": 10,
             "solidity": 0.2
            },
            "type": "scatter"
           }
          ],
          "scatter3d": [
           {
            "line": {
             "colorbar": {
              "outlinewidth": 0,
              "ticks": ""
             }
            },
            "marker": {
             "colorbar": {
              "outlinewidth": 0,
              "ticks": ""
             }
            },
            "type": "scatter3d"
           }
          ],
          "scattercarpet": [
           {
            "marker": {
             "colorbar": {
              "outlinewidth": 0,
              "ticks": ""
             }
            },
            "type": "scattercarpet"
           }
          ],
          "scattergeo": [
           {
            "marker": {
             "colorbar": {
              "outlinewidth": 0,
              "ticks": ""
             }
            },
            "type": "scattergeo"
           }
          ],
          "scattergl": [
           {
            "marker": {
             "colorbar": {
              "outlinewidth": 0,
              "ticks": ""
             }
            },
            "type": "scattergl"
           }
          ],
          "scattermapbox": [
           {
            "marker": {
             "colorbar": {
              "outlinewidth": 0,
              "ticks": ""
             }
            },
            "type": "scattermapbox"
           }
          ],
          "scatterpolar": [
           {
            "marker": {
             "colorbar": {
              "outlinewidth": 0,
              "ticks": ""
             }
            },
            "type": "scatterpolar"
           }
          ],
          "scatterpolargl": [
           {
            "marker": {
             "colorbar": {
              "outlinewidth": 0,
              "ticks": ""
             }
            },
            "type": "scatterpolargl"
           }
          ],
          "scatterternary": [
           {
            "marker": {
             "colorbar": {
              "outlinewidth": 0,
              "ticks": ""
             }
            },
            "type": "scatterternary"
           }
          ],
          "surface": [
           {
            "colorbar": {
             "outlinewidth": 0,
             "ticks": ""
            },
            "colorscale": [
             [
              0,
              "#0d0887"
             ],
             [
              0.1111111111111111,
              "#46039f"
             ],
             [
              0.2222222222222222,
              "#7201a8"
             ],
             [
              0.3333333333333333,
              "#9c179e"
             ],
             [
              0.4444444444444444,
              "#bd3786"
             ],
             [
              0.5555555555555556,
              "#d8576b"
             ],
             [
              0.6666666666666666,
              "#ed7953"
             ],
             [
              0.7777777777777778,
              "#fb9f3a"
             ],
             [
              0.8888888888888888,
              "#fdca26"
             ],
             [
              1,
              "#f0f921"
             ]
            ],
            "type": "surface"
           }
          ],
          "table": [
           {
            "cells": {
             "fill": {
              "color": "#EBF0F8"
             },
             "line": {
              "color": "white"
             }
            },
            "header": {
             "fill": {
              "color": "#C8D4E3"
             },
             "line": {
              "color": "white"
             }
            },
            "type": "table"
           }
          ]
         },
         "layout": {
          "annotationdefaults": {
           "arrowcolor": "#2a3f5f",
           "arrowhead": 0,
           "arrowwidth": 1
          },
          "autotypenumbers": "strict",
          "coloraxis": {
           "colorbar": {
            "outlinewidth": 0,
            "ticks": ""
           }
          },
          "colorscale": {
           "diverging": [
            [
             0,
             "#8e0152"
            ],
            [
             0.1,
             "#c51b7d"
            ],
            [
             0.2,
             "#de77ae"
            ],
            [
             0.3,
             "#f1b6da"
            ],
            [
             0.4,
             "#fde0ef"
            ],
            [
             0.5,
             "#f7f7f7"
            ],
            [
             0.6,
             "#e6f5d0"
            ],
            [
             0.7,
             "#b8e186"
            ],
            [
             0.8,
             "#7fbc41"
            ],
            [
             0.9,
             "#4d9221"
            ],
            [
             1,
             "#276419"
            ]
           ],
           "sequential": [
            [
             0,
             "#0d0887"
            ],
            [
             0.1111111111111111,
             "#46039f"
            ],
            [
             0.2222222222222222,
             "#7201a8"
            ],
            [
             0.3333333333333333,
             "#9c179e"
            ],
            [
             0.4444444444444444,
             "#bd3786"
            ],
            [
             0.5555555555555556,
             "#d8576b"
            ],
            [
             0.6666666666666666,
             "#ed7953"
            ],
            [
             0.7777777777777778,
             "#fb9f3a"
            ],
            [
             0.8888888888888888,
             "#fdca26"
            ],
            [
             1,
             "#f0f921"
            ]
           ],
           "sequentialminus": [
            [
             0,
             "#0d0887"
            ],
            [
             0.1111111111111111,
             "#46039f"
            ],
            [
             0.2222222222222222,
             "#7201a8"
            ],
            [
             0.3333333333333333,
             "#9c179e"
            ],
            [
             0.4444444444444444,
             "#bd3786"
            ],
            [
             0.5555555555555556,
             "#d8576b"
            ],
            [
             0.6666666666666666,
             "#ed7953"
            ],
            [
             0.7777777777777778,
             "#fb9f3a"
            ],
            [
             0.8888888888888888,
             "#fdca26"
            ],
            [
             1,
             "#f0f921"
            ]
           ]
          },
          "colorway": [
           "#636efa",
           "#EF553B",
           "#00cc96",
           "#ab63fa",
           "#FFA15A",
           "#19d3f3",
           "#FF6692",
           "#B6E880",
           "#FF97FF",
           "#FECB52"
          ],
          "font": {
           "color": "#2a3f5f"
          },
          "geo": {
           "bgcolor": "white",
           "lakecolor": "white",
           "landcolor": "#E5ECF6",
           "showlakes": true,
           "showland": true,
           "subunitcolor": "white"
          },
          "hoverlabel": {
           "align": "left"
          },
          "hovermode": "closest",
          "mapbox": {
           "style": "light"
          },
          "paper_bgcolor": "white",
          "plot_bgcolor": "#E5ECF6",
          "polar": {
           "angularaxis": {
            "gridcolor": "white",
            "linecolor": "white",
            "ticks": ""
           },
           "bgcolor": "#E5ECF6",
           "radialaxis": {
            "gridcolor": "white",
            "linecolor": "white",
            "ticks": ""
           }
          },
          "scene": {
           "xaxis": {
            "backgroundcolor": "#E5ECF6",
            "gridcolor": "white",
            "gridwidth": 2,
            "linecolor": "white",
            "showbackground": true,
            "ticks": "",
            "zerolinecolor": "white"
           },
           "yaxis": {
            "backgroundcolor": "#E5ECF6",
            "gridcolor": "white",
            "gridwidth": 2,
            "linecolor": "white",
            "showbackground": true,
            "ticks": "",
            "zerolinecolor": "white"
           },
           "zaxis": {
            "backgroundcolor": "#E5ECF6",
            "gridcolor": "white",
            "gridwidth": 2,
            "linecolor": "white",
            "showbackground": true,
            "ticks": "",
            "zerolinecolor": "white"
           }
          },
          "shapedefaults": {
           "line": {
            "color": "#2a3f5f"
           }
          },
          "ternary": {
           "aaxis": {
            "gridcolor": "white",
            "linecolor": "white",
            "ticks": ""
           },
           "baxis": {
            "gridcolor": "white",
            "linecolor": "white",
            "ticks": ""
           },
           "bgcolor": "#E5ECF6",
           "caxis": {
            "gridcolor": "white",
            "linecolor": "white",
            "ticks": ""
           }
          },
          "title": {
           "x": 0.05
          },
          "xaxis": {
           "automargin": true,
           "gridcolor": "white",
           "linecolor": "white",
           "ticks": "",
           "title": {
            "standoff": 15
           },
           "zerolinecolor": "white",
           "zerolinewidth": 2
          },
          "yaxis": {
           "automargin": true,
           "gridcolor": "white",
           "linecolor": "white",
           "ticks": "",
           "title": {
            "standoff": 15
           },
           "zerolinecolor": "white",
           "zerolinewidth": 2
          }
         }
        },
        "title": {
         "text": "On-Time Performance: Weekend vs. Weekday"
        },
        "xaxis": {
         "anchor": "y",
         "categoryorder": "total ascending",
         "domain": [
          0,
          1
         ],
         "title": {
          "text": "weekend"
         },
         "type": "category"
        },
        "yaxis": {
         "anchor": "x",
         "domain": [
          0,
          1
         ],
         "title": {
          "text": "on_time"
         }
        }
       }
      }
     },
     "metadata": {},
     "output_type": "display_data"
    }
   ],
   "source": [
    "weekend_performance = trip_data.groupby('weekend')['on_time'].mean().reset_index()\n",
    "fig = px.bar(weekend_performance, x='weekend', y='on_time', title='On-Time Performance: Weekend vs. Weekday')\n",
    "fig.update_xaxes(type='category', categoryorder='total ascending')\n",
    "fig.show()"
   ]
  },
  {
   "cell_type": "code",
   "execution_count": 28,
   "metadata": {},
   "outputs": [
    {
     "data": {
      "application/vnd.plotly.v1+json": {
       "config": {
        "plotlyServerURL": "https://plot.ly"
       },
       "data": [
        {
         "alignmentgroup": "True",
         "hovertemplate": "Direction=%{x}<br>on_time=%{y}<extra></extra>",
         "legendgroup": "",
         "marker": {
          "color": "#636efa",
          "pattern": {
           "shape": ""
          }
         },
         "name": "",
         "offsetgroup": "",
         "orientation": "v",
         "showlegend": false,
         "textposition": "auto",
         "type": "bar",
         "x": [
          "Digana-Kandy",
          "Kandy-Digana"
         ],
         "xaxis": "x",
         "y": [
          0.0955223880597015,
          0.1044950379451255
         ],
         "yaxis": "y"
        }
       ],
       "layout": {
        "barmode": "relative",
        "legend": {
         "tracegroupgap": 0
        },
        "template": {
         "data": {
          "bar": [
           {
            "error_x": {
             "color": "#2a3f5f"
            },
            "error_y": {
             "color": "#2a3f5f"
            },
            "marker": {
             "line": {
              "color": "#E5ECF6",
              "width": 0.5
             },
             "pattern": {
              "fillmode": "overlay",
              "size": 10,
              "solidity": 0.2
             }
            },
            "type": "bar"
           }
          ],
          "barpolar": [
           {
            "marker": {
             "line": {
              "color": "#E5ECF6",
              "width": 0.5
             },
             "pattern": {
              "fillmode": "overlay",
              "size": 10,
              "solidity": 0.2
             }
            },
            "type": "barpolar"
           }
          ],
          "carpet": [
           {
            "aaxis": {
             "endlinecolor": "#2a3f5f",
             "gridcolor": "white",
             "linecolor": "white",
             "minorgridcolor": "white",
             "startlinecolor": "#2a3f5f"
            },
            "baxis": {
             "endlinecolor": "#2a3f5f",
             "gridcolor": "white",
             "linecolor": "white",
             "minorgridcolor": "white",
             "startlinecolor": "#2a3f5f"
            },
            "type": "carpet"
           }
          ],
          "choropleth": [
           {
            "colorbar": {
             "outlinewidth": 0,
             "ticks": ""
            },
            "type": "choropleth"
           }
          ],
          "contour": [
           {
            "colorbar": {
             "outlinewidth": 0,
             "ticks": ""
            },
            "colorscale": [
             [
              0,
              "#0d0887"
             ],
             [
              0.1111111111111111,
              "#46039f"
             ],
             [
              0.2222222222222222,
              "#7201a8"
             ],
             [
              0.3333333333333333,
              "#9c179e"
             ],
             [
              0.4444444444444444,
              "#bd3786"
             ],
             [
              0.5555555555555556,
              "#d8576b"
             ],
             [
              0.6666666666666666,
              "#ed7953"
             ],
             [
              0.7777777777777778,
              "#fb9f3a"
             ],
             [
              0.8888888888888888,
              "#fdca26"
             ],
             [
              1,
              "#f0f921"
             ]
            ],
            "type": "contour"
           }
          ],
          "contourcarpet": [
           {
            "colorbar": {
             "outlinewidth": 0,
             "ticks": ""
            },
            "type": "contourcarpet"
           }
          ],
          "heatmap": [
           {
            "colorbar": {
             "outlinewidth": 0,
             "ticks": ""
            },
            "colorscale": [
             [
              0,
              "#0d0887"
             ],
             [
              0.1111111111111111,
              "#46039f"
             ],
             [
              0.2222222222222222,
              "#7201a8"
             ],
             [
              0.3333333333333333,
              "#9c179e"
             ],
             [
              0.4444444444444444,
              "#bd3786"
             ],
             [
              0.5555555555555556,
              "#d8576b"
             ],
             [
              0.6666666666666666,
              "#ed7953"
             ],
             [
              0.7777777777777778,
              "#fb9f3a"
             ],
             [
              0.8888888888888888,
              "#fdca26"
             ],
             [
              1,
              "#f0f921"
             ]
            ],
            "type": "heatmap"
           }
          ],
          "heatmapgl": [
           {
            "colorbar": {
             "outlinewidth": 0,
             "ticks": ""
            },
            "colorscale": [
             [
              0,
              "#0d0887"
             ],
             [
              0.1111111111111111,
              "#46039f"
             ],
             [
              0.2222222222222222,
              "#7201a8"
             ],
             [
              0.3333333333333333,
              "#9c179e"
             ],
             [
              0.4444444444444444,
              "#bd3786"
             ],
             [
              0.5555555555555556,
              "#d8576b"
             ],
             [
              0.6666666666666666,
              "#ed7953"
             ],
             [
              0.7777777777777778,
              "#fb9f3a"
             ],
             [
              0.8888888888888888,
              "#fdca26"
             ],
             [
              1,
              "#f0f921"
             ]
            ],
            "type": "heatmapgl"
           }
          ],
          "histogram": [
           {
            "marker": {
             "pattern": {
              "fillmode": "overlay",
              "size": 10,
              "solidity": 0.2
             }
            },
            "type": "histogram"
           }
          ],
          "histogram2d": [
           {
            "colorbar": {
             "outlinewidth": 0,
             "ticks": ""
            },
            "colorscale": [
             [
              0,
              "#0d0887"
             ],
             [
              0.1111111111111111,
              "#46039f"
             ],
             [
              0.2222222222222222,
              "#7201a8"
             ],
             [
              0.3333333333333333,
              "#9c179e"
             ],
             [
              0.4444444444444444,
              "#bd3786"
             ],
             [
              0.5555555555555556,
              "#d8576b"
             ],
             [
              0.6666666666666666,
              "#ed7953"
             ],
             [
              0.7777777777777778,
              "#fb9f3a"
             ],
             [
              0.8888888888888888,
              "#fdca26"
             ],
             [
              1,
              "#f0f921"
             ]
            ],
            "type": "histogram2d"
           }
          ],
          "histogram2dcontour": [
           {
            "colorbar": {
             "outlinewidth": 0,
             "ticks": ""
            },
            "colorscale": [
             [
              0,
              "#0d0887"
             ],
             [
              0.1111111111111111,
              "#46039f"
             ],
             [
              0.2222222222222222,
              "#7201a8"
             ],
             [
              0.3333333333333333,
              "#9c179e"
             ],
             [
              0.4444444444444444,
              "#bd3786"
             ],
             [
              0.5555555555555556,
              "#d8576b"
             ],
             [
              0.6666666666666666,
              "#ed7953"
             ],
             [
              0.7777777777777778,
              "#fb9f3a"
             ],
             [
              0.8888888888888888,
              "#fdca26"
             ],
             [
              1,
              "#f0f921"
             ]
            ],
            "type": "histogram2dcontour"
           }
          ],
          "mesh3d": [
           {
            "colorbar": {
             "outlinewidth": 0,
             "ticks": ""
            },
            "type": "mesh3d"
           }
          ],
          "parcoords": [
           {
            "line": {
             "colorbar": {
              "outlinewidth": 0,
              "ticks": ""
             }
            },
            "type": "parcoords"
           }
          ],
          "pie": [
           {
            "automargin": true,
            "type": "pie"
           }
          ],
          "scatter": [
           {
            "fillpattern": {
             "fillmode": "overlay",
             "size": 10,
             "solidity": 0.2
            },
            "type": "scatter"
           }
          ],
          "scatter3d": [
           {
            "line": {
             "colorbar": {
              "outlinewidth": 0,
              "ticks": ""
             }
            },
            "marker": {
             "colorbar": {
              "outlinewidth": 0,
              "ticks": ""
             }
            },
            "type": "scatter3d"
           }
          ],
          "scattercarpet": [
           {
            "marker": {
             "colorbar": {
              "outlinewidth": 0,
              "ticks": ""
             }
            },
            "type": "scattercarpet"
           }
          ],
          "scattergeo": [
           {
            "marker": {
             "colorbar": {
              "outlinewidth": 0,
              "ticks": ""
             }
            },
            "type": "scattergeo"
           }
          ],
          "scattergl": [
           {
            "marker": {
             "colorbar": {
              "outlinewidth": 0,
              "ticks": ""
             }
            },
            "type": "scattergl"
           }
          ],
          "scattermapbox": [
           {
            "marker": {
             "colorbar": {
              "outlinewidth": 0,
              "ticks": ""
             }
            },
            "type": "scattermapbox"
           }
          ],
          "scatterpolar": [
           {
            "marker": {
             "colorbar": {
              "outlinewidth": 0,
              "ticks": ""
             }
            },
            "type": "scatterpolar"
           }
          ],
          "scatterpolargl": [
           {
            "marker": {
             "colorbar": {
              "outlinewidth": 0,
              "ticks": ""
             }
            },
            "type": "scatterpolargl"
           }
          ],
          "scatterternary": [
           {
            "marker": {
             "colorbar": {
              "outlinewidth": 0,
              "ticks": ""
             }
            },
            "type": "scatterternary"
           }
          ],
          "surface": [
           {
            "colorbar": {
             "outlinewidth": 0,
             "ticks": ""
            },
            "colorscale": [
             [
              0,
              "#0d0887"
             ],
             [
              0.1111111111111111,
              "#46039f"
             ],
             [
              0.2222222222222222,
              "#7201a8"
             ],
             [
              0.3333333333333333,
              "#9c179e"
             ],
             [
              0.4444444444444444,
              "#bd3786"
             ],
             [
              0.5555555555555556,
              "#d8576b"
             ],
             [
              0.6666666666666666,
              "#ed7953"
             ],
             [
              0.7777777777777778,
              "#fb9f3a"
             ],
             [
              0.8888888888888888,
              "#fdca26"
             ],
             [
              1,
              "#f0f921"
             ]
            ],
            "type": "surface"
           }
          ],
          "table": [
           {
            "cells": {
             "fill": {
              "color": "#EBF0F8"
             },
             "line": {
              "color": "white"
             }
            },
            "header": {
             "fill": {
              "color": "#C8D4E3"
             },
             "line": {
              "color": "white"
             }
            },
            "type": "table"
           }
          ]
         },
         "layout": {
          "annotationdefaults": {
           "arrowcolor": "#2a3f5f",
           "arrowhead": 0,
           "arrowwidth": 1
          },
          "autotypenumbers": "strict",
          "coloraxis": {
           "colorbar": {
            "outlinewidth": 0,
            "ticks": ""
           }
          },
          "colorscale": {
           "diverging": [
            [
             0,
             "#8e0152"
            ],
            [
             0.1,
             "#c51b7d"
            ],
            [
             0.2,
             "#de77ae"
            ],
            [
             0.3,
             "#f1b6da"
            ],
            [
             0.4,
             "#fde0ef"
            ],
            [
             0.5,
             "#f7f7f7"
            ],
            [
             0.6,
             "#e6f5d0"
            ],
            [
             0.7,
             "#b8e186"
            ],
            [
             0.8,
             "#7fbc41"
            ],
            [
             0.9,
             "#4d9221"
            ],
            [
             1,
             "#276419"
            ]
           ],
           "sequential": [
            [
             0,
             "#0d0887"
            ],
            [
             0.1111111111111111,
             "#46039f"
            ],
            [
             0.2222222222222222,
             "#7201a8"
            ],
            [
             0.3333333333333333,
             "#9c179e"
            ],
            [
             0.4444444444444444,
             "#bd3786"
            ],
            [
             0.5555555555555556,
             "#d8576b"
            ],
            [
             0.6666666666666666,
             "#ed7953"
            ],
            [
             0.7777777777777778,
             "#fb9f3a"
            ],
            [
             0.8888888888888888,
             "#fdca26"
            ],
            [
             1,
             "#f0f921"
            ]
           ],
           "sequentialminus": [
            [
             0,
             "#0d0887"
            ],
            [
             0.1111111111111111,
             "#46039f"
            ],
            [
             0.2222222222222222,
             "#7201a8"
            ],
            [
             0.3333333333333333,
             "#9c179e"
            ],
            [
             0.4444444444444444,
             "#bd3786"
            ],
            [
             0.5555555555555556,
             "#d8576b"
            ],
            [
             0.6666666666666666,
             "#ed7953"
            ],
            [
             0.7777777777777778,
             "#fb9f3a"
            ],
            [
             0.8888888888888888,
             "#fdca26"
            ],
            [
             1,
             "#f0f921"
            ]
           ]
          },
          "colorway": [
           "#636efa",
           "#EF553B",
           "#00cc96",
           "#ab63fa",
           "#FFA15A",
           "#19d3f3",
           "#FF6692",
           "#B6E880",
           "#FF97FF",
           "#FECB52"
          ],
          "font": {
           "color": "#2a3f5f"
          },
          "geo": {
           "bgcolor": "white",
           "lakecolor": "white",
           "landcolor": "#E5ECF6",
           "showlakes": true,
           "showland": true,
           "subunitcolor": "white"
          },
          "hoverlabel": {
           "align": "left"
          },
          "hovermode": "closest",
          "mapbox": {
           "style": "light"
          },
          "paper_bgcolor": "white",
          "plot_bgcolor": "#E5ECF6",
          "polar": {
           "angularaxis": {
            "gridcolor": "white",
            "linecolor": "white",
            "ticks": ""
           },
           "bgcolor": "#E5ECF6",
           "radialaxis": {
            "gridcolor": "white",
            "linecolor": "white",
            "ticks": ""
           }
          },
          "scene": {
           "xaxis": {
            "backgroundcolor": "#E5ECF6",
            "gridcolor": "white",
            "gridwidth": 2,
            "linecolor": "white",
            "showbackground": true,
            "ticks": "",
            "zerolinecolor": "white"
           },
           "yaxis": {
            "backgroundcolor": "#E5ECF6",
            "gridcolor": "white",
            "gridwidth": 2,
            "linecolor": "white",
            "showbackground": true,
            "ticks": "",
            "zerolinecolor": "white"
           },
           "zaxis": {
            "backgroundcolor": "#E5ECF6",
            "gridcolor": "white",
            "gridwidth": 2,
            "linecolor": "white",
            "showbackground": true,
            "ticks": "",
            "zerolinecolor": "white"
           }
          },
          "shapedefaults": {
           "line": {
            "color": "#2a3f5f"
           }
          },
          "ternary": {
           "aaxis": {
            "gridcolor": "white",
            "linecolor": "white",
            "ticks": ""
           },
           "baxis": {
            "gridcolor": "white",
            "linecolor": "white",
            "ticks": ""
           },
           "bgcolor": "#E5ECF6",
           "caxis": {
            "gridcolor": "white",
            "linecolor": "white",
            "ticks": ""
           }
          },
          "title": {
           "x": 0.05
          },
          "xaxis": {
           "automargin": true,
           "gridcolor": "white",
           "linecolor": "white",
           "ticks": "",
           "title": {
            "standoff": 15
           },
           "zerolinecolor": "white",
           "zerolinewidth": 2
          },
          "yaxis": {
           "automargin": true,
           "gridcolor": "white",
           "linecolor": "white",
           "ticks": "",
           "title": {
            "standoff": 15
           },
           "zerolinecolor": "white",
           "zerolinewidth": 2
          }
         }
        },
        "title": {
         "text": "On-Time Performance by Direction"
        },
        "xaxis": {
         "anchor": "y",
         "domain": [
          0,
          1
         ],
         "title": {
          "text": "Direction"
         }
        },
        "yaxis": {
         "anchor": "x",
         "domain": [
          0,
          1
         ],
         "title": {
          "text": "on_time"
         }
        }
       }
      }
     },
     "metadata": {},
     "output_type": "display_data"
    }
   ],
   "source": [
    "directional_performance = trip_data.groupby('Direction')['on_time'].mean().reset_index()\n",
    "fig = px.bar(directional_performance, x='Direction', y='on_time', title='On-Time Performance by Direction')\n",
    "fig.show()"
   ]
  },
  {
   "cell_type": "code",
   "execution_count": 43,
   "metadata": {},
   "outputs": [
    {
     "data": {
      "text/plain": [
       "(3388, 17)"
      ]
     },
     "execution_count": 43,
     "metadata": {},
     "output_type": "execute_result"
    }
   ],
   "source": [
    "trip_data.shape"
   ]
  },
  {
   "cell_type": "code",
   "execution_count": 44,
   "metadata": {},
   "outputs": [],
   "source": [
    "trip_data.to_csv('history_all.csv', index=False)"
   ]
  },
  {
   "cell_type": "code",
   "execution_count": null,
   "metadata": {},
   "outputs": [],
   "source": []
  },
  {
   "cell_type": "markdown",
   "metadata": {},
   "source": [
    "# visualization"
   ]
  },
  {
   "cell_type": "markdown",
   "metadata": {},
   "source": [
    "# use the history.csv for dashboard visualization."
   ]
  },
  {
   "cell_type": "markdown",
   "metadata": {},
   "source": [
    "# 1. 'Travel Time by Hour of the Day (Weekdays vs. Weekends)'"
   ]
  },
  {
   "cell_type": "code",
   "execution_count": 45,
   "metadata": {},
   "outputs": [
    {
     "data": {
      "image/png": "[encoded data removed]",
      "text/plain": [
       "<Figure size 1000x600 with 1 Axes>"
      ]
     },
     "metadata": {},
     "output_type": "display_data"
    }
   ],
   "source": [
    "# Set the style of seaborn for better visualization\n",
    "sns.set_style('whitegrid')\n",
    "\n",
    "# Plot line graph with different colors for weekends and weekdays\n",
    "plt.figure(figsize=(10, 6))\n",
    "sns.lineplot(data=trip_data, x='hour_of_day', y='travel_time', hue='weekend', marker='o')\n",
    "plt.xlabel('Hour of the Day')\n",
    "plt.ylabel('Travel Time (minutes)')\n",
    "plt.title('Travel Time by Hour of the Day (Weekdays vs. Weekends)')\n",
    "plt.legend(title='Weekend')\n",
    "plt.tight_layout()\n",
    "plt.show()\n"
   ]
  },
  {
   "cell_type": "code",
   "execution_count": 46,
   "metadata": {},
   "outputs": [
    {
     "data": {
      "image/png": "[encoded data removed]",
      "text/plain": [
       "<Figure size 1000x600 with 1 Axes>"
      ]
     },
     "metadata": {},
     "output_type": "display_data"
    }
   ],
   "source": [
    "avg_travel_hour_of_day = trip_data.groupby(['hour_of_day', 'weekend'])['dwell_time'].mean().reset_index()\n",
    "\n",
    "# Set the style of seaborn for better visualization\n",
    "sns.set_style('whitegrid')\n",
    "\n",
    "# Plot line graph with different colors for weekends and weekdays\n",
    "plt.figure(figsize=(10, 6))\n",
    "sns.lineplot(data=avg_travel_hour_of_day, x='hour_of_day', y='dwell_time', hue='weekend', marker='o')\n",
    "plt.xlabel('Hour of the Day')\n",
    "plt.ylabel('Dwell Time (minutes)')\n",
    "plt.title('Dwell Time by Hour of the Day (Weekdays vs. Weekends)')\n",
    "plt.legend(title='Weekend')\n",
    "plt.tight_layout()\n",
    "plt.show()\n"
   ]
  },
  {
   "cell_type": "markdown",
   "metadata": {},
   "source": [
    "# 2. Dwell Time by Hour of the Day (Direction)"
   ]
  },
  {
   "cell_type": "code",
   "execution_count": 47,
   "metadata": {},
   "outputs": [
    {
     "data": {
      "image/png": "[encoded data removed]",
      "text/plain": [
       "<Figure size 1000x600 with 1 Axes>"
      ]
     },
     "metadata": {},
     "output_type": "display_data"
    }
   ],
   "source": [
    "# Set the style of seaborn for better visualization\n",
    "sns.set_style('whitegrid')\n",
    "\n",
    "# Plot line graph with different colors for start terminals\n",
    "plt.figure(figsize=(10, 6))\n",
    "sns.lineplot(data=trip_data, x='hour_of_day', y='dwell_time', hue='Direction', marker='o')\n",
    "plt.xlabel('Hour of the Day')\n",
    "plt.ylabel('Dwell Time (minutes)')\n",
    "plt.title('Dwell Time by Hour of the Day (Direction)')\n",
    "plt.legend(title='Start Terminal')\n",
    "plt.tight_layout()\n",
    "plt.show()\n",
    "\n"
   ]
  },
  {
   "cell_type": "markdown",
   "metadata": {},
   "source": [
    "# 3. Travel Time by Hour of the Day (Direction)"
   ]
  },
  {
   "cell_type": "code",
   "execution_count": 27,
   "metadata": {},
   "outputs": [
    {
     "data": {
      "image/png": "[encoded data removed]",
      "text/plain": [
       "<Figure size 1000x600 with 1 Axes>"
      ]
     },
     "metadata": {},
     "output_type": "display_data"
    }
   ],
   "source": [
    "# Set the style of seaborn for better visualization\n",
    "sns.set_style('whitegrid')\n",
    "\n",
    "# Plot line graph with different colors for start terminals\n",
    "plt.figure(figsize=(10, 6))\n",
    "sns.lineplot(data=trip_data, x='hour_of_day', y='travel_time', hue='Direction', marker='o')\n",
    "plt.xlabel('Hour of the Day')\n",
    "plt.ylabel('Travel Time (minutes)')\n",
    "plt.title('Travel Time by Hour of the Day (Start Terminals)')\n",
    "plt.legend(title='Direction')\n",
    "plt.tight_layout()\n",
    "plt.show()"
   ]
  },
  {
   "cell_type": "markdown",
   "metadata": {},
   "source": [
    "# 4. Average SITR by Hour of the Day (Direction)"
   ]
  },
  {
   "cell_type": "code",
   "execution_count": 48,
   "metadata": {},
   "outputs": [
    {
     "data": {
      "image/png": "[encoded data removed]",
      "text/plain": [
       "<Figure size 1000x600 with 1 Axes>"
      ]
     },
     "metadata": {},
     "output_type": "display_data"
    }
   ],
   "source": [
    "# Line chart showing how the ratio of travel time to dwell time varies over the hour of day.\n",
    "average_ratios_by_hour = trip_data.groupby(['hour_of_day','Direction'])['SITR'].mean().reset_index()\n",
    "\n",
    "# Plot line graph\n",
    "plt.figure(figsize=(10, 6))\n",
    "sns.lineplot(data=average_ratios_by_hour, x='hour_of_day', y='SITR',hue='Direction', marker='o')\n",
    "plt.xlabel('Hour of the Day')\n",
    "plt.ylabel('Average SITR')\n",
    "plt.title('Average SITR by Hour of the Day (Direction)')\n",
    "plt.legend(title='Direction')\n",
    "plt.tight_layout()\n",
    "plt.show()\n",
    "\n",
    "\n",
    "\n",
    "# List of days in the correct order for plotting\n",
    "# days_of_week = ['Monday', 'Tuesday', 'Wednesday', 'Thursday', 'Friday', 'Saturday', 'Sunday']\n",
    "\n"
   ]
  },
  {
   "cell_type": "markdown",
   "metadata": {},
   "source": [
    "# 5. Excess Travel Time by Day of the Week"
   ]
  },
  {
   "cell_type": "code",
   "execution_count": 49,
   "metadata": {},
   "outputs": [
    {
     "data": {
      "image/png": "[encoded data removed]",
      "text/plain": [
       "<Figure size 1000x600 with 1 Axes>"
      ]
     },
     "metadata": {},
     "output_type": "display_data"
    }
   ],
   "source": [
    "# plot the excess travel time by day of the week using a boxplot\n",
    "# Set the style of seaborn for better visualization\n",
    "sns.set_style('whitegrid')\n",
    "\n",
    "\n",
    "plt.figure(figsize=(10, 6))\n",
    "sns.boxplot(data=trip_data, x='day_name', y='excess_travel_time')\n",
    "plt.xlabel('Day of the Week')\n",
    "plt.ylabel('Excess Travel Time (minutes)')\n",
    "plt.title('Excess Travel Time by Day of the Week')\n",
    "plt.tight_layout()\n"
   ]
  },
  {
   "cell_type": "code",
   "execution_count": 30,
   "metadata": {},
   "outputs": [],
   "source": [
    "# # Set the style of seaborn for better visualization\n",
    "# sns.set_style('whitegrid')\n",
    "\n",
    "# # Calculate average travel time by day of the week\n",
    "# avg_travel_time_by_day = trip_data.groupby(['day_of_week', 'day_name'])['travel_time'].mean().reset_index()\n",
    "\n",
    "# # Plot bar chart with different colors for each day_name\n",
    "# plt.figure(figsize=(10, 6))\n",
    "# sns.barplot(data=avg_travel_time_by_day, x='day_of_week', y='travel_time', hue='day_name')\n",
    "# plt.xlabel('Day of the Week')\n",
    "# plt.ylabel('Average Travel Time (minutes)')\n",
    "# plt.title('Average Travel Time by Day of the Week')\n",
    "# plt.legend(title='Day Name')\n",
    "# plt.xticks(rotation=45)\n",
    "# plt.tight_layout()\n",
    "# plt.show()"
   ]
  },
  {
   "cell_type": "code",
   "execution_count": 50,
   "metadata": {},
   "outputs": [
    {
     "data": {
      "text/plain": [
       "<Axes: xlabel='hour_of_day', ylabel='count'>"
      ]
     },
     "execution_count": 50,
     "metadata": {},
     "output_type": "execute_result"
    },
    {
     "data": {
      "image/png": "[encoded data removed]",
      "text/plain": [
       "<Figure size 1000x600 with 1 Axes>"
      ]
     },
     "metadata": {},
     "output_type": "display_data"
    }
   ],
   "source": [
    "# plot trip count by hour of day\n",
    "# Set the style of seaborn for better visualization\n",
    "sns.set_style('whitegrid')\n",
    "plt.figure(figsize=(10, 6))\n",
    "plt.xticks(rotation=90)\n",
    "sns.countplot(data=trip_data, x='hour_of_day')"
   ]
  },
  {
   "cell_type": "code",
   "execution_count": null,
   "metadata": {},
   "outputs": [],
   "source": []
  }
 ],
 "metadata": {
  "kernelspec": {
   "display_name": "myenv",
   "language": "python",
   "name": "python3"
  },
  "language_info": {
   "codemirror_mode": {
    "name": "ipython",
    "version": 3
   },
   "file_extension": ".py",
   "mimetype": "text/x-python",
   "name": "python",
   "nbconvert_exporter": "python",
   "pygments_lexer": "ipython3",
   "version": "3.11.0"
  },
  "orig_nbformat": 4
 },
 "nbformat": 4,
 "nbformat_minor": 2
}
