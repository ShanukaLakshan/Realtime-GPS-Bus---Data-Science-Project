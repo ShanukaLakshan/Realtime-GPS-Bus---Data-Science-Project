{
 "cells": [
  {
   "cell_type": "markdown",
   "metadata": {},
   "source": [
    "# **Real Time Data Processing**"
   ]
  },
  {
   "cell_type": "code",
   "execution_count": 70,
   "metadata": {},
   "outputs": [],
   "source": [
    "#import reqired libraries\n",
    "import math\n",
    "import pandas as pd\n",
    "import numpy as np\n",
    "from datetime import datetime"
   ]
  },
  {
   "cell_type": "code",
   "execution_count": 71,
   "metadata": {},
   "outputs": [],
   "source": [
    "real_time_data = pd.read_csv(\"../Raw GPS data Kandy Buses/digana_2022_10.csv\")"
   ]
  },
  {
   "cell_type": "code",
   "execution_count": 72,
   "metadata": {},
   "outputs": [
    {
     "data": {
      "text/plain": [
       "(978917, 6)"
      ]
     },
     "execution_count": 72,
     "metadata": {},
     "output_type": "execute_result"
    }
   ],
   "source": [
    "real_time_data.shape"
   ]
  },
  {
   "cell_type": "code",
   "execution_count": 73,
   "metadata": {},
   "outputs": [
    {
     "data": {
      "text/plain": [
       "id            0\n",
       "deviceid      0\n",
       "devicetime    0\n",
       "latitude      0\n",
       "longitude     0\n",
       "speed         0\n",
       "dtype: int64"
      ]
     },
     "execution_count": 73,
     "metadata": {},
     "output_type": "execute_result"
    }
   ],
   "source": [
    "real_time_data.isnull().sum()"
   ]
  },
  {
   "cell_type": "code",
   "execution_count": 74,
   "metadata": {},
   "outputs": [
    {
     "data": {
      "text/html": [
       "<div>\n",
       "<style scoped>\n",
       "    .dataframe tbody tr th:only-of-type {\n",
       "        vertical-align: middle;\n",
       "    }\n",
       "\n",
       "    .dataframe tbody tr th {\n",
       "        vertical-align: top;\n",
       "    }\n",
       "\n",
       "    .dataframe thead th {\n",
       "        text-align: right;\n",
       "    }\n",
       "</style>\n",
       "<table border=\"1\" class=\"dataframe\">\n",
       "  <thead>\n",
       "    <tr style=\"text-align: right;\">\n",
       "      <th></th>\n",
       "      <th>id</th>\n",
       "      <th>deviceid</th>\n",
       "      <th>devicetime</th>\n",
       "      <th>latitude</th>\n",
       "      <th>longitude</th>\n",
       "      <th>speed</th>\n",
       "    </tr>\n",
       "  </thead>\n",
       "  <tbody>\n",
       "    <tr>\n",
       "      <th>0</th>\n",
       "      <td>1453607164</td>\n",
       "      <td>116</td>\n",
       "      <td>2022-09-30 23:56:32</td>\n",
       "      <td>8.222097</td>\n",
       "      <td>80.522697</td>\n",
       "      <td>0.0000</td>\n",
       "    </tr>\n",
       "    <tr>\n",
       "      <th>1</th>\n",
       "      <td>1453607165</td>\n",
       "      <td>116</td>\n",
       "      <td>2022-09-30 23:56:47</td>\n",
       "      <td>8.222097</td>\n",
       "      <td>80.522697</td>\n",
       "      <td>0.0000</td>\n",
       "    </tr>\n",
       "    <tr>\n",
       "      <th>2</th>\n",
       "      <td>1453607166</td>\n",
       "      <td>116</td>\n",
       "      <td>2022-09-30 23:57:02</td>\n",
       "      <td>8.222097</td>\n",
       "      <td>80.522697</td>\n",
       "      <td>0.0000</td>\n",
       "    </tr>\n",
       "    <tr>\n",
       "      <th>3</th>\n",
       "      <td>1453607167</td>\n",
       "      <td>116</td>\n",
       "      <td>2022-09-30 23:57:13</td>\n",
       "      <td>8.221493</td>\n",
       "      <td>80.522667</td>\n",
       "      <td>16.1987</td>\n",
       "    </tr>\n",
       "    <tr>\n",
       "      <th>4</th>\n",
       "      <td>1453607168</td>\n",
       "      <td>116</td>\n",
       "      <td>2022-09-30 23:57:28</td>\n",
       "      <td>8.219942</td>\n",
       "      <td>80.522738</td>\n",
       "      <td>24.2981</td>\n",
       "    </tr>\n",
       "  </tbody>\n",
       "</table>\n",
       "</div>"
      ],
      "text/plain": [
       "           id  deviceid           devicetime  latitude  longitude    speed\n",
       "0  1453607164       116  2022-09-30 23:56:32  8.222097  80.522697   0.0000\n",
       "1  1453607165       116  2022-09-30 23:56:47  8.222097  80.522697   0.0000\n",
       "2  1453607166       116  2022-09-30 23:57:02  8.222097  80.522697   0.0000\n",
       "3  1453607167       116  2022-09-30 23:57:13  8.221493  80.522667  16.1987\n",
       "4  1453607168       116  2022-09-30 23:57:28  8.219942  80.522738  24.2981"
      ]
     },
     "execution_count": 74,
     "metadata": {},
     "output_type": "execute_result"
    }
   ],
   "source": [
    "real_time_data.head()"
   ]
  },
  {
   "cell_type": "markdown",
   "metadata": {},
   "source": [
    "# Data Preprocessing"
   ]
  },
  {
   "cell_type": "code",
   "execution_count": 75,
   "metadata": {},
   "outputs": [],
   "source": [
    "real_time_data.sort_values(by='devicetime', inplace=True)\n",
    "real_time_data = real_time_data[real_time_data['latitude'] != 0]\n",
    "real_time_data = real_time_data[real_time_data['longitude'] != 0]\n",
    "real_time_data = real_time_data[real_time_data['devicetime'] >=  '2022-10-01']\n",
    "real_time_data = real_time_data[real_time_data['devicetime'] <= '2022-10-07']\n",
    "real_time_data.drop(columns=['id'], inplace=True)\n",
    "real_time_data.reset_index(drop = True, inplace = True)"
   ]
  },
  {
   "cell_type": "code",
   "execution_count": 76,
   "metadata": {},
   "outputs": [
    {
     "data": {
      "text/html": [
       "<div>\n",
       "<style scoped>\n",
       "    .dataframe tbody tr th:only-of-type {\n",
       "        vertical-align: middle;\n",
       "    }\n",
       "\n",
       "    .dataframe tbody tr th {\n",
       "        vertical-align: top;\n",
       "    }\n",
       "\n",
       "    .dataframe thead th {\n",
       "        text-align: right;\n",
       "    }\n",
       "</style>\n",
       "<table border=\"1\" class=\"dataframe\">\n",
       "  <thead>\n",
       "    <tr style=\"text-align: right;\">\n",
       "      <th></th>\n",
       "      <th>deviceid</th>\n",
       "      <th>devicetime</th>\n",
       "      <th>latitude</th>\n",
       "      <th>longitude</th>\n",
       "      <th>speed</th>\n",
       "    </tr>\n",
       "  </thead>\n",
       "  <tbody>\n",
       "    <tr>\n",
       "      <th>0</th>\n",
       "      <td>116</td>\n",
       "      <td>2022-10-01 00:00:13</td>\n",
       "      <td>8.195475</td>\n",
       "      <td>80.525735</td>\n",
       "      <td>26.9979</td>\n",
       "    </tr>\n",
       "    <tr>\n",
       "      <th>1</th>\n",
       "      <td>116</td>\n",
       "      <td>2022-10-01 00:00:28</td>\n",
       "      <td>8.193405</td>\n",
       "      <td>80.525917</td>\n",
       "      <td>30.2376</td>\n",
       "    </tr>\n",
       "    <tr>\n",
       "      <th>2</th>\n",
       "      <td>116</td>\n",
       "      <td>2022-10-01 00:00:43</td>\n",
       "      <td>8.191373</td>\n",
       "      <td>80.526890</td>\n",
       "      <td>31.8575</td>\n",
       "    </tr>\n",
       "    <tr>\n",
       "      <th>3</th>\n",
       "      <td>116</td>\n",
       "      <td>2022-10-01 00:00:58</td>\n",
       "      <td>8.189095</td>\n",
       "      <td>80.527400</td>\n",
       "      <td>34.5572</td>\n",
       "    </tr>\n",
       "    <tr>\n",
       "      <th>4</th>\n",
       "      <td>116</td>\n",
       "      <td>2022-10-01 00:01:13</td>\n",
       "      <td>8.186705</td>\n",
       "      <td>80.527848</td>\n",
       "      <td>35.0972</td>\n",
       "    </tr>\n",
       "  </tbody>\n",
       "</table>\n",
       "</div>"
      ],
      "text/plain": [
       "   deviceid           devicetime  latitude  longitude    speed\n",
       "0       116  2022-10-01 00:00:13  8.195475  80.525735  26.9979\n",
       "1       116  2022-10-01 00:00:28  8.193405  80.525917  30.2376\n",
       "2       116  2022-10-01 00:00:43  8.191373  80.526890  31.8575\n",
       "3       116  2022-10-01 00:00:58  8.189095  80.527400  34.5572\n",
       "4       116  2022-10-01 00:01:13  8.186705  80.527848  35.0972"
      ]
     },
     "execution_count": 76,
     "metadata": {},
     "output_type": "execute_result"
    }
   ],
   "source": [
    "real_time_data.head()"
   ]
  },
  {
   "cell_type": "code",
   "execution_count": 77,
   "metadata": {},
   "outputs": [],
   "source": [
    "# #Function finds whether the bus is inside the bus stations or not\n",
    "# def isOutsideBusStation(lat, lon):\n",
    "    \n",
    "#     lat = math.radians(lat)\n",
    "#     lon = math.radians(lon)\n",
    "\n",
    "#     lat_Kandy = math.radians(7.292462226)\n",
    "#     lon_Kandy = math.radians(80.6349778)\n",
    "\n",
    "#     lat_Digana = math.radians(7.29896)\n",
    "#     lon_Digana = math.radians(80.73472)\n",
    "\n",
    "#     delta_lat1 = lat_Kandy - lat\n",
    "#     delta_lon1 = lon_Kandy - lon\n",
    "\n",
    "#     delta_lat2 = lat_Digana - lat\n",
    "#     delta_lon2 = lon_Digana - lon\n",
    "\n",
    "#     # Haversine formula\n",
    "#     a1 = math.sin(delta_lat1/2)**2 + math.cos(lat) * math.cos(lat_Kandy) * math.sin(delta_lon1/2)**2\n",
    "#     c1 = 2 * math.atan2(math.sqrt(a1), math.sqrt(1-a1))\n",
    "\n",
    "#     a2 = math.sin(delta_lat2/2)**2 + math.cos(lat) * math.cos(lat_Digana) * math.sin(delta_lon2/2)**2\n",
    "#     c2 = 2 * math.atan2(math.sqrt(a2), math.sqrt(1-a2))\n",
    "\n",
    "#     # Radius of the Earth in kilometers (mean value)\n",
    "#     R = 6371.0\n",
    "\n",
    "#     # Calculate the distance\n",
    "#     distance1 = R * c1 * 1000\n",
    "#     distance2 = R * c2 * 1000\n",
    "\n",
    "#     if distance1 < 150 or distance2 < 150:\n",
    "#         return False\n",
    "#     return True"
   ]
  },
  {
   "cell_type": "code",
   "execution_count": 78,
   "metadata": {},
   "outputs": [],
   "source": [
    "processed_data = real_time_data.copy()"
   ]
  },
  {
   "cell_type": "code",
   "execution_count": 79,
   "metadata": {},
   "outputs": [
    {
     "data": {
      "text/html": [
       "<div>\n",
       "<style scoped>\n",
       "    .dataframe tbody tr th:only-of-type {\n",
       "        vertical-align: middle;\n",
       "    }\n",
       "\n",
       "    .dataframe tbody tr th {\n",
       "        vertical-align: top;\n",
       "    }\n",
       "\n",
       "    .dataframe thead th {\n",
       "        text-align: right;\n",
       "    }\n",
       "</style>\n",
       "<table border=\"1\" class=\"dataframe\">\n",
       "  <thead>\n",
       "    <tr style=\"text-align: right;\">\n",
       "      <th></th>\n",
       "      <th>deviceid</th>\n",
       "      <th>latitude</th>\n",
       "      <th>longitude</th>\n",
       "      <th>speed</th>\n",
       "      <th>date</th>\n",
       "      <th>time</th>\n",
       "    </tr>\n",
       "  </thead>\n",
       "  <tbody>\n",
       "    <tr>\n",
       "      <th>0</th>\n",
       "      <td>116</td>\n",
       "      <td>8.195475</td>\n",
       "      <td>80.525735</td>\n",
       "      <td>26.9979</td>\n",
       "      <td>2022-10-01</td>\n",
       "      <td>00:00:13</td>\n",
       "    </tr>\n",
       "    <tr>\n",
       "      <th>1</th>\n",
       "      <td>116</td>\n",
       "      <td>8.193405</td>\n",
       "      <td>80.525917</td>\n",
       "      <td>30.2376</td>\n",
       "      <td>2022-10-01</td>\n",
       "      <td>00:00:28</td>\n",
       "    </tr>\n",
       "    <tr>\n",
       "      <th>2</th>\n",
       "      <td>116</td>\n",
       "      <td>8.191373</td>\n",
       "      <td>80.526890</td>\n",
       "      <td>31.8575</td>\n",
       "      <td>2022-10-01</td>\n",
       "      <td>00:00:43</td>\n",
       "    </tr>\n",
       "    <tr>\n",
       "      <th>3</th>\n",
       "      <td>116</td>\n",
       "      <td>8.189095</td>\n",
       "      <td>80.527400</td>\n",
       "      <td>34.5572</td>\n",
       "      <td>2022-10-01</td>\n",
       "      <td>00:00:58</td>\n",
       "    </tr>\n",
       "    <tr>\n",
       "      <th>4</th>\n",
       "      <td>116</td>\n",
       "      <td>8.186705</td>\n",
       "      <td>80.527848</td>\n",
       "      <td>35.0972</td>\n",
       "      <td>2022-10-01</td>\n",
       "      <td>00:01:13</td>\n",
       "    </tr>\n",
       "  </tbody>\n",
       "</table>\n",
       "</div>"
      ],
      "text/plain": [
       "   deviceid  latitude  longitude    speed        date      time\n",
       "0       116  8.195475  80.525735  26.9979  2022-10-01  00:00:13\n",
       "1       116  8.193405  80.525917  30.2376  2022-10-01  00:00:28\n",
       "2       116  8.191373  80.526890  31.8575  2022-10-01  00:00:43\n",
       "3       116  8.189095  80.527400  34.5572  2022-10-01  00:00:58\n",
       "4       116  8.186705  80.527848  35.0972  2022-10-01  00:01:13"
      ]
     },
     "execution_count": 79,
     "metadata": {},
     "output_type": "execute_result"
    }
   ],
   "source": [
    "# Convert devicetime column to datetime format\n",
    "processed_data['devicetime'] = pd.to_datetime(processed_data['devicetime'])\n",
    "\n",
    "processed_data['date'] = processed_data['devicetime'].dt.date\n",
    "processed_data['time'] = processed_data['devicetime'].dt.time\n",
    "processed_data = processed_data.drop(\"devicetime\", axis=1)\n",
    "processed_data.head()"
   ]
  },
  {
   "cell_type": "code",
   "execution_count": 80,
   "metadata": {},
   "outputs": [],
   "source": [
    "trip_data = pd.read_csv(\"./ALL_BUS/trip_all.csv\")"
   ]
  },
  {
   "cell_type": "code",
   "execution_count": 81,
   "metadata": {},
   "outputs": [],
   "source": [
    "trip_data = trip_data[(trip_data['date'] <= '2022-10-07') & (trip_data['date'] >= '2022-10-01')]"
   ]
  },
  {
   "cell_type": "code",
   "execution_count": 82,
   "metadata": {},
   "outputs": [],
   "source": [
    "trip_data = trip_data[[\"device_id\",\"date\",\"start_time\",\"start_terminal\",\"end_time\"]]"
   ]
  },
  {
   "cell_type": "code",
   "execution_count": 83,
   "metadata": {},
   "outputs": [
    {
     "data": {
      "text/html": [
       "<div>\n",
       "<style scoped>\n",
       "    .dataframe tbody tr th:only-of-type {\n",
       "        vertical-align: middle;\n",
       "    }\n",
       "\n",
       "    .dataframe tbody tr th {\n",
       "        vertical-align: top;\n",
       "    }\n",
       "\n",
       "    .dataframe thead th {\n",
       "        text-align: right;\n",
       "    }\n",
       "</style>\n",
       "<table border=\"1\" class=\"dataframe\">\n",
       "  <thead>\n",
       "    <tr style=\"text-align: right;\">\n",
       "      <th></th>\n",
       "      <th>device_id</th>\n",
       "      <th>date</th>\n",
       "      <th>start_time</th>\n",
       "      <th>start_terminal</th>\n",
       "      <th>end_time</th>\n",
       "    </tr>\n",
       "  </thead>\n",
       "  <tbody>\n",
       "    <tr>\n",
       "      <th>1666</th>\n",
       "      <td>116</td>\n",
       "      <td>2022-10-01</td>\n",
       "      <td>08:41:39</td>\n",
       "      <td>BT02</td>\n",
       "      <td>09:35:36</td>\n",
       "    </tr>\n",
       "    <tr>\n",
       "      <th>1667</th>\n",
       "      <td>116</td>\n",
       "      <td>2022-10-01</td>\n",
       "      <td>09:51:51</td>\n",
       "      <td>BT01</td>\n",
       "      <td>10:42:47</td>\n",
       "    </tr>\n",
       "    <tr>\n",
       "      <th>1668</th>\n",
       "      <td>116</td>\n",
       "      <td>2022-10-01</td>\n",
       "      <td>13:42:11</td>\n",
       "      <td>BT02</td>\n",
       "      <td>14:30:32</td>\n",
       "    </tr>\n",
       "    <tr>\n",
       "      <th>1669</th>\n",
       "      <td>116</td>\n",
       "      <td>2022-10-01</td>\n",
       "      <td>15:09:08</td>\n",
       "      <td>BT01</td>\n",
       "      <td>16:00:26</td>\n",
       "    </tr>\n",
       "    <tr>\n",
       "      <th>1670</th>\n",
       "      <td>116</td>\n",
       "      <td>2022-10-02</td>\n",
       "      <td>07:42:11</td>\n",
       "      <td>BT02</td>\n",
       "      <td>08:22:32</td>\n",
       "    </tr>\n",
       "  </tbody>\n",
       "</table>\n",
       "</div>"
      ],
      "text/plain": [
       "      device_id        date start_time start_terminal  end_time\n",
       "1666        116  2022-10-01   08:41:39           BT02  09:35:36\n",
       "1667        116  2022-10-01   09:51:51           BT01  10:42:47\n",
       "1668        116  2022-10-01   13:42:11           BT02  14:30:32\n",
       "1669        116  2022-10-01   15:09:08           BT01  16:00:26\n",
       "1670        116  2022-10-02   07:42:11           BT02  08:22:32"
      ]
     },
     "execution_count": 83,
     "metadata": {},
     "output_type": "execute_result"
    }
   ],
   "source": [
    "trip_data.head()"
   ]
  },
  {
   "cell_type": "code",
   "execution_count": 84,
   "metadata": {},
   "outputs": [
    {
     "name": "stdout",
     "output_type": "stream",
     "text": [
      "        deviceid  latitude  longitude    speed       date      time  \\\n",
      "0            116  8.195475  80.525735  26.9979 2022-10-01  00:00:13   \n",
      "1            116  8.193405  80.525917  30.2376 2022-10-01  00:00:28   \n",
      "2            116  8.191373  80.526890  31.8575 2022-10-01  00:00:43   \n",
      "3            116  8.189095  80.527400  34.5572 2022-10-01  00:00:58   \n",
      "4            116  8.186705  80.527848  35.0972 2022-10-01  00:01:13   \n",
      "...          ...       ...        ...      ...        ...       ...   \n",
      "127994       123  7.296305  80.736062   0.0000 2022-10-06  23:53:59   \n",
      "127995       250  7.283670  80.695938   0.0000 2022-10-06  23:55:06   \n",
      "127996       121  7.296612  80.715932   0.0000 2022-10-06  23:56:37   \n",
      "127997       275  7.292808  80.721027   0.0000 2022-10-06  23:58:41   \n",
      "127998      1377  7.263868  80.700605   0.0000 2022-10-06  23:59:37   \n",
      "\n",
      "       start_time start_terminal  \n",
      "0            None           None  \n",
      "1            None           None  \n",
      "2            None           None  \n",
      "3            None           None  \n",
      "4            None           None  \n",
      "...           ...            ...  \n",
      "127994       None           None  \n",
      "127995       None           None  \n",
      "127996       None           None  \n",
      "127997       None           None  \n",
      "127998       None           None  \n",
      "\n",
      "[127999 rows x 8 columns]\n"
     ]
    }
   ],
   "source": [
    "# Preprocess 'date' and 'time' columns to ensure consistent format\n",
    "trip_data['date'] = pd.to_datetime(trip_data['date'], errors='coerce', format='%Y-%m-%d')\n",
    "trip_data['start_time'] = pd.to_datetime(trip_data['start_time'], errors='coerce', format='%H:%M:%S').dt.time\n",
    "trip_data['end_time'] = pd.to_datetime(trip_data['end_time'], errors='coerce', format='%H:%M:%S').dt.time\n",
    "\n",
    "processed_data['date'] = pd.to_datetime(processed_data['date'], errors='coerce', format='%Y-%m-%d')\n",
    "processed_data['time'] = pd.to_datetime(processed_data['time'], errors='coerce', format='%H:%M:%S').dt.time\n",
    "\n",
    "\n",
    "# Function to find start_time and start_terminal\n",
    "def find_start_info(row):\n",
    "    matching_rows = trip_data[(trip_data['device_id'] == row['deviceid']) & \n",
    "                        (trip_data['date'] == row['date']) & \n",
    "                        (row['time'] >= trip_data['start_time']) & \n",
    "                        (row['time'] <= trip_data['end_time'])]\n",
    "    if not matching_rows.empty:\n",
    "        return matching_rows.iloc[0]['start_time'], matching_rows.iloc[0]['start_terminal']\n",
    "    else:\n",
    "        return None, None\n",
    "\n",
    "# Apply the function to the first dataset to find start_time and start_terminal\n",
    "processed_data[['start_time', 'start_terminal']] = processed_data.apply(find_start_info, axis=1, result_type='expand')\n",
    "\n",
    "# Print the updated DataFrame\n",
    "print(processed_data)"
   ]
  },
  {
   "cell_type": "code",
   "execution_count": 85,
   "metadata": {},
   "outputs": [],
   "source": [
    "busStartTime = dict()"
   ]
  },
  {
   "cell_type": "code",
   "execution_count": 86,
   "metadata": {},
   "outputs": [],
   "source": [
    "# #Function to find start time of each trip\n",
    "# def findBusStartTime(row):\n",
    "#     global busStartTime\n",
    " \n",
    "#     if isOutsideBusStation(row['latitude'],row['longitude']):\n",
    "#         if busStartTime.get(row['deviceid']) is not None:\n",
    "#             return busStartTime.get(row['deviceid'])\n",
    "#         else:\n",
    "#             busStartTime[row['deviceid']]=row['devicetime']\n",
    "#             return row['devicetime']\n",
    "\n",
    "#     if row['deviceid'] in busStartTime:\n",
    "#         busStartTime.pop(row['deviceid'])\n",
    "#     return None "
   ]
  },
  {
   "cell_type": "code",
   "execution_count": 87,
   "metadata": {},
   "outputs": [
    {
     "data": {
      "text/html": [
       "<div>\n",
       "<style scoped>\n",
       "    .dataframe tbody tr th:only-of-type {\n",
       "        vertical-align: middle;\n",
       "    }\n",
       "\n",
       "    .dataframe tbody tr th {\n",
       "        vertical-align: top;\n",
       "    }\n",
       "\n",
       "    .dataframe thead th {\n",
       "        text-align: right;\n",
       "    }\n",
       "</style>\n",
       "<table border=\"1\" class=\"dataframe\">\n",
       "  <thead>\n",
       "    <tr style=\"text-align: right;\">\n",
       "      <th></th>\n",
       "      <th>deviceid</th>\n",
       "      <th>latitude</th>\n",
       "      <th>longitude</th>\n",
       "      <th>speed</th>\n",
       "      <th>date</th>\n",
       "      <th>time</th>\n",
       "      <th>start_time</th>\n",
       "      <th>start_terminal</th>\n",
       "    </tr>\n",
       "  </thead>\n",
       "  <tbody>\n",
       "    <tr>\n",
       "      <th>0</th>\n",
       "      <td>116</td>\n",
       "      <td>8.195475</td>\n",
       "      <td>80.525735</td>\n",
       "      <td>26.9979</td>\n",
       "      <td>2022-10-01</td>\n",
       "      <td>00:00:13</td>\n",
       "      <td>None</td>\n",
       "      <td>None</td>\n",
       "    </tr>\n",
       "    <tr>\n",
       "      <th>1</th>\n",
       "      <td>116</td>\n",
       "      <td>8.193405</td>\n",
       "      <td>80.525917</td>\n",
       "      <td>30.2376</td>\n",
       "      <td>2022-10-01</td>\n",
       "      <td>00:00:28</td>\n",
       "      <td>None</td>\n",
       "      <td>None</td>\n",
       "    </tr>\n",
       "    <tr>\n",
       "      <th>2</th>\n",
       "      <td>116</td>\n",
       "      <td>8.191373</td>\n",
       "      <td>80.526890</td>\n",
       "      <td>31.8575</td>\n",
       "      <td>2022-10-01</td>\n",
       "      <td>00:00:43</td>\n",
       "      <td>None</td>\n",
       "      <td>None</td>\n",
       "    </tr>\n",
       "    <tr>\n",
       "      <th>3</th>\n",
       "      <td>116</td>\n",
       "      <td>8.189095</td>\n",
       "      <td>80.527400</td>\n",
       "      <td>34.5572</td>\n",
       "      <td>2022-10-01</td>\n",
       "      <td>00:00:58</td>\n",
       "      <td>None</td>\n",
       "      <td>None</td>\n",
       "    </tr>\n",
       "    <tr>\n",
       "      <th>4</th>\n",
       "      <td>116</td>\n",
       "      <td>8.186705</td>\n",
       "      <td>80.527848</td>\n",
       "      <td>35.0972</td>\n",
       "      <td>2022-10-01</td>\n",
       "      <td>00:01:13</td>\n",
       "      <td>None</td>\n",
       "      <td>None</td>\n",
       "    </tr>\n",
       "  </tbody>\n",
       "</table>\n",
       "</div>"
      ],
      "text/plain": [
       "   deviceid  latitude  longitude    speed       date      time start_time  \\\n",
       "0       116  8.195475  80.525735  26.9979 2022-10-01  00:00:13       None   \n",
       "1       116  8.193405  80.525917  30.2376 2022-10-01  00:00:28       None   \n",
       "2       116  8.191373  80.526890  31.8575 2022-10-01  00:00:43       None   \n",
       "3       116  8.189095  80.527400  34.5572 2022-10-01  00:00:58       None   \n",
       "4       116  8.186705  80.527848  35.0972 2022-10-01  00:01:13       None   \n",
       "\n",
       "  start_terminal  \n",
       "0           None  \n",
       "1           None  \n",
       "2           None  \n",
       "3           None  \n",
       "4           None  "
      ]
     },
     "execution_count": 87,
     "metadata": {},
     "output_type": "execute_result"
    }
   ],
   "source": [
    "processed_data.head()"
   ]
  },
  {
   "cell_type": "code",
   "execution_count": 88,
   "metadata": {},
   "outputs": [],
   "source": [
    "def timeDifference(t2,t1):\n",
    "\n",
    "    # format_str = \"%Y-%m-%d %H:%M:%S\"\n",
    "    # t1_datetime = datetime.strptime(t1, format_str)\n",
    "    # t2_datetime = datetime.strptime(t2, format_str)\n",
    "\n",
    "    # timediff = ((t2_datetime - t1_datetime).total_seconds())\n",
    "\n",
    "    date = datetime(2022, 1, 1)\n",
    "    datetime1 = datetime.combine(date, t1)\n",
    "    datetime2 = datetime.combine(date, t2)\n",
    "\n",
    "    # Calculate the time difference in seconds\n",
    "    time_difference_seconds = (datetime2 - datetime1).seconds\n",
    "\n",
    "    return round((time_difference_seconds/60),2)"
   ]
  },
  {
   "cell_type": "code",
   "execution_count": 89,
   "metadata": {},
   "outputs": [],
   "source": [
    "def findTravelTime(row):\n",
    "    if row['start_time'] is not None:\n",
    "        return timeDifference(row['time'],row['start_time'])\n",
    "    return None"
   ]
  },
  {
   "cell_type": "code",
   "execution_count": 90,
   "metadata": {},
   "outputs": [],
   "source": [
    "processed_data['travel_time'] = processed_data.apply(findTravelTime,axis=1)"
   ]
  },
  {
   "cell_type": "code",
   "execution_count": 91,
   "metadata": {},
   "outputs": [],
   "source": [
    "busDwellTime = dict()\n",
    "previousTimeStamp = dict()"
   ]
  },
  {
   "cell_type": "code",
   "execution_count": 92,
   "metadata": {},
   "outputs": [],
   "source": [
    "def findDwellTime(row):\n",
    "    global busDwellTime\n",
    "    global previousTimeStamp\n",
    "    \n",
    "    if row['start_time'] is not None:\n",
    "        if row['speed'] == 0:\n",
    "\n",
    "            if busDwellTime.get(row['deviceid']) is not None:\n",
    "                busDwellTime[row['deviceid']]=busDwellTime[row['deviceid']]+timeDifference(row['time'],previousTimeStamp[row['deviceid']])\n",
    "\n",
    "            elif previousTimeStamp.get(row['deviceid']) is not None:\n",
    "                busDwellTime[row['deviceid']]=timeDifference(row['time'],previousTimeStamp[row['deviceid']])\n",
    "                \n",
    "            else:\n",
    "                busDwellTime[row['deviceid']]=0\n",
    "\n",
    "        elif busDwellTime.get(row['deviceid']) is None:\n",
    "            busDwellTime[row['deviceid']]=0\n",
    "    \n",
    "        previousTimeStamp[row['deviceid']] = row['time']\n",
    "        return busDwellTime[row['deviceid']]\n",
    "\n",
    "    else:\n",
    "        if row['deviceid'] in busDwellTime:\n",
    "            busDwellTime.pop(row['deviceid'])\n",
    "        if row['deviceid'] in previousTimeStamp:\n",
    "            previousTimeStamp.pop(row['deviceid'])\n",
    "        return None"
   ]
  },
  {
   "cell_type": "code",
   "execution_count": 93,
   "metadata": {},
   "outputs": [],
   "source": [
    "processed_data['dwell_time'] = processed_data.apply(findDwellTime,axis=1)"
   ]
  },
  {
   "cell_type": "code",
   "execution_count": 96,
   "metadata": {},
   "outputs": [],
   "source": [
    "def findSITR(row):\n",
    "    if row['travel_time'] is not None and row['travel_time']!=0:\n",
    "        return round((row['dwell_time']/row['travel_time']),3)\n",
    "    return 0"
   ]
  },
  {
   "cell_type": "code",
   "execution_count": 97,
   "metadata": {},
   "outputs": [],
   "source": [
    "processed_data[\"SITR\"] = processed_data.apply(findSITR,axis=1)"
   ]
  },
  {
   "cell_type": "code",
   "execution_count": 101,
   "metadata": {},
   "outputs": [],
   "source": [
    "processed_data['hour_of_the_day'] = processed_data['time'].apply(lambda x: x.hour)"
   ]
  },
  {
   "cell_type": "code",
   "execution_count": 98,
   "metadata": {},
   "outputs": [],
   "source": [
    "processed_data = processed_data[(processed_data['SITR']<=1) | (pd.isnull(processed_data['SITR']))]\n",
    "processed_data = processed_data[(processed_data['travel_time']<=90) | (pd.isnull(processed_data['SITR']))]\n",
    "processed_data = processed_data[(processed_data['dwell_time']<=30) | (pd.isnull(processed_data['SITR']))]"
   ]
  },
  {
   "cell_type": "code",
   "execution_count": 99,
   "metadata": {},
   "outputs": [
    {
     "data": {
      "text/plain": [
       "deviceid              0\n",
       "latitude              0\n",
       "longitude             0\n",
       "speed                 0\n",
       "date                  0\n",
       "time                  0\n",
       "start_time        53110\n",
       "start_terminal    53110\n",
       "travel_time       53110\n",
       "dwell_time        53110\n",
       "SITR              53110\n",
       "dtype: int64"
      ]
     },
     "execution_count": 99,
     "metadata": {},
     "output_type": "execute_result"
    }
   ],
   "source": [
    "processed_data.isnull().sum()"
   ]
  },
  {
   "cell_type": "code",
   "execution_count": 100,
   "metadata": {},
   "outputs": [],
   "source": [
    "processed_data.to_csv('processed_data.csv',index=False)"
   ]
  },
  {
   "cell_type": "code",
   "execution_count": 102,
   "metadata": {},
   "outputs": [
    {
     "data": {
      "text/html": [
       "<div>\n",
       "<style scoped>\n",
       "    .dataframe tbody tr th:only-of-type {\n",
       "        vertical-align: middle;\n",
       "    }\n",
       "\n",
       "    .dataframe tbody tr th {\n",
       "        vertical-align: top;\n",
       "    }\n",
       "\n",
       "    .dataframe thead th {\n",
       "        text-align: right;\n",
       "    }\n",
       "</style>\n",
       "<table border=\"1\" class=\"dataframe\">\n",
       "  <thead>\n",
       "    <tr style=\"text-align: right;\">\n",
       "      <th></th>\n",
       "      <th>deviceid</th>\n",
       "      <th>latitude</th>\n",
       "      <th>longitude</th>\n",
       "      <th>speed</th>\n",
       "      <th>date</th>\n",
       "      <th>time</th>\n",
       "      <th>start_time</th>\n",
       "      <th>start_terminal</th>\n",
       "      <th>travel_time</th>\n",
       "      <th>dwell_time</th>\n",
       "      <th>SITR</th>\n",
       "      <th>hour_of_the_day</th>\n",
       "    </tr>\n",
       "  </thead>\n",
       "  <tbody>\n",
       "    <tr>\n",
       "      <th>904</th>\n",
       "      <td>123</td>\n",
       "      <td>7.297508</td>\n",
       "      <td>80.732563</td>\n",
       "      <td>9.71923</td>\n",
       "      <td>2022-10-01</td>\n",
       "      <td>04:03:26</td>\n",
       "      <td>04:03:26</td>\n",
       "      <td>BT02</td>\n",
       "      <td>0.00</td>\n",
       "      <td>0.0</td>\n",
       "      <td>0.0</td>\n",
       "      <td>4</td>\n",
       "    </tr>\n",
       "    <tr>\n",
       "      <th>906</th>\n",
       "      <td>123</td>\n",
       "      <td>7.297348</td>\n",
       "      <td>80.731287</td>\n",
       "      <td>20.51840</td>\n",
       "      <td>2022-10-01</td>\n",
       "      <td>04:03:41</td>\n",
       "      <td>04:03:26</td>\n",
       "      <td>BT02</td>\n",
       "      <td>0.25</td>\n",
       "      <td>0.0</td>\n",
       "      <td>0.0</td>\n",
       "      <td>4</td>\n",
       "    </tr>\n",
       "    <tr>\n",
       "      <th>909</th>\n",
       "      <td>123</td>\n",
       "      <td>7.296578</td>\n",
       "      <td>80.730488</td>\n",
       "      <td>15.65880</td>\n",
       "      <td>2022-10-01</td>\n",
       "      <td>04:03:56</td>\n",
       "      <td>04:03:26</td>\n",
       "      <td>BT02</td>\n",
       "      <td>0.50</td>\n",
       "      <td>0.0</td>\n",
       "      <td>0.0</td>\n",
       "      <td>4</td>\n",
       "    </tr>\n",
       "    <tr>\n",
       "      <th>910</th>\n",
       "      <td>123</td>\n",
       "      <td>7.295580</td>\n",
       "      <td>80.729657</td>\n",
       "      <td>18.35850</td>\n",
       "      <td>2022-10-01</td>\n",
       "      <td>04:04:11</td>\n",
       "      <td>04:03:26</td>\n",
       "      <td>BT02</td>\n",
       "      <td>0.75</td>\n",
       "      <td>0.0</td>\n",
       "      <td>0.0</td>\n",
       "      <td>4</td>\n",
       "    </tr>\n",
       "    <tr>\n",
       "      <th>911</th>\n",
       "      <td>123</td>\n",
       "      <td>7.294770</td>\n",
       "      <td>80.728355</td>\n",
       "      <td>21.05830</td>\n",
       "      <td>2022-10-01</td>\n",
       "      <td>04:04:26</td>\n",
       "      <td>04:03:26</td>\n",
       "      <td>BT02</td>\n",
       "      <td>1.00</td>\n",
       "      <td>0.0</td>\n",
       "      <td>0.0</td>\n",
       "      <td>4</td>\n",
       "    </tr>\n",
       "  </tbody>\n",
       "</table>\n",
       "</div>"
      ],
      "text/plain": [
       "     deviceid  latitude  longitude     speed       date      time start_time  \\\n",
       "904       123  7.297508  80.732563   9.71923 2022-10-01  04:03:26   04:03:26   \n",
       "906       123  7.297348  80.731287  20.51840 2022-10-01  04:03:41   04:03:26   \n",
       "909       123  7.296578  80.730488  15.65880 2022-10-01  04:03:56   04:03:26   \n",
       "910       123  7.295580  80.729657  18.35850 2022-10-01  04:04:11   04:03:26   \n",
       "911       123  7.294770  80.728355  21.05830 2022-10-01  04:04:26   04:03:26   \n",
       "\n",
       "    start_terminal  travel_time  dwell_time  SITR  hour_of_the_day  \n",
       "904           BT02         0.00         0.0   0.0                4  \n",
       "906           BT02         0.25         0.0   0.0                4  \n",
       "909           BT02         0.50         0.0   0.0                4  \n",
       "910           BT02         0.75         0.0   0.0                4  \n",
       "911           BT02         1.00         0.0   0.0                4  "
      ]
     },
     "execution_count": 102,
     "metadata": {},
     "output_type": "execute_result"
    }
   ],
   "source": [
    "p = processed_data.copy()\n",
    "p = p[pd.notna(p[\"start_time\"])]\n",
    "p.head()"
   ]
  },
  {
   "cell_type": "code",
   "execution_count": null,
   "metadata": {},
   "outputs": [],
   "source": []
  }
 ],
 "metadata": {
  "kernelspec": {
   "display_name": "Python 3",
   "language": "python",
   "name": "python3"
  },
  "language_info": {
   "codemirror_mode": {
    "name": "ipython",
    "version": 3
   },
   "file_extension": ".py",
   "mimetype": "text/x-python",
   "name": "python",
   "nbconvert_exporter": "python",
   "pygments_lexer": "ipython3",
   "version": "3.11.2"
  },
  "orig_nbformat": 4
 },
 "nbformat": 4,
 "nbformat_minor": 2
}
