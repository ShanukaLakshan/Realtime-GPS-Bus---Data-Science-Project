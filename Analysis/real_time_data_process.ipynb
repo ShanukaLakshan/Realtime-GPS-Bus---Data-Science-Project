{
 "cells": [
  {
   "cell_type": "markdown",
   "metadata": {},
   "source": [
    "# **Real Time Data Processing**"
   ]
  },
  {
   "cell_type": "code",
   "execution_count": 1,
   "metadata": {},
   "outputs": [],
   "source": [
    "#import reqired libraries\n",
    "import math\n",
    "import pandas as pd\n",
    "import numpy as np\n",
    "from datetime import datetime"
   ]
  },
  {
   "cell_type": "code",
   "execution_count": 2,
   "metadata": {},
   "outputs": [],
   "source": [
    "real_time_data = pd.read_csv(\"../Raw GPS data Kandy Buses/digana_2022_10.csv\")"
   ]
  },
  {
   "cell_type": "code",
   "execution_count": 3,
   "metadata": {},
   "outputs": [
    {
     "data": {
      "text/plain": [
       "(978917, 6)"
      ]
     },
     "execution_count": 3,
     "metadata": {},
     "output_type": "execute_result"
    }
   ],
   "source": [
    "real_time_data.shape"
   ]
  },
  {
   "cell_type": "code",
   "execution_count": 4,
   "metadata": {},
   "outputs": [
    {
     "data": {
      "text/plain": [
       "id            0\n",
       "deviceid      0\n",
       "devicetime    0\n",
       "latitude      0\n",
       "longitude     0\n",
       "speed         0\n",
       "dtype: int64"
      ]
     },
     "execution_count": 4,
     "metadata": {},
     "output_type": "execute_result"
    }
   ],
   "source": [
    "real_time_data.isnull().sum()"
   ]
  },
  {
   "cell_type": "code",
   "execution_count": 5,
   "metadata": {},
   "outputs": [
    {
     "data": {
      "text/html": [
       "<div>\n",
       "<style scoped>\n",
       "    .dataframe tbody tr th:only-of-type {\n",
       "        vertical-align: middle;\n",
       "    }\n",
       "\n",
       "    .dataframe tbody tr th {\n",
       "        vertical-align: top;\n",
       "    }\n",
       "\n",
       "    .dataframe thead th {\n",
       "        text-align: right;\n",
       "    }\n",
       "</style>\n",
       "<table border=\"1\" class=\"dataframe\">\n",
       "  <thead>\n",
       "    <tr style=\"text-align: right;\">\n",
       "      <th></th>\n",
       "      <th>id</th>\n",
       "      <th>deviceid</th>\n",
       "      <th>devicetime</th>\n",
       "      <th>latitude</th>\n",
       "      <th>longitude</th>\n",
       "      <th>speed</th>\n",
       "    </tr>\n",
       "  </thead>\n",
       "  <tbody>\n",
       "    <tr>\n",
       "      <th>0</th>\n",
       "      <td>1453607164</td>\n",
       "      <td>116</td>\n",
       "      <td>2022-09-30 23:56:32</td>\n",
       "      <td>8.222097</td>\n",
       "      <td>80.522697</td>\n",
       "      <td>0.0000</td>\n",
       "    </tr>\n",
       "    <tr>\n",
       "      <th>1</th>\n",
       "      <td>1453607165</td>\n",
       "      <td>116</td>\n",
       "      <td>2022-09-30 23:56:47</td>\n",
       "      <td>8.222097</td>\n",
       "      <td>80.522697</td>\n",
       "      <td>0.0000</td>\n",
       "    </tr>\n",
       "    <tr>\n",
       "      <th>2</th>\n",
       "      <td>1453607166</td>\n",
       "      <td>116</td>\n",
       "      <td>2022-09-30 23:57:02</td>\n",
       "      <td>8.222097</td>\n",
       "      <td>80.522697</td>\n",
       "      <td>0.0000</td>\n",
       "    </tr>\n",
       "    <tr>\n",
       "      <th>3</th>\n",
       "      <td>1453607167</td>\n",
       "      <td>116</td>\n",
       "      <td>2022-09-30 23:57:13</td>\n",
       "      <td>8.221493</td>\n",
       "      <td>80.522667</td>\n",
       "      <td>16.1987</td>\n",
       "    </tr>\n",
       "    <tr>\n",
       "      <th>4</th>\n",
       "      <td>1453607168</td>\n",
       "      <td>116</td>\n",
       "      <td>2022-09-30 23:57:28</td>\n",
       "      <td>8.219942</td>\n",
       "      <td>80.522738</td>\n",
       "      <td>24.2981</td>\n",
       "    </tr>\n",
       "  </tbody>\n",
       "</table>\n",
       "</div>"
      ],
      "text/plain": [
       "           id  deviceid           devicetime  latitude  longitude    speed\n",
       "0  1453607164       116  2022-09-30 23:56:32  8.222097  80.522697   0.0000\n",
       "1  1453607165       116  2022-09-30 23:56:47  8.222097  80.522697   0.0000\n",
       "2  1453607166       116  2022-09-30 23:57:02  8.222097  80.522697   0.0000\n",
       "3  1453607167       116  2022-09-30 23:57:13  8.221493  80.522667  16.1987\n",
       "4  1453607168       116  2022-09-30 23:57:28  8.219942  80.522738  24.2981"
      ]
     },
     "execution_count": 5,
     "metadata": {},
     "output_type": "execute_result"
    }
   ],
   "source": [
    "real_time_data.head()"
   ]
  },
  {
   "cell_type": "markdown",
   "metadata": {},
   "source": [
    "# Data Preprocessing"
   ]
  },
  {
   "cell_type": "code",
   "execution_count": 6,
   "metadata": {},
   "outputs": [],
   "source": [
    "real_time_data.sort_values(by='devicetime', inplace=True)\n",
    "real_time_data = real_time_data[real_time_data['latitude'] != 0]\n",
    "real_time_data = real_time_data[real_time_data['longitude'] != 0]\n",
    "real_time_data = real_time_data[real_time_data['devicetime'] >=  '2022-10-01']\n",
    "real_time_data = real_time_data[real_time_data['devicetime'] <= '2022-10-31']\n",
    "real_time_data.drop(columns=['id'], inplace=True)\n",
    "real_time_data.reset_index(drop = True, inplace = True)"
   ]
  },
  {
   "cell_type": "code",
   "execution_count": 7,
   "metadata": {},
   "outputs": [
    {
     "data": {
      "text/html": [
       "<div>\n",
       "<style scoped>\n",
       "    .dataframe tbody tr th:only-of-type {\n",
       "        vertical-align: middle;\n",
       "    }\n",
       "\n",
       "    .dataframe tbody tr th {\n",
       "        vertical-align: top;\n",
       "    }\n",
       "\n",
       "    .dataframe thead th {\n",
       "        text-align: right;\n",
       "    }\n",
       "</style>\n",
       "<table border=\"1\" class=\"dataframe\">\n",
       "  <thead>\n",
       "    <tr style=\"text-align: right;\">\n",
       "      <th></th>\n",
       "      <th>deviceid</th>\n",
       "      <th>devicetime</th>\n",
       "      <th>latitude</th>\n",
       "      <th>longitude</th>\n",
       "      <th>speed</th>\n",
       "    </tr>\n",
       "  </thead>\n",
       "  <tbody>\n",
       "    <tr>\n",
       "      <th>0</th>\n",
       "      <td>116</td>\n",
       "      <td>2022-10-01 00:00:13</td>\n",
       "      <td>8.195475</td>\n",
       "      <td>80.525735</td>\n",
       "      <td>26.9979</td>\n",
       "    </tr>\n",
       "    <tr>\n",
       "      <th>1</th>\n",
       "      <td>116</td>\n",
       "      <td>2022-10-01 00:00:28</td>\n",
       "      <td>8.193405</td>\n",
       "      <td>80.525917</td>\n",
       "      <td>30.2376</td>\n",
       "    </tr>\n",
       "    <tr>\n",
       "      <th>2</th>\n",
       "      <td>116</td>\n",
       "      <td>2022-10-01 00:00:43</td>\n",
       "      <td>8.191373</td>\n",
       "      <td>80.526890</td>\n",
       "      <td>31.8575</td>\n",
       "    </tr>\n",
       "    <tr>\n",
       "      <th>3</th>\n",
       "      <td>116</td>\n",
       "      <td>2022-10-01 00:00:58</td>\n",
       "      <td>8.189095</td>\n",
       "      <td>80.527400</td>\n",
       "      <td>34.5572</td>\n",
       "    </tr>\n",
       "    <tr>\n",
       "      <th>4</th>\n",
       "      <td>116</td>\n",
       "      <td>2022-10-01 00:01:13</td>\n",
       "      <td>8.186705</td>\n",
       "      <td>80.527848</td>\n",
       "      <td>35.0972</td>\n",
       "    </tr>\n",
       "  </tbody>\n",
       "</table>\n",
       "</div>"
      ],
      "text/plain": [
       "   deviceid           devicetime  latitude  longitude    speed\n",
       "0       116  2022-10-01 00:00:13  8.195475  80.525735  26.9979\n",
       "1       116  2022-10-01 00:00:28  8.193405  80.525917  30.2376\n",
       "2       116  2022-10-01 00:00:43  8.191373  80.526890  31.8575\n",
       "3       116  2022-10-01 00:00:58  8.189095  80.527400  34.5572\n",
       "4       116  2022-10-01 00:01:13  8.186705  80.527848  35.0972"
      ]
     },
     "execution_count": 7,
     "metadata": {},
     "output_type": "execute_result"
    }
   ],
   "source": [
    "real_time_data.head()"
   ]
  },
  {
   "cell_type": "code",
   "execution_count": 8,
   "metadata": {},
   "outputs": [],
   "source": [
    "#Function finds whether the bus is inside the bus stations or not\n",
    "def isOutsideBusStation(lat, lon):\n",
    "    \n",
    "    lat = math.radians(lat)\n",
    "    lon = math.radians(lon)\n",
    "\n",
    "    lat_Kandy = math.radians(7.292462226)\n",
    "    lon_Kandy = math.radians(80.6349778)\n",
    "\n",
    "    lat_Digana = math.radians(7.29896)\n",
    "    lon_Digana = math.radians(80.73472)\n",
    "\n",
    "    delta_lat1 = lat_Kandy - lat\n",
    "    delta_lon1 = lon_Kandy - lon\n",
    "\n",
    "    delta_lat2 = lat_Digana - lat\n",
    "    delta_lon2 = lon_Digana - lon\n",
    "\n",
    "    # Haversine formula\n",
    "    a1 = math.sin(delta_lat1/2)**2 + math.cos(lat) * math.cos(lat_Kandy) * math.sin(delta_lon1/2)**2\n",
    "    c1 = 2 * math.atan2(math.sqrt(a1), math.sqrt(1-a1))\n",
    "\n",
    "    a2 = math.sin(delta_lat2/2)**2 + math.cos(lat) * math.cos(lat_Digana) * math.sin(delta_lon2/2)**2\n",
    "    c2 = 2 * math.atan2(math.sqrt(a2), math.sqrt(1-a2))\n",
    "\n",
    "    # Radius of the Earth in kilometers (mean value)\n",
    "    R = 6371.0\n",
    "\n",
    "    # Calculate the distance\n",
    "    distance1 = R * c1 * 1000\n",
    "    distance2 = R * c2 * 1000\n",
    "\n",
    "    if distance1 < 150 or distance2 < 150:\n",
    "        return False\n",
    "    return True"
   ]
  },
  {
   "cell_type": "code",
   "execution_count": 9,
   "metadata": {},
   "outputs": [],
   "source": [
    "processed_data = real_time_data.copy()\n",
    "#processed_data['startTime'] = None"
   ]
  },
  {
   "cell_type": "code",
   "execution_count": 10,
   "metadata": {},
   "outputs": [],
   "source": [
    "busStartTime = dict()"
   ]
  },
  {
   "cell_type": "code",
   "execution_count": 11,
   "metadata": {},
   "outputs": [],
   "source": [
    "#Function to find start time of each trip\n",
    "def findBusStartTime(row):\n",
    "    global busStartTime\n",
    " \n",
    "    if isOutsideBusStation(row['latitude'],row['longitude']):\n",
    "        if busStartTime.get(row['deviceid']) is not None:\n",
    "            return busStartTime.get(row['deviceid'])\n",
    "        else:\n",
    "            busStartTime[row['deviceid']]=row['devicetime']\n",
    "            return row['devicetime']\n",
    "\n",
    "    if row['deviceid'] in busStartTime:\n",
    "        busStartTime.pop(row['deviceid'])\n",
    "    return None "
   ]
  },
  {
   "cell_type": "code",
   "execution_count": 12,
   "metadata": {},
   "outputs": [],
   "source": [
    "processed_data['startTime'] = processed_data.apply(findBusStartTime,axis=1)"
   ]
  },
  {
   "cell_type": "code",
   "execution_count": 13,
   "metadata": {},
   "outputs": [
    {
     "data": {
      "text/html": [
       "<div>\n",
       "<style scoped>\n",
       "    .dataframe tbody tr th:only-of-type {\n",
       "        vertical-align: middle;\n",
       "    }\n",
       "\n",
       "    .dataframe tbody tr th {\n",
       "        vertical-align: top;\n",
       "    }\n",
       "\n",
       "    .dataframe thead th {\n",
       "        text-align: right;\n",
       "    }\n",
       "</style>\n",
       "<table border=\"1\" class=\"dataframe\">\n",
       "  <thead>\n",
       "    <tr style=\"text-align: right;\">\n",
       "      <th></th>\n",
       "      <th>deviceid</th>\n",
       "      <th>devicetime</th>\n",
       "      <th>latitude</th>\n",
       "      <th>longitude</th>\n",
       "      <th>speed</th>\n",
       "      <th>startTime</th>\n",
       "    </tr>\n",
       "  </thead>\n",
       "  <tbody>\n",
       "    <tr>\n",
       "      <th>0</th>\n",
       "      <td>116</td>\n",
       "      <td>2022-10-01 00:00:13</td>\n",
       "      <td>8.195475</td>\n",
       "      <td>80.525735</td>\n",
       "      <td>26.9979</td>\n",
       "      <td>2022-10-01 00:00:13</td>\n",
       "    </tr>\n",
       "    <tr>\n",
       "      <th>1</th>\n",
       "      <td>116</td>\n",
       "      <td>2022-10-01 00:00:28</td>\n",
       "      <td>8.193405</td>\n",
       "      <td>80.525917</td>\n",
       "      <td>30.2376</td>\n",
       "      <td>2022-10-01 00:00:13</td>\n",
       "    </tr>\n",
       "    <tr>\n",
       "      <th>2</th>\n",
       "      <td>116</td>\n",
       "      <td>2022-10-01 00:00:43</td>\n",
       "      <td>8.191373</td>\n",
       "      <td>80.526890</td>\n",
       "      <td>31.8575</td>\n",
       "      <td>2022-10-01 00:00:13</td>\n",
       "    </tr>\n",
       "    <tr>\n",
       "      <th>3</th>\n",
       "      <td>116</td>\n",
       "      <td>2022-10-01 00:00:58</td>\n",
       "      <td>8.189095</td>\n",
       "      <td>80.527400</td>\n",
       "      <td>34.5572</td>\n",
       "      <td>2022-10-01 00:00:13</td>\n",
       "    </tr>\n",
       "    <tr>\n",
       "      <th>4</th>\n",
       "      <td>116</td>\n",
       "      <td>2022-10-01 00:01:13</td>\n",
       "      <td>8.186705</td>\n",
       "      <td>80.527848</td>\n",
       "      <td>35.0972</td>\n",
       "      <td>2022-10-01 00:00:13</td>\n",
       "    </tr>\n",
       "  </tbody>\n",
       "</table>\n",
       "</div>"
      ],
      "text/plain": [
       "   deviceid           devicetime  latitude  longitude    speed  \\\n",
       "0       116  2022-10-01 00:00:13  8.195475  80.525735  26.9979   \n",
       "1       116  2022-10-01 00:00:28  8.193405  80.525917  30.2376   \n",
       "2       116  2022-10-01 00:00:43  8.191373  80.526890  31.8575   \n",
       "3       116  2022-10-01 00:00:58  8.189095  80.527400  34.5572   \n",
       "4       116  2022-10-01 00:01:13  8.186705  80.527848  35.0972   \n",
       "\n",
       "             startTime  \n",
       "0  2022-10-01 00:00:13  \n",
       "1  2022-10-01 00:00:13  \n",
       "2  2022-10-01 00:00:13  \n",
       "3  2022-10-01 00:00:13  \n",
       "4  2022-10-01 00:00:13  "
      ]
     },
     "execution_count": 13,
     "metadata": {},
     "output_type": "execute_result"
    }
   ],
   "source": [
    "processed_data.head()"
   ]
  },
  {
   "cell_type": "code",
   "execution_count": 14,
   "metadata": {},
   "outputs": [],
   "source": [
    "def timeDifference(t2,t1):\n",
    "\n",
    "    format_str = \"%Y-%m-%d %H:%M:%S\"\n",
    "    t1_datetime = datetime.strptime(t1, format_str)\n",
    "    t2_datetime = datetime.strptime(t2, format_str)\n",
    "\n",
    "    timediff = ((t2_datetime - t1_datetime).total_seconds())\n",
    "    return round((timediff/60),2)"
   ]
  },
  {
   "cell_type": "code",
   "execution_count": 15,
   "metadata": {},
   "outputs": [],
   "source": [
    "busDwellTime = dict()\n",
    "previousTimeStamp = dict()"
   ]
  },
  {
   "cell_type": "code",
   "execution_count": 16,
   "metadata": {},
   "outputs": [],
   "source": [
    "def findDwellTime(row):\n",
    "    global busDwellTime\n",
    "    global previousTimeStamp\n",
    "    \n",
    "    if isOutsideBusStation(row['latitude'],row['longitude']):\n",
    "        if row['speed'] == 0:\n",
    "\n",
    "            if busDwellTime.get(row['deviceid']) is not None:\n",
    "                busDwellTime[row['deviceid']]=busDwellTime[row['deviceid']]+timeDifference(row['devicetime'],previousTimeStamp[row['deviceid']])\n",
    "\n",
    "            elif previousTimeStamp.get(row['deviceid']) is not None:\n",
    "                busDwellTime[row['deviceid']]=timeDifference(row['devicetime'],previousTimeStamp[row['deviceid']])\n",
    "                \n",
    "            else:\n",
    "                busDwellTime[row['deviceid']]=0\n",
    "\n",
    "        elif busDwellTime.get(row['deviceid']) is None:\n",
    "            busDwellTime[row['deviceid']]=0\n",
    "    \n",
    "        previousTimeStamp[row['deviceid']] = row['devicetime']\n",
    "        return busDwellTime[row['deviceid']]\n",
    "\n",
    "    else:\n",
    "        if row['deviceid'] in busDwellTime:\n",
    "            busDwellTime.pop(row['deviceid'])\n",
    "        if row['deviceid'] in previousTimeStamp:\n",
    "            previousTimeStamp.pop(row['deviceid'])\n",
    "        return None"
   ]
  },
  {
   "cell_type": "code",
   "execution_count": 17,
   "metadata": {},
   "outputs": [],
   "source": [
    "processed_data['dwellTime'] = processed_data.apply(findDwellTime,axis=1)"
   ]
  },
  {
   "cell_type": "code",
   "execution_count": 18,
   "metadata": {},
   "outputs": [
    {
     "data": {
      "text/html": [
       "<div>\n",
       "<style scoped>\n",
       "    .dataframe tbody tr th:only-of-type {\n",
       "        vertical-align: middle;\n",
       "    }\n",
       "\n",
       "    .dataframe tbody tr th {\n",
       "        vertical-align: top;\n",
       "    }\n",
       "\n",
       "    .dataframe thead th {\n",
       "        text-align: right;\n",
       "    }\n",
       "</style>\n",
       "<table border=\"1\" class=\"dataframe\">\n",
       "  <thead>\n",
       "    <tr style=\"text-align: right;\">\n",
       "      <th></th>\n",
       "      <th>deviceid</th>\n",
       "      <th>devicetime</th>\n",
       "      <th>latitude</th>\n",
       "      <th>longitude</th>\n",
       "      <th>speed</th>\n",
       "      <th>startTime</th>\n",
       "      <th>dwellTime</th>\n",
       "    </tr>\n",
       "  </thead>\n",
       "  <tbody>\n",
       "    <tr>\n",
       "      <th>0</th>\n",
       "      <td>116</td>\n",
       "      <td>2022-10-01 00:00:13</td>\n",
       "      <td>8.195475</td>\n",
       "      <td>80.525735</td>\n",
       "      <td>26.9979</td>\n",
       "      <td>2022-10-01 00:00:13</td>\n",
       "      <td>0.0</td>\n",
       "    </tr>\n",
       "    <tr>\n",
       "      <th>1</th>\n",
       "      <td>116</td>\n",
       "      <td>2022-10-01 00:00:28</td>\n",
       "      <td>8.193405</td>\n",
       "      <td>80.525917</td>\n",
       "      <td>30.2376</td>\n",
       "      <td>2022-10-01 00:00:13</td>\n",
       "      <td>0.0</td>\n",
       "    </tr>\n",
       "    <tr>\n",
       "      <th>2</th>\n",
       "      <td>116</td>\n",
       "      <td>2022-10-01 00:00:43</td>\n",
       "      <td>8.191373</td>\n",
       "      <td>80.526890</td>\n",
       "      <td>31.8575</td>\n",
       "      <td>2022-10-01 00:00:13</td>\n",
       "      <td>0.0</td>\n",
       "    </tr>\n",
       "    <tr>\n",
       "      <th>3</th>\n",
       "      <td>116</td>\n",
       "      <td>2022-10-01 00:00:58</td>\n",
       "      <td>8.189095</td>\n",
       "      <td>80.527400</td>\n",
       "      <td>34.5572</td>\n",
       "      <td>2022-10-01 00:00:13</td>\n",
       "      <td>0.0</td>\n",
       "    </tr>\n",
       "    <tr>\n",
       "      <th>4</th>\n",
       "      <td>116</td>\n",
       "      <td>2022-10-01 00:01:13</td>\n",
       "      <td>8.186705</td>\n",
       "      <td>80.527848</td>\n",
       "      <td>35.0972</td>\n",
       "      <td>2022-10-01 00:00:13</td>\n",
       "      <td>0.0</td>\n",
       "    </tr>\n",
       "  </tbody>\n",
       "</table>\n",
       "</div>"
      ],
      "text/plain": [
       "   deviceid           devicetime  latitude  longitude    speed  \\\n",
       "0       116  2022-10-01 00:00:13  8.195475  80.525735  26.9979   \n",
       "1       116  2022-10-01 00:00:28  8.193405  80.525917  30.2376   \n",
       "2       116  2022-10-01 00:00:43  8.191373  80.526890  31.8575   \n",
       "3       116  2022-10-01 00:00:58  8.189095  80.527400  34.5572   \n",
       "4       116  2022-10-01 00:01:13  8.186705  80.527848  35.0972   \n",
       "\n",
       "             startTime  dwellTime  \n",
       "0  2022-10-01 00:00:13        0.0  \n",
       "1  2022-10-01 00:00:13        0.0  \n",
       "2  2022-10-01 00:00:13        0.0  \n",
       "3  2022-10-01 00:00:13        0.0  \n",
       "4  2022-10-01 00:00:13        0.0  "
      ]
     },
     "execution_count": 18,
     "metadata": {},
     "output_type": "execute_result"
    }
   ],
   "source": [
    "processed_data.head()"
   ]
  },
  {
   "cell_type": "code",
   "execution_count": 19,
   "metadata": {},
   "outputs": [],
   "source": [
    "def findTravelTime(row):\n",
    "    if row['startTime'] is not None:\n",
    "        return timeDifference(row['devicetime'],row['startTime'])\n",
    "    return None"
   ]
  },
  {
   "cell_type": "code",
   "execution_count": 20,
   "metadata": {},
   "outputs": [],
   "source": [
    "processed_data['travelTime'] = processed_data.apply(findTravelTime,axis=1)"
   ]
  },
  {
   "cell_type": "code",
   "execution_count": 21,
   "metadata": {},
   "outputs": [
    {
     "data": {
      "text/html": [
       "<div>\n",
       "<style scoped>\n",
       "    .dataframe tbody tr th:only-of-type {\n",
       "        vertical-align: middle;\n",
       "    }\n",
       "\n",
       "    .dataframe tbody tr th {\n",
       "        vertical-align: top;\n",
       "    }\n",
       "\n",
       "    .dataframe thead th {\n",
       "        text-align: right;\n",
       "    }\n",
       "</style>\n",
       "<table border=\"1\" class=\"dataframe\">\n",
       "  <thead>\n",
       "    <tr style=\"text-align: right;\">\n",
       "      <th></th>\n",
       "      <th>deviceid</th>\n",
       "      <th>devicetime</th>\n",
       "      <th>latitude</th>\n",
       "      <th>longitude</th>\n",
       "      <th>speed</th>\n",
       "      <th>startTime</th>\n",
       "      <th>dwellTime</th>\n",
       "      <th>travelTime</th>\n",
       "    </tr>\n",
       "  </thead>\n",
       "  <tbody>\n",
       "    <tr>\n",
       "      <th>0</th>\n",
       "      <td>116</td>\n",
       "      <td>2022-10-01 00:00:13</td>\n",
       "      <td>8.195475</td>\n",
       "      <td>80.525735</td>\n",
       "      <td>26.9979</td>\n",
       "      <td>2022-10-01 00:00:13</td>\n",
       "      <td>0.0</td>\n",
       "      <td>0.00</td>\n",
       "    </tr>\n",
       "    <tr>\n",
       "      <th>1</th>\n",
       "      <td>116</td>\n",
       "      <td>2022-10-01 00:00:28</td>\n",
       "      <td>8.193405</td>\n",
       "      <td>80.525917</td>\n",
       "      <td>30.2376</td>\n",
       "      <td>2022-10-01 00:00:13</td>\n",
       "      <td>0.0</td>\n",
       "      <td>0.25</td>\n",
       "    </tr>\n",
       "    <tr>\n",
       "      <th>2</th>\n",
       "      <td>116</td>\n",
       "      <td>2022-10-01 00:00:43</td>\n",
       "      <td>8.191373</td>\n",
       "      <td>80.526890</td>\n",
       "      <td>31.8575</td>\n",
       "      <td>2022-10-01 00:00:13</td>\n",
       "      <td>0.0</td>\n",
       "      <td>0.50</td>\n",
       "    </tr>\n",
       "    <tr>\n",
       "      <th>3</th>\n",
       "      <td>116</td>\n",
       "      <td>2022-10-01 00:00:58</td>\n",
       "      <td>8.189095</td>\n",
       "      <td>80.527400</td>\n",
       "      <td>34.5572</td>\n",
       "      <td>2022-10-01 00:00:13</td>\n",
       "      <td>0.0</td>\n",
       "      <td>0.75</td>\n",
       "    </tr>\n",
       "    <tr>\n",
       "      <th>4</th>\n",
       "      <td>116</td>\n",
       "      <td>2022-10-01 00:01:13</td>\n",
       "      <td>8.186705</td>\n",
       "      <td>80.527848</td>\n",
       "      <td>35.0972</td>\n",
       "      <td>2022-10-01 00:00:13</td>\n",
       "      <td>0.0</td>\n",
       "      <td>1.00</td>\n",
       "    </tr>\n",
       "  </tbody>\n",
       "</table>\n",
       "</div>"
      ],
      "text/plain": [
       "   deviceid           devicetime  latitude  longitude    speed  \\\n",
       "0       116  2022-10-01 00:00:13  8.195475  80.525735  26.9979   \n",
       "1       116  2022-10-01 00:00:28  8.193405  80.525917  30.2376   \n",
       "2       116  2022-10-01 00:00:43  8.191373  80.526890  31.8575   \n",
       "3       116  2022-10-01 00:00:58  8.189095  80.527400  34.5572   \n",
       "4       116  2022-10-01 00:01:13  8.186705  80.527848  35.0972   \n",
       "\n",
       "             startTime  dwellTime  travelTime  \n",
       "0  2022-10-01 00:00:13        0.0        0.00  \n",
       "1  2022-10-01 00:00:13        0.0        0.25  \n",
       "2  2022-10-01 00:00:13        0.0        0.50  \n",
       "3  2022-10-01 00:00:13        0.0        0.75  \n",
       "4  2022-10-01 00:00:13        0.0        1.00  "
      ]
     },
     "execution_count": 21,
     "metadata": {},
     "output_type": "execute_result"
    }
   ],
   "source": [
    "processed_data.head()"
   ]
  },
  {
   "cell_type": "code",
   "execution_count": 22,
   "metadata": {},
   "outputs": [],
   "source": [
    "def findSITR(row):\n",
    "    if row['travelTime'] is not None and row['travelTime']!=0:\n",
    "        return round((row['dwellTime']/row['travelTime']),3)\n",
    "    return 0"
   ]
  },
  {
   "cell_type": "code",
   "execution_count": 23,
   "metadata": {},
   "outputs": [],
   "source": [
    "processed_data[\"SITR\"] = processed_data.apply(findSITR,axis=1)"
   ]
  },
  {
   "cell_type": "code",
   "execution_count": 24,
   "metadata": {},
   "outputs": [],
   "source": [
    "processed_data = processed_data[(processed_data['SITR']<=1) | (pd.isnull(processed_data['SITR']))]\n",
    "processed_data = processed_data[(processed_data['travelTime']<=90) | (pd.isnull(processed_data['SITR']))]\n",
    "processed_data = processed_data[(processed_data['dwellTime']<=30) | (pd.isnull(processed_data['SITR']))]"
   ]
  },
  {
   "cell_type": "code",
   "execution_count": 26,
   "metadata": {},
   "outputs": [
    {
     "data": {
      "text/plain": [
       "deviceid          0\n",
       "devicetime        0\n",
       "latitude          0\n",
       "longitude         0\n",
       "speed             0\n",
       "startTime     89520\n",
       "dwellTime     89520\n",
       "travelTime    89520\n",
       "SITR          89520\n",
       "dtype: int64"
      ]
     },
     "execution_count": 26,
     "metadata": {},
     "output_type": "execute_result"
    }
   ],
   "source": [
    "processed_data.isnull().sum()"
   ]
  },
  {
   "cell_type": "code",
   "execution_count": 27,
   "metadata": {},
   "outputs": [],
   "source": [
    "processed_data.to_csv('processed_data.csv',index=False)"
   ]
  },
  {
   "cell_type": "code",
   "execution_count": null,
   "metadata": {},
   "outputs": [],
   "source": []
  }
 ],
 "metadata": {
  "kernelspec": {
   "display_name": "Python 3",
   "language": "python",
   "name": "python3"
  },
  "language_info": {
   "codemirror_mode": {
    "name": "ipython",
    "version": 3
   },
   "file_extension": ".py",
   "mimetype": "text/x-python",
   "name": "python",
   "nbconvert_exporter": "python",
   "pygments_lexer": "ipython3",
   "version": "3.11.2"
  },
  "orig_nbformat": 4
 },
 "nbformat": 4,
 "nbformat_minor": 2
}
